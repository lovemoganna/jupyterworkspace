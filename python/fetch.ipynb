{
 "cells": [
  {
   "cell_type": "markdown",
   "metadata": {},
   "source": [
    "```js\n",
    "fetch('http://localhost:3000/tasks/')\n",
    "  .then(function(response) {\n",
    "    return response.json()\n",
    "  }).then(function(json) {\n",
    "    console.log('parsed json: ', json)\n",
    "  }).catch(function(ex) {\n",
    "    console.log('parsing failed: ', ex)\n",
    "  });\n",
    "```"
   ]
  },
  {
   "cell_type": "markdown",
   "metadata": {},
   "source": [
    "```js\n",
    "fetch('http://localhost:3000/tasks/', {\n",
    "  method: 'post',\n",
    "  headers: {\n",
    "    'Accept': 'application/json',\n",
    "    'Content-Type': 'application/json'\n",
    "  },\n",
    "  body: JSON.stringify({\n",
    "       \"title\":   \"Add a blogpost about Angular2\",\n",
    "       \"dueDate\": \"2015-05-23T18:25:43.511Z\",\n",
    "       \"done\": false\n",
    "   })\n",
    "}).then(function(response) {\n",
    "      return response.json()\n",
    "    }).then(function(json) {\n",
    "      console.log('parsed json: ', json)\n",
    "    }).catch(function(ex) {\n",
    "      console.log('parsing failed: ', ex)\n",
    "    });\n",
    "```"
   ]
  },
  {
   "cell_type": "markdown",
   "metadata": {},
   "source": [
    "```js\n",
    "fetch('http://localhost:3000/tasks/1', {\n",
    "  method: 'put',\n",
    "  headers: {\n",
    "    'Accept': 'application/json',\n",
    "    'Content-Type': 'application/json'\n",
    "  },\n",
    "  body: JSON.stringify({\n",
    "       \"done\": true\n",
    "   })\n",
    "}).then(function(response) {\n",
    "      return response.json()\n",
    "    }).then(function(json) {\n",
    "      console.log('parsed json: ', json)\n",
    "    }).catch(function(ex) {\n",
    "      console.log('parsing failed: ', ex)\n",
    "    });\n",
    "    \n",
    "```"
   ]
  }
 ],
 "metadata": {
  "kernelspec": {
   "display_name": "Python 3",
   "language": "python",
   "name": "python3"
  },
  "language_info": {
   "codemirror_mode": {
    "name": "ipython",
    "version": 3
   },
   "file_extension": ".py",
   "mimetype": "text/x-python",
   "name": "python",
   "nbconvert_exporter": "python",
   "pygments_lexer": "ipython3",
   "version": "3.6.1"
  }
 },
 "nbformat": 4,
 "nbformat_minor": 2
}
