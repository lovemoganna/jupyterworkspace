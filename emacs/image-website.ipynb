{
 "cells": [
  {
   "cell_type": "markdown",
   "metadata": {},
   "source": [
    "## Pixabay\n",
    "\n",
    "## unsplash \n",
    "\n",
    "## StockSnap\n",
    "\n",
    "## Flickr\n",
    "\n",
    "## Pexels\n",
    "\n",
    "## Death to the Stock Photo"
   ]
  },
  {
   "cell_type": "markdown",
   "metadata": {},
   "source": [
    "## So Beautiful UI "
   ]
  },
  {
   "cell_type": "markdown",
   "metadata": {},
   "source": [
    "Address: https://dribbble.com/shots/3671460-Album-Radial-Interaction"
   ]
  }
 ],
 "metadata": {
  "kernelspec": {
   "display_name": "Javascript (Node.js)",
   "language": "javascript",
   "name": "javascript"
  },
  "language_info": {
   "file_extension": ".js",
   "mimetype": "application/javascript",
   "name": "javascript",
   "version": "8.9.2"
  }
 },
 "nbformat": 4,
 "nbformat_minor": 2
}
