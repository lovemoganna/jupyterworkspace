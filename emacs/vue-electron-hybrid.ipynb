{
 "cells": [
  {
   "cell_type": "markdown",
   "metadata": {},
   "source": [
    "## install yarn "
   ]
  },
  {
   "cell_type": "markdown",
   "metadata": {},
   "source": [
    "https://yarnpkg.com/zh-Hans/docs/usage"
   ]
  },
  {
   "cell_type": "markdown",
   "metadata": {},
   "source": [
    "## install Vue-cli"
   ]
  },
  {
   "cell_type": "markdown",
   "metadata": {},
   "source": [
    "`yarn global add @vue/cli`"
   ]
  },
  {
   "cell_type": "markdown",
   "metadata": {},
   "source": [
    "## install Electron "
   ]
  },
  {
   "cell_type": "markdown",
   "metadata": {},
   "source": [
    "### vue-cli-plugin-electron-builder\n",
    "\n",
    "https://github.com/nklayman/vue-cli-plugin-electron-builder\n",
    "\n",
    "`vue add electron-builder`"
   ]
  },
  {
   "cell_type": "code",
   "execution_count": null,
   "metadata": {},
   "outputs": [],
   "source": []
  }
 ],
 "metadata": {
  "kernelspec": {
   "display_name": "Python 3",
   "language": "python",
   "name": "python3"
  },
  "language_info": {
   "codemirror_mode": {
    "name": "ipython",
    "version": 3
   },
   "file_extension": ".py",
   "mimetype": "text/x-python",
   "name": "python",
   "nbconvert_exporter": "python",
   "pygments_lexer": "ipython3",
   "version": "3.6.1"
  }
 },
 "nbformat": 4,
 "nbformat_minor": 2
}
