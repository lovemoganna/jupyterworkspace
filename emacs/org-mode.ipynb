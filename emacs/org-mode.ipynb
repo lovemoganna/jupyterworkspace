{
 "cells": [
  {
   "cell_type": "markdown",
   "metadata": {},
   "source": [
    "## Emacs 入门配置\n",
    "\n",
    "https://simpletutorials.com/c/2878/How+to+comment-uncomment+code+in+Spacemacs"
   ]
  },
  {
   "cell_type": "markdown",
   "metadata": {},
   "source": [
    "## spell-check\n",
    "\n",
    "```table\n",
    "键绑定\t 描述\n",
    "SPC S b\tflyspell整个缓冲区\n",
    "SPC S c\tflyspell 查找正确的单词\n",
    "SPC S d\t改变字典\n",
    "SPC S n\tflyspell转到下一个错误\n",
    "SPC t S\t切换flyspell\n",
    "```"
   ]
  },
  {
   "cell_type": "markdown",
   "metadata": {},
   "source": [
    "## Neotree "
   ]
  },
  {
   "cell_type": "markdown",
   "metadata": {},
   "source": [
    "`SPC f t`"
   ]
  },
  {
   "cell_type": "markdown",
   "metadata": {},
   "source": [
    "## ORG-MODE\n",
    "[参考文章](https://meta.caspershire.net/spacemacs-and-org-mode/)"
   ]
  },
  {
   "cell_type": "markdown",
   "metadata": {},
   "source": [
    "`t` --切换状态\n",
    "\n",
    "`SPC-m-p` 倒计时"
   ]
  },
  {
   "cell_type": "markdown",
   "metadata": {},
   "source": [
    "- `SPC-?` - 查看快捷键\n",
    "- SPC m c 进入capture\n",
    "- SPC m RET 输入一级标题\n",
    "- SPC m s 开始时间\n",
    "- SPC m d 结束时间\n",
    "- SPC m a a \n",
    "    + w 一周的安排\n",
    "    + d 一天的安排\n"
   ]
  },
  {
   "cell_type": "markdown",
   "metadata": {},
   "source": [
    "`SPc a L` -- 打开日志系统,安装`command-log`"
   ]
  },
  {
   "cell_type": "markdown",
   "metadata": {},
   "source": [
    "- `SPC f r` 复制路径\n",
    "\n",
    "- `SPC p f` 查找项目中的文件\n",
    "\n",
    "- `SPc t S` 拼写检查\n"
   ]
  },
  {
   "cell_type": "markdown",
   "metadata": {},
   "source": [
    "- `SPC TAB`  -- 来回切换buffer\n",
    "- `SPC b d`  -- kill buffer\n",
    "- `, C p` -- 番茄时间!\n",
    "\n",
    "从草草哦啊从哦啊哦哦草草草哦啊从哦草哦啊从草草哦擦!!!\n",
    "\n",
    "- `C-c [` 添加到agenda里面,折磨我很久的,这个鬼东西.\n",
    "\n",
    "- `C-c ]` 从agenda里面移除"
   ]
  },
  {
   "cell_type": "markdown",
   "metadata": {},
   "source": [
    "`, t n`插入表格\n"
   ]
  },
  {
   "cell_type": "markdown",
   "metadata": {},
   "source": [
    "## 写标题\n",
    "```text\n",
    "#+TITLE: Twitter contribution layer for Spacemacs\n",
    "```"
   ]
  },
  {
   "cell_type": "markdown",
   "metadata": {},
   "source": [
    "## 插入图片的格式"
   ]
  },
  {
   "cell_type": "markdown",
   "metadata": {},
   "source": [
    "```\n",
    "[[file:imageurl]]\n",
    "```"
   ]
  },
  {
   "cell_type": "markdown",
   "metadata": {},
   "source": [
    "## 进度"
   ]
  },
  {
   "cell_type": "markdown",
   "metadata": {},
   "source": [
    "```\n",
    "[-] xxx [50%]\n",
    "    + [X] xxx\n",
    "    + [ ] xxx2\n",
    "```\n",
    "    \n",
    "[%]或者[/] 按`, T s`就会显示进度    "
   ]
  },
  {
   "cell_type": "markdown",
   "metadata": {},
   "source": [
    "## 删除导出文件的日期和作者\n",
    "\n",
    "`#+OPTIONS: author:nil date:nil`"
   ]
  },
  {
   "cell_type": "markdown",
   "metadata": {},
   "source": [
    "## 有那个自动补全的按键.\n",
    "\n",
    "```\n",
    "<ta --table\n",
    "<vi --video\n",
    "<da --date \n",
    "<im --image\n",
    "<c -- center\n",
    "\n",
    "```"
   ]
  },
  {
   "cell_type": "markdown",
   "metadata": {},
   "source": [
    "## Latex"
   ]
  },
  {
   "cell_type": "markdown",
   "metadata": {},
   "source": [
    "[userful_link](https://www.overleaf.com/learn/latex/TikZ_package)"
   ]
  }
 ],
 "metadata": {
  "kernelspec": {
   "display_name": "Javascript (Node.js)",
   "language": "javascript",
   "name": "javascript"
  },
  "language_info": {
   "file_extension": ".js",
   "mimetype": "application/javascript",
   "name": "javascript",
   "version": "8.9.2"
  }
 },
 "nbformat": 4,
 "nbformat_minor": 2
}
