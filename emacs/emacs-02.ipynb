{
 "cells": [
  {
   "cell_type": "markdown",
   "metadata": {},
   "source": [
    "## emacs-day2"
   ]
  },
  {
   "cell_type": "code",
   "execution_count": null,
   "metadata": {},
   "outputs": [],
   "source": []
  },
  {
   "cell_type": "code",
   "execution_count": null,
   "metadata": {},
   "outputs": [],
   "source": []
  },
  {
   "cell_type": "code",
   "execution_count": 27,
   "metadata": {},
   "outputs": [
    {
     "data": {
      "text/html": [
       "<iframe width=\"750\" height=\"420\" src=\"https://www.youtube.com/embed/l6TzOIlS8Ec?list=PLqQgufb9_uJeSg3ChhgcDHD9C5MbZSCal\" frameborder=\"0\" allow=\"autoplay; encrypted-media\" allowfullscreen></iframe>"
      ],
      "text/plain": [
       "<IPython.core.display.HTML object>"
      ]
     },
     "execution_count": 27,
     "metadata": {},
     "output_type": "execute_result"
    }
   ],
   "source": [
    "from IPython.display import HTML\n",
    "\n",
    "HTML('<iframe width=\"750\" height=\"420\" src=\"https://www.youtube.com/embed/l6TzOIlS8Ec?list=PLqQgufb9_uJeSg3ChhgcDHD9C5MbZSCal\" frameborder=\"0\" allow=\"autoplay; encrypted-media\" allowfullscreen></iframe>')"
   ]
  },
  {
   "cell_type": "markdown",
   "metadata": {},
   "source": [
    "## 操作\n",
    "\n",
    "- 分屏操作: `ctrl-x 3` or `ctrl-x 2`"
   ]
  },
  {
   "cell_type": "markdown",
   "metadata": {},
   "source": [
    "C-x C-e 查看最近打开的文件\n",
    "\n",
    "`<s + tab` 快速补充\n",
    "\n",
    "创建一个文件 `C-x f`"
   ]
  },
  {
   "cell_type": "markdown",
   "metadata": {},
   "source": [
    "## package System"
   ]
  },
  {
   "cell_type": "markdown",
   "metadata": {},
   "source": [
    "```lisp\n",
    "(when (>= emacs-major-version 24)\n",
    "  (require 'package)\n",
    "  (package-initialize)\n",
    "  (add-to-list 'package-archives '(\"melpa\" . \"http://melpa.org/packages/\") t)\n",
    "  )\n",
    "(require 'cl)\n",
    "\n",
    ";;add whatever packages you want here\n",
    "(defvar luoyupiaoshang/packages '(\n",
    "                          company\n",
    "                      \n",
    "              )  \"Default packages\")\n",
    "\n",
    "(defun luoyupiaoshang/packages-installed-p ()\n",
    "  (loop for pkg in luoyupiaoshang/packages\n",
    "        when (not (package-installed-p pkg)) do (return nil)\n",
    "        finally (return t)))\n",
    "\n",
    "(unless (luoyupiaoshang/packages-installed-p)\n",
    "  (message \"%s\" \"Refreshing package database...\")\n",
    "  (package-refresh-contents)\n",
    "  (dolist (pkg luoyupiaoshang/packages)\n",
    "    (when (not (package-installed-p pkg))\n",
    "      (package-install pkg))))\n",
    "```"
   ]
  },
  {
   "cell_type": "markdown",
   "metadata": {},
   "source": [
    "## search package \n",
    "\n",
    "- M-x package-list-packages \n",
    "- C-s  搜索你想找的包\n",
    "- C-s  继续找你想找打包\n",
    "- i 选中安装包\n",
    "- d 删除包\n",
    "- u 更新包,\n",
    "- x 执行操作"
   ]
  },
  {
   "cell_type": "markdown",
   "metadata": {},
   "source": [
    "## web-mode"
   ]
  },
  {
   "cell_type": "markdown",
   "metadata": {},
   "source": [
    "- M-; -- 添加注释"
   ]
  },
  {
   "cell_type": "markdown",
   "metadata": {},
   "source": [
    "## js2-refactor"
   ]
  },
  {
   "cell_type": "markdown",
   "metadata": {},
   "source": [
    "选中范围.\n",
    "\n",
    "按`C-c RET`,然后输入`em`,输入重构的函数名,就搞定了."
   ]
  },
  {
   "cell_type": "markdown",
   "metadata": {},
   "source": [
    "## web-mode"
   ]
  },
  {
   "cell_type": "markdown",
   "metadata": {},
   "source": [
    "```emacs-lisp\n",
    "(use-package web-mode\n",
    ":ensure t\n",
    ":config\n",
    "(add-to-list 'auto-mode-alist '(\"\\\\.html?\\\\'\" . web-mode))\n",
    "(setq web-mode-engines-alist\n",
    "'((\"django\"    . \"\\\\.html\\\\'\")))\n",
    "(setq web-mode-ac-sources-alist\n",
    "'((\"css\" . (ac-source-css-property))\n",
    "(\"html\" . (ac-source-words-in-buffer ac-source-abbrev))))\n",
    "\n",
    "(setq web-mode-enable-auto-closing t)\n",
    "(setq web-mode-enable-auto-quoting t)) ; this fixes the quote problem I mentioned\n",
    "```\n",
    "\n",
    "似乎不起作用"
   ]
  },
  {
   "cell_type": "markdown",
   "metadata": {},
   "source": [
    "## occur"
   ]
  },
  {
   "cell_type": "markdown",
   "metadata": {},
   "source": [
    "- M-s o \n",
    "- e 直接进入编辑模式"
   ]
  },
  {
   "cell_type": "markdown",
   "metadata": {},
   "source": [
    "## imenu \n",
    "- M-s i - 快速定位函数位置"
   ]
  },
  {
   "cell_type": "markdown",
   "metadata": {},
   "source": []
  },
  {
   "cell_type": "markdown",
   "metadata": {},
   "source": [
    "[解决链接](https://github.com/magnars/expand-region.el/issues/28)\n",
    "\n",
    "[解决链接](https://github.com/magnars/expand-region.el/issues/59)\n",
    "\n",
    "看的最后一个哥们的."
   ]
  },
  {
   "cell_type": "markdown",
   "metadata": {},
   "source": [
    "## 前面的几个的综合操作"
   ]
  },
  {
   "cell_type": "markdown",
   "metadata": {},
   "source": [
    "注意光标的位置,先按 `M-s o`进入多选模式,然后再按`M-s e`,直接多选编辑即可."
   ]
  },
  {
   "cell_type": "markdown",
   "metadata": {},
   "source": [
    "## org导出"
   ]
  },
  {
   "cell_type": "markdown",
   "metadata": {},
   "source": [
    "使用 `C-c C-e` 可以将 Org-mode 文档导出为你需要的格式，例如 HTML 或者 PDF 文件。 你现在看到的这本教程就是由 `Org-mode` 所导出生成的。"
   ]
  },
  {
   "cell_type": "markdown",
   "metadata": {},
   "source": [
    "## Org-mode 记笔记"
   ]
  },
  {
   "cell_type": "markdown",
   "metadata": {},
   "source": [
    "`C-c r`,完毕之后,`C-c C-c`是结束.`C-c C-w`是完成."
   ]
  },
  {
   "cell_type": "markdown",
   "metadata": {},
   "source": [
    "## centos查看时区"
   ]
  },
  {
   "cell_type": "markdown",
   "metadata": {},
   "source": [
    "`timedatectl set-timezone Asia/shanghai`\n",
    "\n",
    "\n",
    "直接修改时区得了.\n",
    "```\n",
    "➜  .emacs.d git:(master) ✗ ls -l /etc/localtime\n",
    "lrwxrwxrwx. 1 root root 38 Mar 13  2017 /etc/localtime -> ../usr/share/zoneinfo/America/New_York\n",
    "\n",
    "\n",
    "```\n",
    "\n",
    "[参考文章](https://www.jianshu.com/p/3047beeea5b2)"
   ]
  },
  {
   "cell_type": "markdown",
   "metadata": {},
   "source": [
    "## EMACS设置UTF-8的编码"
   ]
  },
  {
   "cell_type": "markdown",
   "metadata": {},
   "source": [
    "`(set-language-environment \"UTF-8\")`"
   ]
  },
  {
   "cell_type": "markdown",
   "metadata": {},
   "source": [
    "## git remote pull master dev content merge to local develop master dev "
   ]
  },
  {
   "cell_type": "markdown",
   "metadata": {},
   "source": [
    "`git fetch emacs master`,emacs是当初我拉取远程仓库时起的别名\n",
    "\n",
    "- 需要你写一个合并的理由\n",
    "\n",
    "`git merge FETCH_HEAD`"
   ]
  },
  {
   "cell_type": "markdown",
   "metadata": {},
   "source": [
    "- git fetch相当于git fetch origin master:master（来自分支配置的默认值），因此它将更新远程跟踪分支：为您指定refspec的目标。\n",
    "    \n",
    "- git fetch origin master等同于“ git fetch origin master:”，而不是“ git fetch origin master:master”; 它存储了' master'分支（远程' origin'）的获取值FETCH_HEAD，而不是master'分支或远程跟踪remotes/origin/master'分支    \n",
    "\n",
    "\n",
    "## git创建tags\n",
    "\n",
    "- `git tag (tagName)`  创建tag\n",
    "- `git tag`(查看tag)\n",
    "- `git push <origin> --tags`  (远程推送tag)    \n",
    "\n",
    "## git 查看提交日志\n",
    "\n",
    "- `git log -p -2` 查看最近的2次提交\n",
    "\n",
    "## git 查看代码的变动情况\n",
    "\n",
    "\n",
    "- `git log --stat` 比较每次提交的文件差异\n",
    "- `git log --pretty=oneline` 列出每次提交的内容\n",
    "- `git log --pretty=format:\"%h - %an, %ar : %s\"` 匹配作者,过去的提交时间以及提交内容\n",
    "    \n",
    "    \n",
    "[参考链接](https://blog.csdn.net/wh_19910525/article/details/7468549?utm_source=blogxgwz2)\n",
    "\n",
    "## git日志高亮显示\n",
    "\n",
    "`git config --global color.ui auto`\n",
    "\n",
    "[参考链接](https://stackoverflow.com/questions/10998792/how-to-color-the-git-console)"
   ]
  },
  {
   "cell_type": "markdown",
   "metadata": {},
   "source": [
    "## 切换到上级目录"
   ]
  },
  {
   "cell_type": "markdown",
   "metadata": {},
   "source": [
    "`Shift-6`"
   ]
  },
  {
   "cell_type": "markdown",
   "metadata": {},
   "source": [
    "## 更改文件名"
   ]
  },
  {
   "cell_type": "markdown",
   "metadata": {},
   "source": [
    "`C-x C-q`进入编辑模式,就可以直接编辑了"
   ]
  },
  {
   "cell_type": "markdown",
   "metadata": {},
   "source": [
    "## 批量更改文件名"
   ]
  },
  {
   "cell_type": "markdown",
   "metadata": {},
   "source": [
    "`C-x C-q`进入编辑模式,然后需要你用`C-@`来选中你想更改的部分.然后`M-s e`来做多项操作"
   ]
  },
  {
   "cell_type": "markdown",
   "metadata": {},
   "source": [
    "## 安装搜素工具`sliversearch-ag`"
   ]
  },
  {
   "cell_type": "markdown",
   "metadata": {},
   "source": [
    "centos下的操作\n",
    "\n",
    "```shell\n",
    " yum -y groupinstall \"Development Tools\"\n",
    " yum -y install pcre-devel xz-devel\n",
    "```\n",
    "\n",
    "因为不支持,所以手动编译吧.\n",
    "\n",
    "运行`./build` ,`make install`,就行了.\n",
    "\n",
    "`C-c p s` ,搜索的时候,后面加上`!xxx`是你不想要的东西\n",
    "\n",
    "然后`C-c C-e`进入里面,再然后`C-@`选中你希望选中的.再然后就是`M-s e`来进行多个替换,很刺激的哦."
   ]
  },
  {
   "cell_type": "markdown",
   "metadata": {},
   "source": [
    "## 安装`DNF`"
   ]
  },
  {
   "cell_type": "markdown",
   "metadata": {},
   "source": [
    "[参考链接](https://www.ostechnix.com/install-dnf-centos-7/)\n"
   ]
  },
  {
   "cell_type": "markdown",
   "metadata": {},
   "source": [
    "## linkmoji"
   ]
  },
  {
   "cell_type": "markdown",
   "metadata": {},
   "source": [
    "  http://linkmoji.co/🐜🍞🎩🍈🍍🐇👈✅\n",
    "  \n",
    "   [🐩🌰🐮🏂🍾🍏🎡🌊.🍕💩](http://🐩🌰🐮🏂🍾🍏🎡🌊.🍕💩.ws)"
   ]
  },
  {
   "cell_type": "markdown",
   "metadata": {},
   "source": [
    "## MovieDB\n",
    "\n",
    "[美剧天堂](https://www.themoviedb.org/)\n",
    "\n",
    "没有使用价值,算是一个观影指南吧.\n",
    "\n",
    "[原始轮子](https://github.com/streamaserver/streama)\n",
    "\n",
    "这个可以好好玩玩.上传个视频什么的.\n"
   ]
  },
  {
   "cell_type": "markdown",
   "metadata": {},
   "source": [
    "## nvm设置默认版本"
   ]
  },
  {
   "cell_type": "markdown",
   "metadata": {},
   "source": [
    "`nvm alias default 0.10.32`"
   ]
  },
  {
   "cell_type": "markdown",
   "metadata": {},
   "source": [
    "## eslint & flycheck"
   ]
  },
  {
   "cell_type": "markdown",
   "metadata": {},
   "source": [
    "[参考文章](https://github.com/flycheck/flycheck/issues/1384)\n",
    "\n",
    "如果没有上面的问题,那你就跟我一样犯迷糊了.\n",
    "\n",
    "迷糊了半天,需要你初始化node环境,并且自动安装`eslint --init`.有一个\n",
    "\n",
    "然后 `M-x flycheck-verify-setup`,查看eslint是否激活.\n",
    "\n",
    "查看错误列表 `flycheck-list-errors`\n",
    "\n",
    "\n",
    "他这个配置很有意思.反正就是注重空格,双引号还是单引号了,还有就是末尾的分号加不加了.等等"
   ]
  },
  {
   "cell_type": "markdown",
   "metadata": {},
   "source": [
    "\n",
    "\n",
    "\n",
    "\n",
    "\n"
   ]
  },
  {
   "cell_type": "markdown",
   "metadata": {},
   "source": [
    "## Evil"
   ]
  },
  {
   "cell_type": "markdown",
   "metadata": {},
   "source": [
    "- `C-d`  往下翻页\n",
    "\n",
    "- `C-u`  往上翻页(不起作用)\n",
    "\n",
    "- `gg` 回到开头\n",
    "\n",
    "- `GG` 回到结尾\n",
    "\n",
    "- `vsp` 垂直分屏"
   ]
  },
  {
   "cell_type": "markdown",
   "metadata": {},
   "source": [
    "## Evil-leader"
   ]
  },
  {
   "cell_type": "markdown",
   "metadata": {},
   "source": [
    "- `M-x customize-group evil-leader` 将 主键`/`修改成`SPC`\n",
    "\n",
    "然后写入\n",
    "\n",
    "```emacs-lisp\n",
    ";;- config evil-leader\n",
    "(global-evil-leader-mode)\n",
    "\n",
    "(evil-leader/set-key\n",
    "  \"e\" 'find-file\n",
    "  \"b\" 'switch-to-buffer\n",
    "  \"k\" 'kill-buffer)\n",
    "```\n",
    " `SPC e` - 查找buffer\n",
    " \n",
    " `SPC b` - 跳转buffer\n",
    " \n",
    " `SPC k` - 删除buffer\n",
    " \n",
    " `C-d`   - 往下翻页"
   ]
  },
  {
   "cell_type": "markdown",
   "metadata": {},
   "source": [
    "## 跳转窗口-window-number"
   ]
  },
  {
   "cell_type": "markdown",
   "metadata": {},
   "source": [
    "`C-x o` 一直是我用来切换窗口的工具.但是我用的很不爽.\n",
    "\n",
    "所以我们使用`window-number`来搞.\n",
    "\n",
    "[参考链接](https://github.com/nschum/window-numbering.el/tree/10809b3993a97c7b544240bf5d7ce9b1110a1b89)\n",
    "\n",
    "然后你就可以用`M-1` `M-2`来切换窗口了.\n",
    "\n",
    "```emacs-lisp\n",
    "(evil-leader/set-key\n",
    "  \"f\" 'find-file ;;-查找文件\n",
    "  \"b\" 'switch-to-buffer ;;- 跳转buffer\n",
    "  \"0\"  'select-window-0 ;;- 跳转窗口\n",
    "  \"1\"  'select-window-1\n",
    "  \"2\"  'select-window-2\n",
    "  \"3\"  'select-window-3\n",
    "  \"w/\" 'split-window-right ;;- 往右侧切割窗口\n",
    "  \"w-\" 'split-window-below ;;- 往左侧切割窗口\n",
    "  \":\"  'counsel-M-x ;;- 快速调出 M-x\n",
    "  \"wm\" 'delete-other-windows ;;- 删除别的所有窗口,只留下一个窗口\n",
    "  )\n",
    "```\n",
    "\n",
    "让你爽到无法呼吸.\n",
    "\n",
    "然后你退出emacs,只需要用`vim`的方式就可以退出了.`ESC`,输入`q`.就会直接退出了.\n",
    "\n",
    "\n"
   ]
  },
  {
   "cell_type": "markdown",
   "metadata": {},
   "source": [
    "## evil-surround"
   ]
  },
  {
   "cell_type": "markdown",
   "metadata": {},
   "source": [
    "`v`选中,然后再按`S(`就可以给单词添加括号了.\n",
    "             \n",
    "`g v` 恢复上一次选中的按钮."
   ]
  },
  {
   "cell_type": "markdown",
   "metadata": {},
   "source": [
    "## 安装emmet-mode\n",
    "[参考链接](https://github.com/emacsmirror/emmet-mode)\n",
    "\n",
    "`C-j`直接展开了.\n"
   ]
  },
  {
   "cell_type": "markdown",
   "metadata": {},
   "source": [
    "## Vim的基本操作"
   ]
  },
  {
   "cell_type": "markdown",
   "metadata": {},
   "source": [
    "- `w` -移动到下一个单词的开头\n",
    "\n",
    "- `3w` -往后面走3个单词\n",
    "\n",
    "- `e` - 移动的下一个单词的结尾\n",
    "\n",
    "- `b` - 找前面的一个单词"
   ]
  },
  {
   "cell_type": "markdown",
   "metadata": {},
   "source": [
    "## Which key\n",
    "\n",
    "直接安装就可以了."
   ]
  },
  {
   "cell_type": "markdown",
   "metadata": {},
   "source": [
    "## Enhance JavaScript"
   ]
  },
  {
   "cell_type": "markdown",
   "metadata": {},
   "source": [
    "## xref-js2"
   ]
  },
  {
   "cell_type": "markdown",
   "metadata": {},
   "source": [
    "[github地址](https://github.com/NicolasPetton/xref-js2)\n",
    "\n",
    "[Reference Address](https://emacs.cafe/emacs/javascript/setup/2017/04/23/emacs-setup-javascript.html)\n",
    "\n",
    "`M-?` 查找所有函数和变量,然后就会出现一个窗口供你选择.\n",
    "\n",
    "`M-,` 让你回到原来的地方.\n",
    "\n",
    "`M-.` 这个是绑定的键.但是似乎没什么用.\n",
    "\n",
    "`M-;` 添加注释\n",
    "\n",
    "`C-z` 别的地方不管用,只有在`JS`环境下才管用.他定义为快速切换.\n",
    "\n",
    "\n",
    " 写文档的时候,你要手快了,可能不保存的."
   ]
  },
  {
   "cell_type": "markdown",
   "metadata": {},
   "source": [
    "## auto-yasnippet的使用\n",
    "\n",
    "`C-@` 选中目标对象\n",
    "\n",
    "1.加波浪线\n",
    "\n",
    "```text\n",
    "(add-to-list 'path~AA 'xxx~AA)                                                              \n",
    "                                                                                            \n",
    "(add-to-list 'pathAA 'xxxAA)                                                                \n",
    "                                                                                            \n",
    "(add-to-list 'pathAA 'xxxAA)\n",
    "```\n",
    "\n",
    "2.调用`aya-create`,波浪线消失了. `M-w`\n",
    "\n",
    "3.调用`aya-expand`,你就可以输入你想要的东西了. `M-y`"
   ]
  },
  {
   "cell_type": "markdown",
   "metadata": {},
   "source": [
    "## expand-region\n",
    "\n",
    "`C-space ` 进入标记模式.\n",
    "\n",
    "但是centos下是`C-M-SPC` or `C-@`\n",
    "\n",
    "`C-=` 一直按.在我这不管用.\n",
    "\n",
    "我就直接使用`C-@`了.\n",
    "\n",
    "不过我发现改成`C-c =` ,配合上面的`C-@`又管用了.\n",
    "\n",
    "现在我改成 `SPC-=`了.更快,更爽,更强."
   ]
  },
  {
   "cell_type": "markdown",
   "metadata": {},
   "source": [
    "## js2-mode的使用"
   ]
  },
  {
   "cell_type": "markdown",
   "metadata": {},
   "source": [
    "- ee is expand-node-at-point：根据节点类型（数组，对象，函数，调用args）展开括号列表。\n",
    "- cc is contract-node-at-point：根据节点类型（数组，对象，函数，调用args）的合约括号列表。\n",
    "- ef is extract-function：将标记的表达式提取到新的命名函数中。\n",
    "- em is extract-method：将标记的表达式提取到对象文字中的新命名方法中。\n",
    "- tf is toggle-function-expression-and-declaration：在函数名称（）{}和var name = function（）之间切换;\n",
    "- ta is toggle-arrow-function-and-expression：在函数表达式和箭头函数之间切换。\n",
    "- ts is toggle-function-async：在异步和常规函数之间切换。\n",
    "- ip is introduce-parameter：将标记的表达式更改为本地函数中的参数。\n",
    "- lp is localize-parameter：将参数更改为本地函数中的局部变量。\n",
    "- wi is wrap-buffer-in-iife：在一个立即调用的函数表达式中包装整个缓冲区\n",
    "- ig is inject-global-in-iife：通过将其注入包装中立即调用的函数表达式，为标记的全局创建快捷方式\n",
    "- ag is add-to-globals-annotation：/*global */如果缺少注释，则创建注释，并将var添加到其中。\n",
    "- ev is extract-var：采用标记的表达式并将其替换为var。\n",
    "- el 是extract-let：类似extract-var但使用let-statement。\n",
    "- ec 是extract-const：类似extract-var但使用const-statement。\n",
    "- iv is inline-var：用其初始值替换变量的所有实例。\n",
    "- rv is rename-var：将点上的变量重命名，并在其词法范围内重命名。\n",
    "- vt 是var-to-this：局部变化var a是this.a相反。\n",
    "- ao is arguments-to-object：使用命名参数的对象文字替换函数调用的参数。\n",
    "- 3i is ternary-to-if：将三元运算符转换为if语句。\n",
    "- sv is split-var-declaration：将var声明了多个vars的a拆分为多个var语句。\n",
    "- ss 是split-string：分裂一个string。\n",
    "- st 是string-to-template：将a string转换为模板字符串。\n",
    "- uw is unwrap：用所选区域替换父语句。\n",
    "- lt 是log-this：为点（或区域）添加一个console.log（）语句。使用前缀参数，使用JSON漂亮打印。\n",
    "- dt 是debug-this：为点（或区域）添加一个debug（）语句。\n",
    "- sl is forward-slurp：将下一个语句移动到当前函数，if-statement，for-loop或while-loop。\n",
    "- ba is forward-barf：将最后一个子项移出当前函数，if-statement，for-loop或while-loop。\n",
    "- k 是 kill：杀到行尾，但不跨越语义边界。\n",
    "\n",
    "\n",
    "按键有冲突,我替换成了`C-c C-r`"
   ]
  },
  {
   "cell_type": "markdown",
   "metadata": {},
   "source": [
    "## auto-yasnippet                                                                           `\n",
    "\n",
    "我把按键给改成了`SPC-a c,对应`aya-create` \n",
    "`我把按键给改成了`SPC-a e,对应`aya-expend` \n",
    "`我把按键给改成了`SPC-a l,对应`aya-line` \n",
    "\n",
    "[参考链接](https://github.com/abo-abo/auto-yasnippet)\n",
    "\n",
    "### 测试模板替换\n",
    "\n",
    "\n",
    "1.写模板 `count_of_~red = get_total(\"~red\");`   \n",
    "\n",
    "2.使用模板.\n",
    "\n",
    "然后你就按`SPC-a c`,这就创建了一个模板.\n",
    "\n",
    "接着按`SPC-a-e`,你输入你希望的值.\n",
    "\n",
    "就大功告成.可能需要你做一些适应.一开始很别扭的.\n",
    "\n",
    "```javascript\n",
    "var count_of_red = get_total(red);                                                                                \n",
    "var count_of_yellow = get_total(yellow);                                                                         \n",
    "var count_of_blue = get_total(blue); \n",
    "```\n",
    "\n",
    "另外一个功能,我测试几遍没测试对"
   ]
  },
  {
   "cell_type": "markdown",
   "metadata": {},
   "source": [
    "```\n",
    "  \n",
    "\n",
    "\n",
    "```"
   ]
  }
 ],
 "metadata": {
  "kernelspec": {
   "display_name": "Python 3",
   "language": "python",
   "name": "python3"
  },
  "language_info": {
   "codemirror_mode": {
    "name": "ipython",
    "version": 3
   },
   "file_extension": ".py",
   "mimetype": "text/x-python",
   "name": "python",
   "nbconvert_exporter": "python",
   "pygments_lexer": "ipython3",
   "version": "3.6.1"
  }
 },
 "nbformat": 4,
 "nbformat_minor": 2
}
