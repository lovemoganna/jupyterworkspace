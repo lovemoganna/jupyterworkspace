{
 "cells": [
  {
   "cell_type": "markdown",
   "metadata": {},
   "source": [
    "https://github.com/emacsmirror/emmet-mode"
   ]
  },
  {
   "cell_type": "markdown",
   "metadata": {},
   "source": [
    "## JS-MODE"
   ]
  },
  {
   "cell_type": "markdown",
   "metadata": {},
   "source": [
    "单纯测试JS, `, s i` 开启服务器. `, s a`,快速调试\n",
    "\n",
    "`http://104.129.183.205:8080/skewer/demo/`"
   ]
  },
  {
   "cell_type": "markdown",
   "metadata": {},
   "source": [
    "## js-refactor"
   ]
  },
  {
   "cell_type": "markdown",
   "metadata": {},
   "source": [
    "`, f 3 i` 由三元表达式转换成if从句."
   ]
  },
  {
   "cell_type": "markdown",
   "metadata": {},
   "source": [
    "## Evil-insert & ivy-yas\n",
    "\n",
    "一个是`evil`的操作,一个是注释自动补全的操作.\n",
    "\n",
    "`SPC i j` 往下差一行,但是状态不变啊.\n",
    "\n",
    "`SPC i k` 往上差一行,但是状态不变啊.\n",
    "\n",
    "`SPC i s` 插入你想要的代码块."
   ]
  },
  {
   "cell_type": "markdown",
   "metadata": {},
   "source": [
    "## 字符跳转"
   ]
  },
  {
   "cell_type": "markdown",
   "metadata": {},
   "source": [
    "`SPC j w` 输入一个字符,你就直接进去就行了."
   ]
  },
  {
   "cell_type": "markdown",
   "metadata": {},
   "source": [
    "## 注释"
   ]
  },
  {
   "cell_type": "markdown",
   "metadata": {},
   "source": [
    "`gcc` 直接注释一行.\n",
    "\n",
    "`SPC ;` 注释\n",
    "\n",
    "`gc 3 j`注释掉3行.\n"
   ]
  },
  {
   "cell_type": "markdown",
   "metadata": {},
   "source": [
    "## 标记为项目\n",
    "\n",
    "`.projectile标记为项目.`\n",
    "\n",
    "`SPC p SPC`跳转项目\n",
    "\n",
    "创建`.agignore`文件,避免AG（银色搜索器) 写入文件,避免搜索."
   ]
  },
  {
   "cell_type": "markdown",
   "metadata": {},
   "source": [
    "- 打开一个文件   SPACE ff    （然后按ctrl h上一个目录，TAB完成）\n",
    "- 保存一个文件   SPACE fs\n",
    "- 创建一个文件   SPACE ff <在新文件路径中输入，按回车，它会要求创建一个文件> \n",
    "- 查找一个项目中的文件   SPACE pf\n",
    "- 编辑.spacemacs配置文件   SPACE fed\n",
    "- 切换到最近打开的文件   SPACE bb"
   ]
  },
  {
   "cell_type": "markdown",
   "metadata": {},
   "source": [
    "## install chrome "
   ]
  },
  {
   "cell_type": "markdown",
   "metadata": {},
   "source": [
    "[R_A](https://www.cyberciti.biz/faq/howto-install-google-chrome-on-redhat-rhel-fedora-centos-linux/)\n",
    "\n",
    "[R_A-2](https://www.tecmint.com/install-google-chrome-on-redhat-centos-fedora-linux/)"
   ]
  },
  {
   "cell_type": "markdown",
   "metadata": {},
   "source": [
    "## Buffer"
   ]
  },
  {
   "cell_type": "markdown",
   "metadata": {},
   "source": [
    "`SPC b e`"
   ]
  }
 ],
 "metadata": {
  "kernelspec": {
   "display_name": "Javascript (Node.js)",
   "language": "javascript",
   "name": "javascript"
  },
  "language_info": {
   "file_extension": ".js",
   "mimetype": "application/javascript",
   "name": "javascript",
   "version": "8.9.2"
  }
 },
 "nbformat": 4,
 "nbformat_minor": 2
}
