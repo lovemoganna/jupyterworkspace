{
 "cells": [
  {
   "cell_type": "markdown",
   "metadata": {},
   "source": [
    "- glo  `git log --oneline --decorate --color`\n",
    "- gra\tgit remote add\n",
    "- grb\tgit rebase\n",
    "- grh git reset HEAD \n",
    "- grhh\tgit reset HEAD --hard"
   ]
  },
  {
   "cell_type": "markdown",
   "metadata": {},
   "source": [
    "//查看本地分支\n",
    "- git branch \n",
    "\n",
    "//删除目标分支\n",
    "- git branch -D master\n",
    "\n",
    "//重新拉取master分支\n",
    "- git checkout master\n",
    "\n",
    "\n",
    "- git checkout . #本地所有修改的。没有的提交的，都返回到原来的状态\n",
    "- git stash #把所有没有提交的修改暂存到stash里面。可用git stash pop回复。\n",
    "- git reset --hard HASH #返回到某个节点，不保留修改。\n",
    "- git reset --soft HASH #返回到某个节点。保留修改\n",
    " \n",
    "- git clean -df #返回到某个节点\n",
    "- git clean 参数\n",
    "   + -n 显示 将要 删除的 文件 和  目录\n",
    "   + -f 删除 文件\n",
    "   + -df 删除 文件 和 目录\n",
    "   \n",
    "- git  push  -u  origin  master     提交到gitHub仓库的master分支，第一次的时候需要 -u 参数，后面再提交就不需要 -u 了\n",
    "\n",
    "- git push  -u  origin  master  -f      //强制把本地推到线上覆盖（当回退线上仓库时会用到）\n",
    "\n",
    "- 合并分支:   git   merge   aaa      (想把aaa分支合并到master分支，要先切换到master分支再执行合并操作)\n",
    "\n",
    "- 查看远程分支：git  branch  -r      ,r代表remote即远程分支"
   ]
  },
  {
   "cell_type": "markdown",
   "metadata": {},
   "source": [
    "1. 删除本地分支\n",
    "\n",
    "假设想要删除本地的分支temp，并且当前处在temp分支上，首先需要切换到别的分支（假设切换到develop分支）：\n",
    "\n",
    "`git checkout develop`  //切换到develop分支\n",
    "\n",
    "`git branch`  //此时处在develop分支\n",
    "\n",
    "`git branch -D temp`  //删除本地temp分支\n",
    " \n",
    "\n",
    "2.重新拉取远程仓库代码，并自动创建分支\n",
    "\n",
    "`git fetch` 会将远程代码的更新(commit)拉取到本地。\n",
    "\n",
    "`git fetch origin temp:temp`  //拉取远程库temp分支的代码到本地的temp分支，如果不存在temp分支，将自动创建temp分支\n",
    "\n",
    "`git fetch <远程主机名>`  //将远程库的更新(commit)拉取到本地\n",
    "\n",
    "`git fetch <远程主机名> <分支名>`  //将远程库的<分支名>的分支拉取到本地"
   ]
  },
  {
   "cell_type": "markdown",
   "metadata": {},
   "source": [
    "![](https://user-gold-cdn.xitu.io/2017/10/13/36a7258da83967e868905a54d6c0b94d?imageView2/0/w/1280/h/960/format/webp/ignore-error/1)"
   ]
  },
  {
   "cell_type": "markdown",
   "metadata": {},
   "source": [
    "https://juejin.im/post/59e079dcf265da4317692817\n"
   ]
  },
  {
   "cell_type": "markdown",
   "metadata": {},
   "source": [
    "`git fetch <repo-url> <dev>`\n",
    "\n",
    "`gco -b <dev> FETCH_HEAD`"
   ]
  },
  {
   "cell_type": "markdown",
   "metadata": {},
   "source": [
    "解决拉取错误, `git reset --hard`"
   ]
  },
  {
   "cell_type": "markdown",
   "metadata": {},
   "source": [
    "## 拉取远程分支并创建本地分支(安全的方式)"
   ]
  },
  {
   "cell_type": "markdown",
   "metadata": {},
   "source": [
    "`git fetch origin 远程分支名x`\n",
    "\n",
    "`git checkout -b 本地分支名x origin/远程分支名x`"
   ]
  },
  {
   "cell_type": "markdown",
   "metadata": {},
   "source": [
    "## ZSH "
   ]
  },
  {
   "cell_type": "markdown",
   "metadata": {},
   "source": [
    "[refer address](https://hufangyun.com/2017/zsh-plugin/)"
   ]
  },
  {
   "cell_type": "markdown",
   "metadata": {},
   "source": [
    "## magit"
   ]
  },
  {
   "cell_type": "markdown",
   "metadata": {},
   "source": [
    "`SPC g s` 进入`magit`瞬态.\n",
    "\n",
    "进入瞬态以后 `g`刷新当前的状态.\n",
    "\n",
    "`P` 就是push了.\n",
    "\n",
    "`SPC `\n",
    "\n",
    "`SPC g i` 初始化git环境.\n",
    "\n",
    "`SPC g f i` 添加 `.gitignore``\n",
    "\n",
    "\n",
    "\n",
    "`M-1`,`M-2`,`M-3`,`M-4`查看文件的更改状态.\n",
    "\n",
    "[reference address](https://www.zghhome.cn/?p=316)"
   ]
  },
  {
   "cell_type": "markdown",
   "metadata": {},
   "source": [
    "## 继续前行"
   ]
  },
  {
   "cell_type": "markdown",
   "metadata": {},
   "source": [
    "[站在巨人的肩膀上](https://www.jianshu.com/p/3ebbfa41248c)"
   ]
  },
  {
   "cell_type": "markdown",
   "metadata": {},
   "source": [
    "## 拉取远程分支内容更新到本地"
   ]
  },
  {
   "cell_type": "markdown",
   "metadata": {},
   "source": [
    "1.在本地新建一个temp分支.并将远程origin仓库的master分支代码下载道本地temp分支.\n",
    "\n",
    "```text\n",
    "git fetch origin master:temp\n",
    "```\n",
    "2.比较本地仓库与下载的temp分支\n",
    "\n",
    "```text\n",
    "git diff temp\n",
    "```\n",
    "\n",
    "3. master分支合并temp分支的代码\n",
    "```text\n",
    " git merge temp\n",
    "```\n",
    "\n",
    "4.删除temp分支\n",
    "```\n",
    "git branch -d temp\n",
    "```\n",
    "\n"
   ]
  }
 ],
 "metadata": {
  "kernelspec": {
   "display_name": "Python 3",
   "language": "python",
   "name": "python3"
  },
  "language_info": {
   "codemirror_mode": {
    "name": "ipython",
    "version": 3
   },
   "file_extension": ".py",
   "mimetype": "text/x-python",
   "name": "python",
   "nbconvert_exporter": "python",
   "pygments_lexer": "ipython3",
   "version": "3.6.1"
  }
 },
 "nbformat": 4,
 "nbformat_minor": 2
}
