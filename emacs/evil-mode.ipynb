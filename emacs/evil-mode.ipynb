{
 "cells": [
  {
   "cell_type": "markdown",
   "metadata": {},
   "source": [
    "## Reference Address\n",
    "\n",
    "https://github.com/syl20bnr/spacemacs/blob/master/doc/DOCUMENTATION.org#vim\n",
    "\n",
    "https://github.com/syl20bnr/spacemacs/blob/master/doc/DOCUMENTATION.org#evilified-modes"
   ]
  },
  {
   "cell_type": "markdown",
   "metadata": {},
   "source": [
    "## bind key \n",
    "\n",
    "- C-b -- 跳到开头\n",
    "- C-f --跳到结尾\n",
    "- C-u -- 翻页\n",
    "- C-d -- 翻页\n",
    "- w e b\n",
    "\n",
    "- c -- 删除,并进入INSERT状态\n",
    "- d -- 删除,但还是NORMAL状态\n",
    "\n",
    "- s -- 删除一个字符,并进入INSERT状态\n",
    "- r --替换一个字符,但还是NORMAL状态\n",
    "\n",
    "\n",
    "\n"
   ]
  }
 ],
 "metadata": {
  "kernelspec": {
   "display_name": "Python 3",
   "language": "python",
   "name": "python3"
  },
  "language_info": {
   "codemirror_mode": {
    "name": "ipython",
    "version": 3
   },
   "file_extension": ".py",
   "mimetype": "text/x-python",
   "name": "python",
   "nbconvert_exporter": "python",
   "pygments_lexer": "ipython3",
   "version": "3.6.1"
  }
 },
 "nbformat": 4,
 "nbformat_minor": 2
}
