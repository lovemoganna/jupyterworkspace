{
 "cells": [
  {
   "cell_type": "markdown",
   "metadata": {},
   "source": [
    "## 使用了光"
   ]
  },
  {
   "cell_type": "markdown",
   "metadata": {},
   "source": [
    "https://www.canva.com/signup?signupRedirect=%2Fdesign%3Fcreate%3Dtrue%26category%3DtACZCvjI6mE%26referrer%3Dlogo-landing-page%26utm_source%3Donboarding&loginRedirect=%2Fdesign%3Fcreate%3Dtrue%26category%3DtACZCvjI6mE%26referrer%3Dlogo-landing-page%26utm_source%3Donboarding&referrer=logo-landing-page"
   ]
  },
  {
   "cell_type": "markdown",
   "metadata": {},
   "source": [
    "## 骚\n",
    "\n",
    "https://www.reddit.com/r/copypasta/comments/9vgnp7/fun_things_to_do_in_public/"
   ]
  },
  {
   "cell_type": "markdown",
   "metadata": {},
   "source": [
    "## 翻译工具"
   ]
  },
  {
   "cell_type": "markdown",
   "metadata": {},
   "source": [
    "https://juejin.im/entry/592286cfa0bb9f005f60382d"
   ]
  }
 ],
 "metadata": {
  "kernelspec": {
   "display_name": "Python 3",
   "language": "python",
   "name": "python3"
  },
  "language_info": {
   "codemirror_mode": {
    "name": "ipython",
    "version": 3
   },
   "file_extension": ".py",
   "mimetype": "text/x-python",
   "name": "python",
   "nbconvert_exporter": "python",
   "pygments_lexer": "ipython3",
   "version": "3.6.1"
  }
 },
 "nbformat": 4,
 "nbformat_minor": 2
}
