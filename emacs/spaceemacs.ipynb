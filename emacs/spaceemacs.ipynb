{
 "cells": [
  {
   "cell_type": "markdown",
   "metadata": {},
   "source": [
    "## 快捷键"
   ]
  },
  {
   "cell_type": "markdown",
   "metadata": {},
   "source": [
    "## - Basic Command"
   ]
  },
  {
   "cell_type": "markdown",
   "metadata": {},
   "source": [
    "- TAB - 移动到下一个button\n",
    "- r 跳转到最近打开的文件\n",
    "- p 跳转到最近的项目\n",
    "- b \n",
    "- c org-agenda \n",
    "- d org-todo\n",
    "- o jump to any link or button \n",
    "- m 之前回到最前面\n",
    "- SPC f e d 配置文件\n",
    "- SPC h SPC 列出支持的列表和 layer\n",
    "\n"
   ]
  },
  {
   "cell_type": "markdown",
   "metadata": {},
   "source": [
    "- `SPC f j` --打开文件列表\n",
    "\n",
    "`SPC f e d` 配置文件\n",
    "\n",
    "`SPC q q ` 退出emacs\n",
    "\n",
    "`SPC h SPC` 查看安装了哪些layer\n",
    "\n",
    "`SPC f e R` 安装包 \n",
    "\n",
    "\n",
    "\n",
    "\n",
    "`"
   ]
  },
  {
   "cell_type": "markdown",
   "metadata": {},
   "source": [
    "修复color - error\n",
    "\n",
    "`我设置dotspacemacs-mode-line-unicode-symbols nil和export TERM=xterm-256color`"
   ]
  }
 ],
 "metadata": {
  "kernelspec": {
   "display_name": "Javascript (Node.js)",
   "language": "javascript",
   "name": "javascript"
  },
  "language_info": {
   "file_extension": ".js",
   "mimetype": "application/javascript",
   "name": "javascript",
   "version": "8.9.2"
  }
 },
 "nbformat": 4,
 "nbformat_minor": 2
}
