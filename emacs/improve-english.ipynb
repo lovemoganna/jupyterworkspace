{
 "cells": [
  {
   "cell_type": "markdown",
   "metadata": {},
   "source": [
    "## 有用的链接"
   ]
  },
  {
   "cell_type": "markdown",
   "metadata": {},
   "source": [
    "[这个人的语速还行,我先替你试试](https://www.youtube.com/channel/UC32mYgIHS-e3C3Eyd2tRw6g)\n",
    "\n",
    "[雅思,先不鸟他.与我来说.没什么用](https://www.ielts.org/)"
   ]
  },
  {
   "cell_type": "markdown",
   "metadata": {},
   "source": [
    "## 程序员的翻译工具"
   ]
  },
  {
   "cell_type": "markdown",
   "metadata": {},
   "source": [
    "https://yq.aliyun.com/articles/613690\n",
    "\n",
    "https://cn.linguee.com/?chooseDomain=1\n",
    "\n",
    "google store install a name `Mate Translate` components"
   ]
  },
  {
   "cell_type": "markdown",
   "metadata": {},
   "source": [
    "## 思维"
   ]
  },
  {
   "cell_type": "markdown",
   "metadata": {},
   "source": [
    "1.用什么学什么,这是求生之路.\n",
    "\n",
    "2.学会复制,粘贴.下面的是美式英语的学习.\n",
    "\n",
    "[American English](https://americanenglish.state.gov/files/ae/resource_files/b_dialogues_everyday_conversations_english_lo_0.pdf)\n",
    "\n",
    "3.辞职信,求职信的写法.\n",
    "\n",
    "[参考链接](https://justlettertemplates.com/formal-letter-email-sample.html)\n",
    "\n",
    "4.国外的小说网站.\n",
    "\n",
    "[真的是大写的卧槽!](https://www.wattpad.com/story/114391097-funny-chat-stories)\n",
    "\n",
    "http://gravitytales.com/"
   ]
  }
 ],
 "metadata": {
  "kernelspec": {
   "display_name": "Javascript (Node.js)",
   "language": "javascript",
   "name": "javascript"
  },
  "language_info": {
   "file_extension": ".js",
   "mimetype": "application/javascript",
   "name": "javascript",
   "version": "8.9.2"
  }
 },
 "nbformat": 4,
 "nbformat_minor": 2
}
