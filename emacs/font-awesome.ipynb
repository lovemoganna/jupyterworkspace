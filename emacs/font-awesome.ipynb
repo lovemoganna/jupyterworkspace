{
 "cells": [
  {
   "cell_type": "markdown",
   "metadata": {},
   "source": [
    "## sute figma awesome font"
   ]
  },
  {
   "cell_type": "markdown",
   "metadata": {},
   "source": [
    "[i need this icon](https://fontawesome.com/cheatsheet?from=io)\n",
    "\n"
   ]
  },
  {
   "cell_type": "markdown",
   "metadata": {},
   "source": [
    "## neteasy-cloud\n",
    "\n",
    "https://binaryify.github.io/NeteaseCloudMusicApi/#/?id=%E8%B0%83%E7%94%A8%E5%89%8D%E9%A1%BB%E7%9F%A5"
   ]
  }
 ],
 "metadata": {
  "kernelspec": {
   "display_name": "Javascript (Node.js)",
   "language": "javascript",
   "name": "javascript"
  },
  "language_info": {
   "file_extension": ".js",
   "mimetype": "application/javascript",
   "name": "javascript",
   "version": "8.9.2"
  }
 },
 "nbformat": 4,
 "nbformat_minor": 2
}
