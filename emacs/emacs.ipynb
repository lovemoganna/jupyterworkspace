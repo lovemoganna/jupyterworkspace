{
 "cells": [
  {
   "cell_type": "markdown",
   "metadata": {},
   "source": [
    "## emacs的学习"
   ]
  },
  {
   "cell_type": "markdown",
   "metadata": {},
   "source": [
    "[emacs中文网](http://emacser.com/windows-emacs-home.htm)"
   ]
  },
  {
   "cell_type": "markdown",
   "metadata": {},
   "source": [
    "[国内镜像推荐链接](https://github.com/aborn/popkit-elpa)\n",
    "\n",
    "[推荐的内容](https://github.com/emacs-tw/awesome-emacs#javascript)\n",
    "\n",
    "[EMACS爱好者的博客](http://maskray.me/blog/2015-09-18-conversion-to-emacs)\n",
    "\n",
    "[课程书籍](http://book.emacs-china.org/#orgheadline11)"
   ]
  },
  {
   "cell_type": "code",
   "execution_count": 2,
   "metadata": {},
   "outputs": [
    {
     "data": {
      "text/html": [
       "<iframe width=\"800\" height=\"800\" src=\"https://www.youtube.com/embed/QKhS9EX9qd8?list=PLqQgufb9_uJeSg3ChhgcDHD9C5MbZSCal\" frameborder=\"0\" allow=\"autoplay; encrypted-media\" allowfullscreen></iframe>"
      ],
      "text/plain": [
       "<IPython.core.display.HTML object>"
      ]
     },
     "execution_count": 2,
     "metadata": {},
     "output_type": "execute_result"
    }
   ],
   "source": [
    "from IPython.display import HTML \n",
    "HTML('<iframe width=\"800\" height=\"800\" src=\"https://www.youtube.com/embed/QKhS9EX9qd8?list=PLqQgufb9_uJeSg3ChhgcDHD9C5MbZSCal\" frameborder=\"0\" allow=\"autoplay; encrypted-media\" allowfullscreen></iframe>')"
   ]
  },
  {
   "cell_type": "markdown",
   "metadata": {},
   "source": [
    "`f1 t ` -- emacs教程: \n",
    "\n",
    "注意! 现在centos下的`help` 都变成了`f1`!\n",
    "\n",
    "    \n",
    "C - `ctrl + str` is a command \n",
    "\n",
    "M `Alt + str` is a command\n",
    "\n",
    "`ctrl b` - 往前移动光标\n",
    "\n",
    "`ctrl f` - 往后移动光标\n",
    "\n",
    "`ctrl a` - 到开头\n",
    "\n",
    "`ctrl e` - 到结尾\n",
    "\n",
    "`ctrl n` - 到下一行\n",
    "\n",
    "`ctrl p` - 到上一行\n",
    "\n",
    "`ctrl k` - 删除\n",
    "\n",
    "`ctrl x u` - 撤销修改\n",
    "\n",
    "`ctrl g` - 取消任何命令\n",
    "\n",
    "`C-x b` - switch to buffer \n",
    "\n",
    "`ctrl x ctrl f` - 打开文件\n",
    "\n",
    "`M-x` - `Alt x linum-mode` - 如果忘记了,tab键补全.\n",
    "\n",
    "`ctrl x ctrl s` - 保存文件\n",
    "\n",
    "`f1 k ` - 查询命令,比如查询保存文件的命令 `f1 k ctrl-x ctrl-s`,有`-`代表一起按住.\n",
    "\n",
    "`f1 v` - 查询变量\n",
    "\n",
    "`C-` - 取消上一步的操作\n",
    "\n",
    "[学习链接](https://learnxinyminutes.com/)\n",
    "\n",
    "[具体链接](https://learnxinyminutes.com/docs/elisp/)"
   ]
  },
  {
   "cell_type": "markdown",
   "metadata": {},
   "source": [
    "通过buffer切换到`scratch`这个buffer.来练习`elisp`.\n",
    "\n",
    "`ctrl x ctrl e` 出计算结果\n",
    "\n",
    "按 `f1 m`关闭 `electric indent`. \n",
    "\n",
    "`alt x electric indent-mode`永久关闭\n",
    "\n",
    "`interactive`这是一个交互函数,光标位于下一行的末尾.按`ctrl-x ctrl-e`,\n",
    "\n",
    "然后通过`alt m my-fun`可以直接调用`my-fun`函数了.\n",
    "\n",
    "查询一个函数.光标在函数体内,按`f1 f`,就能知道这个函数的描述了.\n",
    "\n",
    "\n",
    "![](https://upload-images.jianshu.io/upload_images/7505161-ea38c0fb049b5c87.png?imageMogr2/auto-orient/strip%7CimageView2/2/w/1240)\n"
   ]
  },
  {
   "cell_type": "markdown",
   "metadata": {},
   "source": [
    "`查找命令的意思`,点击`ctrl-h k`然后输入`ctrl-x ctrl-f`就会显示出`ctrl-x ctrl-f`是做什么的."
   ]
  },
  {
   "cell_type": "markdown",
   "metadata": {},
   "source": [
    "## emasc的配置文件\n",
    "\n",
    "`AppData/Roming/.emacs.d/init.el`,如果不确定,可以利用`ctrl-x ctrl-f`使用`~`来进行查看.\n",
    "```\n",
    ";- turn off tool-bar\n",
    "(tool-bar-mode -1)\n",
    ";- turn off scrool-bar\n",
    "(scroll-bar-mode -1)\n",
    "\n",
    "(electric-indent-mode -1)\n",
    ";- turn off splash screen \n",
    "(setq inhibit-splash-screen t)\n",
    ";- show linum-mode\n",
    "(linum-mode t)\n",
    "\n",
    ";- define a function to quickly open your config file\n",
    "(defun open-my-file-config()\n",
    "\t(interactive)\n",
    "\t(find-file \"~/.emacs.d/init.el\"))\n",
    "(global-set-key (kbd \"<f7>\") 'open-my-file-config)\n",
    "\n",
    "```"
   ]
  },
  {
   "cell_type": "markdown",
   "metadata": {},
   "source": [
    "## 安装package\n",
    "\n",
    "options - manage emacs package \n",
    "\n",
    "install `company`,这个包可以补全任何东西.\n",
    "\n",
    "\n",
    "全局开启 `alt-x`,然后输入`global-company-mode`\n",
    "\n",
    "`ctrl-h m `显示所有激活的`minor mode`.在进度条上显示的是`major mode`\n",
    "\n",
    "### 极致部分\n",
    "\n",
    "按`tab`键可以展开.只需要你会写提纲.\n",
    "\n",
    "```\n",
    "* xxxx\n",
    "** xxxx\n",
    "*** xxx\n",
    "```\n",
    "\n",
    "加`TODO`,按`ctrl-c ctrl-t`\n",
    "\n",
    "如果GTD(get things down),那么再按一次`ctrl-c ctrl-t`,就会由`TODO`显示`DOWN`\n",
    "\n",
    "`C-c C-s` 显示日历\n",
    "\n",
    "`C-c C-x` 表格形式展示日历\n",
    "\n",
    "`C-c a` 再点击 `a` 查看自己的完成情况"
   ]
  },
  {
   "cell_type": "markdown",
   "metadata": {},
   "source": [
    "## 复制,粘贴"
   ]
  },
  {
   "cell_type": "markdown",
   "metadata": {},
   "source": [
    "- C-x C-x  -- 选中你想选中的范围\n",
    "- C-w  -- 剪切\n",
    "- C-y  -- 粘贴\n",
    "- M-x  --复制"
   ]
  },
  {
   "cell_type": "markdown",
   "metadata": {},
   "source": [
    "## 关于文件的操作-Dired-mode\n",
    "\n",
    "`C-x d` --进入编辑界面"
   ]
  },
  {
   "cell_type": "markdown",
   "metadata": {},
   "source": [
    "- 直接进入文件列表,按`+`号直接创建文件夹\n",
    "\n",
    "- `+` --创建目录\n",
    "- g  --刷新目录\n",
    "- C  --拷贝\n",
    "- D  --删除\n",
    "- R  --重命名\n",
    "- d  --标记删除\n",
    "- u  --取消标记\n",
    "- x  --执行所有的标记\n",
    "\n",
    "添加 `(require 'dired-x)`,可以使用 `C-x C-j` 替换 `C-x d` 了.\n",
    "\n",
    "aa packages `reveal-in-osx-finder` in MACOSX\n",
    "\n",
    "\n",
    "\n",
    "\n"
   ]
  },
  {
   "cell_type": "markdown",
   "metadata": {},
   "source": [
    "## 直接跳出文件夹的目录"
   ]
  },
  {
   "cell_type": "markdown",
   "metadata": {},
   "source": [
    "`M-x reveal-in-osx-finder`"
   ]
  },
  {
   "cell_type": "markdown",
   "metadata": {},
   "source": [
    "## 常用命令的简单记忆"
   ]
  },
  {
   "cell_type": "markdown",
   "metadata": {},
   "source": [
    "- `C-w` 往后删除一个单词\n",
    "\n",
    "- `C-a` 到开头\n",
    "\n",
    "- `C-e` 到结尾\n",
    "\n",
    "- `C-d` 往前删除一个字符\n",
    "\n",
    "- `C-k` 删除一行\n",
    "\n",
    "- `M-w` 复制\n",
    "\n",
    "- `C-y` 粘贴\n",
    "\n",
    "- `C-w C-w` 跳转窗口"
   ]
  }
 ],
 "metadata": {
  "kernelspec": {
   "display_name": "Python 3",
   "language": "python",
   "name": "python3"
  },
  "language_info": {
   "codemirror_mode": {
    "name": "ipython",
    "version": 3
   },
   "file_extension": ".py",
   "mimetype": "text/x-python",
   "name": "python",
   "nbconvert_exporter": "python",
   "pygments_lexer": "ipython3",
   "version": "3.6.1"
  }
 },
 "nbformat": 4,
 "nbformat_minor": 2
}
