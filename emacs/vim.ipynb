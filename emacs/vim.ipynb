{
 "cells": [
  {
   "cell_type": "markdown",
   "metadata": {},
   "source": [
    "## Vim基础命令\n",
    "\n",
    "[官方地址](https://www.openvim.com/)"
   ]
  },
  {
   "cell_type": "markdown",
   "metadata": {},
   "source": [
    "1. Introduction\n",
    "2. Two modes, insert and normal\n",
    "3. Basic movement: h, j, k, and l\n",
    "4. Word movement: w, e, b\n",
    "5. Number powered movement, e.g. 5w\n",
    "6. Insert text repeatedly, e.g. 3iYes\n",
    "7. Find a character, f and F\n",
    "8. Go to matching parentheses, %\n",
    "9. Go to start/end of line, 0 and $\n",
    "10. Find word under cursor, * and #\n",
    "11. Goto line, g and G\n",
    "12. Search, /text with n and N\n",
    "13. Insert new line, o and O\n",
    "14. Removing a character, x and X\n",
    "15. Replacing letter under cursor, r\n",
    "16. Deleting, d\n",
    "17. Repetition with .\n",
    "18. Visual mode, v\n",
    "19. Real Vim awaits"
   ]
  },
  {
   "cell_type": "markdown",
   "metadata": {},
   "source": [
    "`C-w`删除一个单词\n",
    "\n",
    "`C-v`进入视觉编辑"
   ]
  },
  {
   "cell_type": "markdown",
   "metadata": {},
   "source": [
    "如果上面的内容太过于简单.那就看详细的.\n",
    "\n",
    "https://www.cnblogs.com/yangjig/p/6014198.html"
   ]
  },
  {
   "cell_type": "markdown",
   "metadata": {},
   "source": [
    "- r    用接於此指令之后的字元取代(replace)游标所在字元。如：ra将游标所在字元以 a 取代之。\n",
    "\n",
    "- s    删除游标所在之字元，并进入输入模式直到《ESC》。\n",
    "\n",
    "- 3dd 快速剪切\n",
    "- 3pp 快读粘贴\n",
    "\n",
    "- `viw` 快速选中一个单词.\n",
    "\n",
    "- `C-e`\n",
    "\n",
    "- `C-y`\n",
    "\n",
    "- `S-a`\n",
    "\n",
    "- `S-i`\n",
    "\n",
    "` `S-s`\n",
    "\n",
    "C-v 进入视图模式,然后按`j`,`d`就是删除了."
   ]
  },
  {
   "cell_type": "markdown",
   "metadata": {},
   "source": [
    "## 跳转到第12行\n",
    "- `12gg`\n",
    "- `:12`"
   ]
  },
  {
   "cell_type": "markdown",
   "metadata": {},
   "source": [
    "`J` 往回缩进."
   ]
  }
 ],
 "metadata": {
  "kernelspec": {
   "display_name": "Javascript (Node.js)",
   "language": "javascript",
   "name": "javascript"
  },
  "language_info": {
   "file_extension": ".js",
   "mimetype": "application/javascript",
   "name": "javascript",
   "version": "8.9.2"
  }
 },
 "nbformat": 4,
 "nbformat_minor": 2
}
