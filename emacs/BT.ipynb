{
 "cells": [
  {
   "cell_type": "markdown",
   "metadata": {},
   "source": [
    "## 比较好玩的网站"
   ]
  },
  {
   "cell_type": "markdown",
   "metadata": {},
   "source": [
    "[emoji](http://www.linkmoji.co/)"
   ]
  },
  {
   "cell_type": "markdown",
   "metadata": {},
   "source": [
    "## 比较BT的网站"
   ]
  },
  {
   "cell_type": "markdown",
   "metadata": {},
   "source": [
    "[检测IP的网站](http://webkay.robinlinus.com/)"
   ]
  },
  {
   "cell_type": "markdown",
   "metadata": {},
   "source": [
    "## 应付老板的东西"
   ]
  },
  {
   "cell_type": "markdown",
   "metadata": {},
   "source": [
    "[参考资料](https://www.ostechnix.com/cloc-count-the-lines-of-source-code-in-many-programming-languages/)\n",
    "\n",
    "- `cloc hello.c` 统计单个文件的代码量\n",
    "\n",
    "- `cloc dir XXX目录` 统计代码量\n",
    "\n",
    "- `cloc dir / cloc / tests` 子目录的统计\n",
    "- `cloc archive.zip` 统计压缩文件里面的代码行数\n",
    "\n",
    "- 统计git仓库的代码行数"
   ]
  }
 ],
 "metadata": {
  "kernelspec": {
   "display_name": "Javascript (Node.js)",
   "language": "javascript",
   "name": "javascript"
  },
  "language_info": {
   "file_extension": ".js",
   "mimetype": "application/javascript",
   "name": "javascript",
   "version": "8.9.2"
  }
 },
 "nbformat": 4,
 "nbformat_minor": 2
}
