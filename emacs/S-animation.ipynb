{
 "cells": [
  {
   "cell_type": "markdown",
   "metadata": {},
   "source": [
    "## AOS \n",
    "\n",
    "https://github.com/michalsnik/aos/tree/v2"
   ]
  },
  {
   "cell_type": "markdown",
   "metadata": {},
   "source": [
    "## Face\n",
    "\n",
    "https://shields.io/#/examples/chat"
   ]
  },
  {
   "cell_type": "markdown",
   "metadata": {},
   "source": [
    "## CSS transtion \n",
    "\n",
    "https://www.youtube.com/watch?v=8kK-cA99SA0"
   ]
  },
  {
   "cell_type": "markdown",
   "metadata": {},
   "source": [
    "## particles\n",
    "https://webdesign.tutsplus.com/tutorials/2-ways-to-create-an-animated-particle-background--cms-30224"
   ]
  },
  {
   "cell_type": "markdown",
   "metadata": {},
   "source": [
    "## CSS3\n",
    "https://medium.com/@kswanie21/css3-animations-with-transitions-transforms-5a9c01e5efb5"
   ]
  }
 ],
 "metadata": {
  "kernelspec": {
   "display_name": "Javascript (Node.js)",
   "language": "javascript",
   "name": "javascript"
  },
  "language_info": {
   "file_extension": ".js",
   "mimetype": "application/javascript",
   "name": "javascript",
   "version": "8.9.2"
  }
 },
 "nbformat": 4,
 "nbformat_minor": 2
}
