{
 "cells": [
  {
   "cell_type": "markdown",
   "metadata": {},
   "source": [
    "## VSCODE -JS "
   ]
  },
  {
   "cell_type": "markdown",
   "metadata": {},
   "source": [
    "C-SPC //提示\n",
    "\n",
    "C . // 重构\n",
    "\n",
    "// @ts-check 类型检查"
   ]
  }
 ],
 "metadata": {
  "kernelspec": {
   "display_name": "Javascript (Node.js)",
   "language": "javascript",
   "name": "javascript"
  },
  "language_info": {
   "file_extension": ".js",
   "mimetype": "application/javascript",
   "name": "javascript",
   "version": "8.9.2"
  }
 },
 "nbformat": 4,
 "nbformat_minor": 2
}
