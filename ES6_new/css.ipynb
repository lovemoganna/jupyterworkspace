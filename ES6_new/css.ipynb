{
 "cells": [
  {
   "cell_type": "markdown",
   "metadata": {},
   "source": [
    "## 1.CSS的盒子模型\n",
    "\n",
    "盒子模型有: 内容(content)、填充(padding)、边界(margin)、 边框(border)\n",
    "- w3c盒子模型\n",
    "- IE盒子模型: content需要将padding和border加进去"
   ]
  },
  {
   "cell_type": "markdown",
   "metadata": {},
   "source": [
    "## 2.css选择符.哪些属性可以继承."
   ]
  },
  {
   "cell_type": "markdown",
   "metadata": {},
   "source": [
    "- id选择器.\n",
    "- 类选择器\n",
    "- 相邻选择器\n",
    "- 子选择器\n",
    "- 后代选择器\n",
    "- 通配符选择器\n",
    "- 属性选择器\n",
    "- 伪类选择器\n",
    "\n",
    "不可以继承的样式: `border padding margin width height`"
   ]
  },
  {
   "cell_type": "markdown",
   "metadata": {},
   "source": [
    "## 3.css的优先级的计算"
   ]
  },
  {
   "cell_type": "markdown",
   "metadata": {},
   "source": [
    "就近原则.\n",
    "\n",
    "!important >  id > class > tag"
   ]
  },
  {
   "cell_type": "markdown",
   "metadata": {},
   "source": [
    "## 4.css新增的伪类"
   ]
  },
  {
   "cell_type": "markdown",
   "metadata": {},
   "source": [
    "举例：\n",
    "  -\tp:first-of-type\t --选择属于其父元素的首个`<p>`元素的每个 `<p>` 元素。\n",
    "  -\tp:last-of-type\t --选择属于其父元素的最后 `<p>` 元素的每个 `<p>` 元素。\n",
    "  - p:only-of-type\t --选择属于其父元素唯一的 `<p>` 元素的每个 `<p>` 元素。\n",
    "  -\tp:only-child\t --选择属于其父元素的唯一子元素的每个 `<p>` 元素。\n",
    "  -\tp:nth-child(2)\t --选择属于其父元素的第二个子元素的每个 `<p>` 元素。\n",
    "  -\t::after\t\t\t --在元素之前添加内容,也可以用来做清除浮动。\n",
    "  -\t::before\t\t --在元素之后添加内容\n",
    "  - :enabled  \t\t\n",
    "  -\t:disabled \t\t --控制表单控件的禁用状态。\n",
    "  -\t:checked         --单选框或复选框被选中。"
   ]
  },
  {
   "cell_type": "markdown",
   "metadata": {},
   "source": [
    "## 5.水平居中\n",
    "\n",
    "```css\n",
    "div{\n",
    "  width: 200px;\n",
    "  margin: 0 auto;\n",
    "}\n",
    "```"
   ]
  },
  {
   "cell_type": "markdown",
   "metadata": {},
   "source": [
    "## 6.绝对定位水平居中"
   ]
  },
  {
   "cell_type": "markdown",
   "metadata": {},
   "source": [
    "```css\n",
    " div {\n",
    " \tposition: absolute;\n",
    " \twidth: 300px;\n",
    " \theight: 300px;\n",
    " \tmargin: auto;\n",
    " \ttop: 0;\n",
    " \tleft: 0;\n",
    " \tbottom: 0;\n",
    " \tright: 0;\n",
    " \tbackground-color: pink;\t/* 方便看效果 */\n",
    " }\n",
    "```"
   ]
  },
  {
   "cell_type": "markdown",
   "metadata": {},
   "source": [
    "## 7.水平垂直居中"
   ]
  },
  {
   "cell_type": "markdown",
   "metadata": {},
   "source": [
    "```css\n",
    " div {\n",
    " \tposition: relative;\t\t/* 相对定位或绝对定位均可 */\n",
    " \twidth:500px;\n",
    " \theight:300px;\n",
    " \ttop: 50%;\n",
    " \tleft: 50%;\n",
    " \tmargin: -150px 0 0 -250px;     \t/* 外边距为自身宽高的一半 */\n",
    " \tbackground-color: pink;\t \t/* 方便看效果 */\n",
    "\n",
    "  }\n",
    "```"
   ]
  },
  {
   "cell_type": "markdown",
   "metadata": {},
   "source": [
    "## 7.2水平垂直居中"
   ]
  },
  {
   "cell_type": "markdown",
   "metadata": {},
   "source": [
    "```css\n",
    "div {\n",
    "    position: absolute;\n",
    "    /* 相对定位或绝对定位均可 \n",
    "      absolute是相对于positioned的祖先元素\n",
    "    */\n",
    "    width: 500px;\n",
    "    height: 300px;\n",
    "    top: 50%;\n",
    "    left: 50%;\n",
    "    transform: translate(-50%, -50%); /*这就是移动X & y的坐标轴*/\n",
    "    background-color: pink;\n",
    "    /* 方便看效果 */\n",
    "  }\n",
    "```"
   ]
  },
  {
   "cell_type": "markdown",
   "metadata": {},
   "source": [
    "## 7.3 水平垂直居中"
   ]
  },
  {
   "cell_type": "markdown",
   "metadata": {},
   "source": [
    "```css\n",
    ".container {\n",
    " \tdisplay: flex;\n",
    " \talign-items: center; \t\t/* 垂直居中 */\n",
    " \tjustify-content: center;\t/* 水平居中 */\n",
    "\n",
    " }\n",
    " .container div {\n",
    " \twidth: 100px;\n",
    " \theight: 100px;\n",
    " \tbackground-color: pink;\t\t/* 方便看效果 */\n",
    " } \n",
    "```"
   ]
  },
  {
   "cell_type": "markdown",
   "metadata": {},
   "source": [
    "## 8.display有哪些值？说明他们的作用。"
   ]
  },
  {
   "cell_type": "markdown",
   "metadata": {},
   "source": [
    "   - block       \t块类型。默认宽度为父元素宽度，可设置宽高，换行显示。\n",
    "   - none        \t元素不显示，并从文档流中移除。\n",
    "   - inline      \t行内元素类型。默认宽度为内容宽度，不可设置宽高，同行显示。\n",
    "   - inline-block  默认宽度为内容宽度，可以设置宽高，同行显示。\n",
    "   - list-item   \t象块类型元素一样显示，并添加样式列表标记。\n",
    "   - table       \t此元素会作为块级表格来显示。\n",
    "   - inherit     \t规定应该从父元素继承 display 属性的值。"
   ]
  },
  {
   "cell_type": "markdown",
   "metadata": {},
   "source": [
    "## 9.position的值relative和absolute定位原点是？"
   ]
  },
  {
   "cell_type": "markdown",
   "metadata": {},
   "source": [
    "- static 一个static元素表示它不会被定位\n",
    "- relative 都设置会出现错乱\n",
    "- fixed(脱离文档流)\n",
    "```css\n",
    ".relative1 {\n",
    "  position: relative;\n",
    "}\n",
    ".relative2 {\n",
    "  position: relative;\n",
    "  top: -20px;\n",
    "  left: 20px;\n",
    "  background-color: white;\n",
    "  width: 500px;\n",
    "}\n",
    "```\n",
    "- absolute -- absolute是相对于最近的positioned的祖先元素,如果absolute没有最近的positioned的祖先元素,那么他是相对于文档的body元素,absolute需要一个合适的参照物\n",
    "\n",
    "```css\n",
    ".relative {\n",
    "  position: relative;\n",
    "  width: 600px;\n",
    "  height: 400px;\n",
    "}\n",
    ".absolute {\n",
    "  position: absolute;\n",
    "  top: 120px;\n",
    "  left: 0;\n",
    "  width: 300px;\n",
    "  height: 200px;\n",
    "}\n",
    "\n",
    "```"
   ]
  },
  {
   "cell_type": "markdown",
   "metadata": {},
   "source": [
    "## 10.做一个三角形"
   ]
  },
  {
   "cell_type": "markdown",
   "metadata": {},
   "source": [
    "```css\n",
    "div {\n",
    "    width: 0;\n",
    "    height: 0;\n",
    "    border-width: 20px;\n",
    "    border-style: solid;\n",
    "    border-color: transparent transparent red transparent;\n",
    "  }\n",
    "```"
   ]
  },
  {
   "cell_type": "markdown",
   "metadata": {},
   "source": [
    "![](https://upload-images.jianshu.io/upload_images/7505161-df5ccd103ce89837.png?imageMogr2/auto-orient/strip%7CimageView2/2/w/1240)\n"
   ]
  },
  {
   "cell_type": "markdown",
   "metadata": {},
   "source": [
    "## 11.浏览器的兼容性"
   ]
  },
  {
   "cell_type": "markdown",
   "metadata": {},
   "source": [
    "- 浏览器默认的margin和padding不同。解决方案是加一个全局的*{margin:0;padding:0;}来统一\n",
    "- （条件注释）缺点是在IE浏览器下可能会增加额外的HTTP请求数\n",
    "- Chrome 中文界面下默认会将小于 12px 的文本强制按照 12px 显示,\n",
    "     可通过加入 CSS 属性 -webkit-text-size-adjust: none; 解决。\n",
    "- 超链接访问过后hover样式就不出现了 被点击访问过的超链接样式不在具有hover和active了解决方法是改变CSS属性的排列顺序:L-V-H-A :  a:link {} a:visited {} a:hover {} a:active {}     "
   ]
  },
  {
   "cell_type": "code",
   "execution_count": null,
   "metadata": {},
   "outputs": [],
   "source": []
  }
 ],
 "metadata": {
  "kernelspec": {
   "display_name": "Python 3",
   "language": "python",
   "name": "python3"
  },
  "language_info": {
   "codemirror_mode": {
    "name": "ipython",
    "version": 3
   },
   "file_extension": ".py",
   "mimetype": "text/x-python",
   "name": "python",
   "nbconvert_exporter": "python",
   "pygments_lexer": "ipython3",
   "version": "3.6.1"
  }
 },
 "nbformat": 4,
 "nbformat_minor": 2
}
