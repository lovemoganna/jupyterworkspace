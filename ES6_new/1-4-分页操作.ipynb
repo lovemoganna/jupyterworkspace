{
 "cells": [
  {
   "cell_type": "markdown",
   "metadata": {},
   "source": [
    "## 分页操作"
   ]
  },
  {
   "cell_type": "code",
   "execution_count": 21,
   "metadata": {},
   "outputs": [
    {
     "data": {
      "text/plain": [
       "[ [ 1, 2, 3, 4, 5, 6 ], [ 7, 8 ] ]"
      ]
     },
     "execution_count": 21,
     "metadata": {},
     "output_type": "execute_result"
    }
   ],
   "source": [
    "var digst = [1,2,3,4,5,6,7,8]\n",
    "\n",
    "// 进行遍历输出\n",
    "// 定义分页规则\n",
    "function Pages(){\n",
    "    var pages = []\n",
    "    for(index in digst){\n",
    "        item = digst[index]    \n",
    "        var page = Math.floor(index / 6)\n",
    "        // 就现在page存在 0,1两种情况\n",
    "        // 如果当前页没有数据,就生成一个新的数组.\n",
    "        if(!pages[page]){\n",
    "            pages[page] = []\n",
    "        }        \n",
    "        pages[page].push(item)        \n",
    "    }\n",
    "        return pages;\n",
    "    }\n",
    "Pages()\n"
   ]
  },
  {
   "cell_type": "markdown",
   "metadata": {},
   "source": [
    "##  indexOf() 方法可返回某个指定的字符串值在字符串中首次出现的位置"
   ]
  },
  {
   "cell_type": "code",
   "execution_count": 49,
   "metadata": {},
   "outputs": [
    {
     "data": {
      "text/plain": [
       "6"
      ]
     },
     "execution_count": 49,
     "metadata": {},
     "output_type": "execute_result"
    }
   ],
   "source": [
    "var fruits=[\"Banana\",\"Orange\",\"Apple\",\"Mango\",\"Banana\",\"Orange\",\"Apple\"];\n",
    "var a = fruits.indexOf(\"Apple\",4); \n",
    "a"
   ]
  },
  {
   "cell_type": "markdown",
   "metadata": {},
   "source": [
    "### 权限收敛和封装变量的应用(保密和权限收敛工作需要闭包)"
   ]
  },
  {
   "cell_type": "code",
   "execution_count": 62,
   "metadata": {},
   "outputs": [
    {
     "data": {
      "text/plain": [
       "false"
      ]
     },
     "execution_count": 62,
     "metadata": {},
     "output_type": "execute_result"
    }
   ],
   "source": [
    "function isFirstLoad(){\n",
    "    var _list = []\n",
    "    return function(id){\n",
    "        // 如果输入第二遍,则返回false\n",
    "        if(_list.indexOf(id) >= 0){            \n",
    "            return false            \n",
    "        }else{\n",
    "            _list.push(id)            \n",
    "            return true\n",
    "        }\n",
    "    }    \n",
    "}\n",
    "\n",
    "var firstLoad = isFirstLoad()\n",
    "firstLoad(10) //true\n",
    "firstLoad(10) //fale"
   ]
  }
 ],
 "metadata": {
  "kernelspec": {
   "display_name": "Javascript (Node.js)",
   "language": "javascript",
   "name": "javascript"
  },
  "language_info": {
   "file_extension": ".js",
   "mimetype": "application/javascript",
   "name": "javascript",
   "version": "8.9.2"
  }
 },
 "nbformat": 4,
 "nbformat_minor": 2
}
