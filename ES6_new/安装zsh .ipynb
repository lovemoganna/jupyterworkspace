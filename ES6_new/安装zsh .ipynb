{
 "cells": [
  {
   "cell_type": "markdown",
   "metadata": {},
   "source": [
    "## 安装`apt-cyg`\n",
    "\n",
    "` lynx -source raw.githubusercontent.com/transcode-open/apt-cyg/master/apt-cyg > apt-cyg`\n",
    "\n",
    "` install apt-cyg /bin`"
   ]
  },
  {
   "cell_type": "markdown",
   "metadata": {},
   "source": [
    "## git的知识\n",
    "\n",
    "\n",
    "```text\n",
    "git config --list \n",
    "\n",
    "git config user.name \"\" --global\n",
    "git config user.email \"\" --global\n",
    "\n",
    "git config --global core.editor \"code --wait\"\n",
    "```\n",
    "\n",
    "virtualenv"
   ]
  }
 ],
 "metadata": {
  "kernelspec": {
   "display_name": "Javascript (Node.js)",
   "language": "javascript",
   "name": "javascript"
  },
  "language_info": {
   "file_extension": ".js",
   "mimetype": "application/javascript",
   "name": "javascript",
   "version": "8.9.0"
  }
 },
 "nbformat": 4,
 "nbformat_minor": 2
}
