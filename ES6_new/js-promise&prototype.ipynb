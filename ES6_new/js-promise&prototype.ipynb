{
 "cells": [
  {
   "cell_type": "code",
   "execution_count": 9,
   "metadata": {},
   "outputs": [
    {
     "data": {
      "text/html": [
       "<iframe width=\"729\" height=\"410\" src=\"https://www.youtube.com/embed/rJesac0_Ftw\" frameborder=\"0\" allow=\"autoplay; encrypted-media\" allowfullscreen></iframe>"
      ],
      "text/plain": [
       "<IPython.core.display.HTML object>"
      ]
     },
     "execution_count": 9,
     "metadata": {},
     "output_type": "execute_result"
    }
   ],
   "source": [
    "from IPython.display import HTML\n",
    "HTML('<iframe width=\"729\" height=\"410\" src=\"https://www.youtube.com/embed/rJesac0_Ftw\" frameborder=\"0\" allow=\"autoplay; encrypted-media\" allowfullscreen></iframe>')"
   ]
  },
  {
   "cell_type": "markdown",
   "metadata": {},
   "source": [
    "fill text json\n",
    "\n",
    "handlebars.js\n",
    "\n",
    "处理 ajax的错误请求.\n",
    "\n",
    " "
   ]
  },
  {
   "cell_type": "markdown",
   "metadata": {},
   "source": [
    "## json的样式\n",
    "\n",
    "```json\n",
    "var myCat = {\n",
    "    \"name\" : \"Meowsalot\",\n",
    "    \"species\":\"cat\",\n",
    "    \"favFood\":\"tuna\"\n",
    "}\n",
    "\n",
    "var myFavColors = [\"blue\",\"green\",\"purple\"]\n",
    "\n",
    "var thePets = [\n",
    "     {\n",
    "        \"name\" : \"Barky\",\n",
    "        \"species\":\"dog\",\n",
    "        \"favFood\":\"carrots\"\n",
    "    },\n",
    "    {\n",
    "        \"name\" : \"Meowsalot\",\n",
    "        \"species\":\"cat\",\n",
    "        \"favFood\":\"tuna\"\n",
    "    }\n",
    "]\n",
    "```\n",
    "url-1 : `https://learnwebcode.github.io/json-example/animals-1.json`\n",
    "url-2 : `https://learnwebcode.github.io/json-example/animals-2.json`"
   ]
  },
  {
   "cell_type": "markdown",
   "metadata": {},
   "source": [
    "- 创建ajax对象.\n",
    "- 构建请求类型以及URL.\n",
    "- 载入onload事件,解析JSON数据.\n",
    "- 发送ajax请求."
   ]
  },
  {
   "cell_type": "markdown",
   "metadata": {},
   "source": [
    "### 克林贡语\n",
    "\n",
    "![](https://www.kli.org/wp-content/uploads/2014/03/pIqaDDemo1.jpg)"
   ]
  },
  {
   "cell_type": "markdown",
   "metadata": {},
   "source": [
    "```html\n",
    "element.insertAdjacentHTML(position, text);\n",
    "\n",
    "position是相对于元素的位置，并且必须是以下字符串之一：\n",
    "\n",
    "'beforebegin'\n",
    "元素自身的前面。\n",
    "'afterbegin'\n",
    "插入元素内部的第一个子节点之前。\n",
    "'beforeend'\n",
    "插入元素内部的最后一个子节点之后。\n",
    "'afterend'\n",
    "元素自身的后面。\n",
    "text是要被解析为HTML或XML,并插入到DOM树中的字符串\n",
    "```\n",
    "\n",
    "```html\n",
    "// <div id=\"one\">one</div> \n",
    "var d1 = document.getElementById('one'); \n",
    "d1.insertAdjacentHTML('afterend', '<div id=\"two\">two</div>');\n",
    "\n",
    "// 此时，新结构变成： // <div id=\"one\">one</div><div id=\"two\">two</div>\n",
    "\n",
    "\n",
    "// ES6 version\n",
    "\n",
    "// let html = `<div id=\"two\">two</div>`;\n",
    "// div.insertAdjacentHTML(`beforeend`, html);\n",
    "```"
   ]
  },
  {
   "cell_type": "markdown",
   "metadata": {},
   "source": [
    "## ajax的get请求"
   ]
  },
  {
   "cell_type": "markdown",
   "metadata": {},
   "source": [
    "```html\n",
    "<!DOCTYPE html>\n",
    "<html lang=\"en\">\n",
    "\n",
    "<head>\n",
    "    <meta charset=\"UTF-8\">\n",
    "    <meta name=\"viewport\" content=\"width=device-width, initial-scale=1.0\">\n",
    "    <meta http-equiv=\"X-UA-Compatible\" content=\"ie=edge\">\n",
    "    <title>Document</title>\n",
    "\n",
    "    <style>\n",
    "        #btn {\n",
    "            position: relative;\n",
    "            top: -62px;\n",
    "            left: 260px;\n",
    "            background: blueviolet;\n",
    "            padding: 10px;\n",
    "            color: white;\n",
    "        }\n",
    "\n",
    "        .hide {\n",
    "            display: none;\n",
    "        }\n",
    "    </style>\n",
    "</head>\n",
    "\n",
    "<body>\n",
    "    <header>\n",
    "        <h1> JSON and AJAX </h1>\n",
    "        <button id=\"btn\">Fetch Info for 3 New Animals</button>\n",
    "    </header>\n",
    "    <div id=\"animal-info\">\n",
    "\n",
    "    </div>\n",
    "    <script>\n",
    "\n",
    "        var pageCounter = 1;\n",
    "        var btn = document.getElementById('btn')\n",
    "        var animalContainer = document.getElementById('animal-info')\n",
    "        btn.addEventListener('click', function () {\n",
    "            var req = new XMLHttpRequest()\n",
    "            req.open('GET', `https://learnwebcode.github.io/json-example/animals-${pageCounter}.json`)\n",
    "            req.onload = function () {\n",
    "                // 其他错误处理\n",
    "                if (req.status >= 200 && req.status < 400) {\n",
    "                    var jsonData = req.responseText\n",
    "                    var data = JSON.parse(jsonData)\n",
    "                    renderHTML(data)\n",
    "                } else {\n",
    "                    console.log('网络出错了!');\n",
    "                }\n",
    "            }\n",
    "            \n",
    "            // ajax错误处理\n",
    "            req.onerror = function () {\n",
    "                console.log('connect error');\n",
    "            }\n",
    "            req.send();\n",
    "            pageCounter++;\n",
    "\n",
    "            if (pageCounter > 3) {\n",
    "                // 给button添加class,设置隐藏\n",
    "                btn.classList.add(\"hide\")\n",
    "            }\n",
    "        })\n",
    "\n",
    "        function renderHTML(data) {\n",
    "            var htmlString = ''\n",
    "\n",
    "            for (const animal of data) {\n",
    "                htmlString += '<p>' + animal.name + ' is a ' + animal.species + ' that likes to eat '\n",
    "\n",
    "                for (var i = 0; i < animal.foods.likes.length; i++) {\n",
    "                    if (i === 0) {\n",
    "                        htmlString += animal.foods.likes[i]\n",
    "                    } else {\n",
    "                        htmlString += ' and ' + animal.foods.likes[i]\n",
    "                    }\n",
    "                }\n",
    "\n",
    "                htmlString += ' and dislike eat'\n",
    "\n",
    "                for (var i = 0; i < animal.foods.dislikes.length; i++) {\n",
    "                    if (i === 0) {\n",
    "                        htmlString += animal.foods.dislikes[i]\n",
    "                    } else {\n",
    "                        htmlString += ' and ' + animal.foods.dislikes[i]\n",
    "                    }\n",
    "                }\n",
    "\n",
    "                htmlString += '</p>'\n",
    "            }\n",
    "\n",
    "            // insertAdjacentHTML() 将指定的文本解析为HTML或XML，并将结果节点插入到DOM树中的指定位置。\n",
    "            animalContainer.insertAdjacentHTML('beforeend', htmlString)\n",
    "        }\n",
    "    </script>\n",
    "</body>\n",
    "\n",
    "</html>\n",
    "```"
   ]
  },
  {
   "cell_type": "markdown",
   "metadata": {},
   "source": [
    "## filltext.com 测试结果\n",
    "\n",
    "随机生成100个名字 `http://www.filltext.com/?rows=100&name={firstName}`\n",
    "\n",
    "`http://www.filltext.com/?rows=5&name={randomNumber|10}`\n",
    "\n",
    "`http://www.filltext.com/?rows=5&name={randomString|10}`\n",
    "\n",
    "`http://www.filltext.com/?rows=5&name={randomNumberLength|30}`\n",
    "\n",
    "`http://www.filltext.com/?rows=10&id={index}&firstName={firstName}&lastName={lastName}&category=[1.5,6,8,12]&phone={phone|format}`"
   ]
  },
  {
   "cell_type": "code",
   "execution_count": 16,
   "metadata": {},
   "outputs": [
    {
     "data": {
      "text/html": [
       "<iframe width=\"656\" height=\"410\" src=\"https://www.youtube.com/embed/s6SH72uAn3Q\" frameborder=\"0\" allow=\"autoplay; encrypted-media\" allowfullscreen></iframe>"
      ],
      "text/plain": [
       "<IPython.core.display.HTML object>"
      ]
     },
     "execution_count": 16,
     "metadata": {},
     "output_type": "execute_result"
    }
   ],
   "source": [
    "HTML('<iframe width=\"656\" height=\"410\" src=\"https://www.youtube.com/embed/s6SH72uAn3Q\" frameborder=\"0\" allow=\"autoplay; encrypted-media\" allowfullscreen></iframe>')"
   ]
  },
  {
   "cell_type": "markdown",
   "metadata": {},
   "source": [
    "## promise"
   ]
  },
  {
   "cell_type": "markdown",
   "metadata": {},
   "source": [
    "做事\n",
    "- promise\n",
    "    - 打扫房间\n",
    "        + 打扫完毕\n",
    "            + 执行 `resolve()`\n",
    "        + 没有打扫\n",
    "            + 执行 `reject()`\n",
    "- resolve被执行的时候,执行`then()`   "
   ]
  },
  {
   "cell_type": "markdown",
   "metadata": {},
   "source": [
    "### sample example"
   ]
  },
  {
   "cell_type": "markdown",
   "metadata": {},
   "source": [
    "```js\n",
    "var promiseToCleanRoom = new Promise((resolve, reject) => {\n",
    "        var isClean = false\n",
    "        if (isClean) {\n",
    "            resolve('cleaned!')\n",
    "        } else {\n",
    "            reject('not cleaned')\n",
    "        }\n",
    "    })\n",
    "    promiseToCleanRoom.then(function (fromResolve) {\n",
    "        console.log('the room is ' + fromResolve);\n",
    "\n",
    "    }).catch(function (fromReject) {\n",
    "        console.log('the room is ' + fromReject);\n",
    "\n",
    "    })\n",
    "```"
   ]
  },
  {
   "cell_type": "markdown",
   "metadata": {},
   "source": [
    "### more example"
   ]
  },
  {
   "cell_type": "markdown",
   "metadata": {},
   "source": [
    "promise就是执行任务,比如你需要执行下面三个任务.\n",
    "\n",
    "- 打扫房间\n",
    "- 清理垃圾\n",
    "- 兑换奖励\n",
    "\n"
   ]
  },
  {
   "cell_type": "markdown",
   "metadata": {},
   "source": [
    "### 回调函数的形式调用"
   ]
  },
  {
   "cell_type": "markdown",
   "metadata": {},
   "source": [
    "```js\n",
    " let cleanRoom = function () {\n",
    "    return new Promise(function (resolve, reject) {\n",
    "        resolve(' cleaned the room!')\n",
    "    })\n",
    "}\n",
    " \n",
    "// message用来接收上面传递的参数\n",
    "let removeGarbage = function (message) {\n",
    "    return new Promise(function (resolve, reject) {\n",
    "        resolve(message + ' remove garbage!')\n",
    "    })\n",
    "}\n",
    "let winReward  = function (message) {\n",
    "    return new Promise(function (resolve, reject) {\n",
    "        resolve(message + ' win reward!')\n",
    "    })\n",
    "}\n",
    "// 里面传递的 参数就是resolve里面的值,result参数会一直传递下去\n",
    "\n",
    "cleanRoom().then(function(result){\n",
    "    // this is a promise\n",
    "    return removeGarbage(result)\n",
    "}).then(function(result){\n",
    "    // this is a promise\n",
    "    return winReward(result)\n",
    "}).then(function(result){\n",
    "    console.log('promise finished' + result);\n",
    "\n",
    "})\n",
    "```"
   ]
  },
  {
   "cell_type": "markdown",
   "metadata": {},
   "source": [
    "### 数组的形式来写promise"
   ]
  },
  {
   "cell_type": "markdown",
   "metadata": {},
   "source": [
    "```html\n",
    "<!DOCTYPE html>\n",
    "<html lang=\"en\">\n",
    "\n",
    "<head>\n",
    "    <meta charset=\"UTF-8\">\n",
    "    <meta name=\"viewport\" content=\"width=device-width, initial-scale=1.0\">\n",
    "    <meta http-equiv=\"X-UA-Compatible\" content=\"ie=edge\">\n",
    "    <title>Promise</title>\n",
    "</head>\n",
    "\n",
    "<body>\n",
    "    <script>\n",
    "        let cleanRoom = function () {\n",
    "            return new Promise(function (resolve, reject) {\n",
    "                resolve(' cleaned the room!')\n",
    "            })\n",
    "        }\n",
    "        let removeGarbage = function () {\n",
    "            return new Promise(function (resolve, reject) {\n",
    "                resolve(' remove garbage!')\n",
    "            })\n",
    "        }\n",
    "        let winReward = function () {\n",
    "            return new Promise(function (resolve, reject) {\n",
    "                resolve(' win reward!')\n",
    "            })\n",
    "        }\n",
    "\n",
    "        var result;\n",
    "        // 按照数组的顺序来处理任务\n",
    "        Promise.all([cleanRoom(), removeGarbage(result), winReward(result)]).then(function (result) {\n",
    "            console.log('all finished!' + result);\n",
    "        })\n",
    "\n",
    "        //  等不及随机处理一个任务.\n",
    "        //   Promise.race([cleanRoom(),removeGarbage(),winReward()]).then(function(result){\n",
    "        //     console.log('one of them is finished!' + result);\n",
    "        // })\n",
    "    </script>\n",
    "</body>\n",
    "\n",
    "</html>\n",
    "```"
   ]
  },
  {
   "cell_type": "code",
   "execution_count": 22,
   "metadata": {},
   "outputs": [
    {
     "data": {
      "text/html": [
       "<iframe width=\"656\" height=\"410\" src=\"https://www.youtube.com/embed/pTbSfCT42_M?list=PL7pEw9n3GkoW5bYOhVAtmJlak3ZK7SaDf\" frameborder=\"0\" allow=\"autoplay; encrypted-media\" allowfullscreen></iframe>"
      ],
      "text/plain": [
       "<IPython.core.display.HTML object>"
      ]
     },
     "execution_count": 22,
     "metadata": {},
     "output_type": "execute_result"
    }
   ],
   "source": [
    "HTML('<iframe width=\"656\" height=\"410\" src=\"https://www.youtube.com/embed/pTbSfCT42_M?list=PL7pEw9n3GkoW5bYOhVAtmJlak3ZK7SaDf\" frameborder=\"0\" allow=\"autoplay; encrypted-media\" allowfullscreen></iframe>')"
   ]
  },
  {
   "cell_type": "markdown",
   "metadata": {},
   "source": [
    "## callback"
   ]
  },
  {
   "cell_type": "markdown",
   "metadata": {},
   "source": [
    "### sample\n",
    "\n",
    "```js\n",
    "let x = function () {\n",
    "    console.log('i am called from inside a function');\n",
    "}\n",
    "\n",
    "let y = function(callback){\n",
    "   console.log('do something');\n",
    "   callback();\n",
    "}\n",
    "\n",
    "y(x)\n",
    "```"
   ]
  },
  {
   "cell_type": "markdown",
   "metadata": {},
   "source": [
    "### example2\n",
    "\n",
    "之前我们一般这么写:\n",
    "    \n",
    "```js\n",
    "let calc = function (num1, num2, calcType) {\n",
    "    if (calcType === 'add') {\n",
    "        return num1 + num2\n",
    "    } else if (calcType === 'multiply') {\n",
    "        return num1 * num2\n",
    "    }\n",
    "}\n",
    "console.log(calc(2, 3, 'add'));\n",
    "\n",
    "```\n",
    "\n",
    "现在我们改变成回调函数的方式来进行处理.\n",
    "\n",
    "```js\n",
    " let add = function (a, b) {\n",
    "    return a + b\n",
    "}\n",
    "\n",
    "let multiply = function (a, b) {\n",
    "    return a * b;\n",
    "}\n",
    "\n",
    "let numbers = function(a,b){\n",
    "    console.log(`the numbers is ${a} and ${b}`);\n",
    "\n",
    "}\n",
    "let calc = function (num1, num2, callback) {\n",
    "// 检测callback的类型\n",
    "    if(typeof callback === 'function'){\n",
    "        return callback(num1, num2)\n",
    "    }\n",
    "    return callback(num1, num2)\n",
    "}\n",
    "console.log(calc(2, 3, numbers))\n",
    "\n",
    "console.log(calc(2, 3, function(a,b){return a - b }))\n",
    "\n",
    "```"
   ]
  },
  {
   "cell_type": "markdown",
   "metadata": {},
   "source": [
    "### example3"
   ]
  },
  {
   "cell_type": "markdown",
   "metadata": {},
   "source": [
    "```js\n",
    "var arr = [{\n",
    "    num: 1,\n",
    "    str: 'apple'\n",
    "}, {\n",
    "    num: 7,\n",
    "    str: 'cabbage'\n",
    "}, {\n",
    "    num: 3,\n",
    "    str: 'bar'\n",
    "}]\n",
    "arr.sort(function (val1, val2) {\n",
    "    if (val1.num < val2.num) {\n",
    "        return -1\n",
    "    } else {\n",
    "        return 1\n",
    "    }\n",
    "})\n",
    "\n",
    "console.log(arr);\n",
    "```"
   ]
  },
  {
   "cell_type": "code",
   "execution_count": 26,
   "metadata": {},
   "outputs": [
    {
     "data": {
      "text/html": [
       "<iframe width=\"656\" height=\"410\" src=\"https://www.youtube.com/embed/oxoFVqetl1E?list=PL7pEw9n3GkoW5bYOhVAtmJlak3ZK7SaDf\" frameborder=\"0\" allow=\"autoplay; encrypted-media\" allowfullscreen></iframe>"
      ],
      "text/plain": [
       "<IPython.core.display.HTML object>"
      ]
     },
     "execution_count": 26,
     "metadata": {},
     "output_type": "execute_result"
    }
   ],
   "source": [
    "HTML('<iframe width=\"656\" height=\"410\" src=\"https://www.youtube.com/embed/oxoFVqetl1E?list=PL7pEw9n3GkoW5bYOhVAtmJlak3ZK7SaDf\" frameborder=\"0\" allow=\"autoplay; encrypted-media\" allowfullscreen></iframe>')"
   ]
  },
  {
   "cell_type": "code",
   "execution_count": null,
   "metadata": {},
   "outputs": [],
   "source": []
  },
  {
   "cell_type": "markdown",
   "metadata": {},
   "source": [
    "## var let 关键字\n",
    "\n",
    "- var js一诞生就有,let 是es/es6新添加的.\n",
    "\n",
    "- let是块级作用域,var是一个函数作用域.\n",
    "\n",
    "- var存在着变量提升,即JS在运行的时候,变量声明会提到函数的最顶部.\n",
    "\n",
    "```js\n",
    "let x = function () {\n",
    "    if (true) {\n",
    "        var v = 2;\n",
    "\n",
    "        let l = 1;\n",
    "    }\n",
    "    console.log(v); // 2\n",
    "    console.log(l); // l is not defined \n",
    "}\n",
    "x()\n",
    "```\n",
    "\n",
    "##  == & ===\n",
    "\n",
    "- == 只比较值\n",
    "- === 比较值和类型\n",
    "\n",
    "```\n",
    "1 == '1'\n",
    "true\n",
    "1 === '1'\n",
    "false\n",
    "```\n",
    "\n",
    "## let & const\n",
    "\n",
    "- const不能重新声明,不能重新赋值.\n",
    "- let不能重新声明,可以重新赋值.\n",
    "\n",
    "```js\n",
    "const a = [1, 2]\n",
    "a.push(3)\n",
    "console.log(a);\n",
    "```\n",
    "如果重新赋值的话,会出错.\n",
    "\n",
    "```js\n",
    "const a = [1, 2]\n",
    "a= [1,2,3]\n",
    "console.log(a);\n",
    "```\n"
   ]
  },
  {
   "cell_type": "markdown",
   "metadata": {},
   "source": []
  }
 ],
 "metadata": {
  "kernelspec": {
   "display_name": "Python 3",
   "language": "python",
   "name": "python3"
  },
  "language_info": {
   "codemirror_mode": {
    "name": "ipython",
    "version": 3
   },
   "file_extension": ".py",
   "mimetype": "text/x-python",
   "name": "python",
   "nbconvert_exporter": "python",
   "pygments_lexer": "ipython3",
   "version": "3.6.1"
  }
 },
 "nbformat": 4,
 "nbformat_minor": 2
}
