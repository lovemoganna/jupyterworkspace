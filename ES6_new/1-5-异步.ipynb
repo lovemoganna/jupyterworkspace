{
 "cells": [
  {
   "cell_type": "markdown",
   "metadata": {},
   "source": [
    "## Question"
   ]
  },
  {
   "cell_type": "markdown",
   "metadata": {},
   "source": [
    "## 1.同步和异步的区别?异步和同步的例子?\n",
    "\n",
    "```\n",
    "同步会阻塞代码的执行,异步不会\n",
    "alert是同步,setTimeout是异步\n",
    "```\n",
    "## 2.setTimeout的试题?\n",
    "## 3.使用异步的场景?"
   ]
  },
  {
   "cell_type": "markdown",
   "metadata": {},
   "source": [
    "## 知识点"
   ]
  },
  {
   "cell_type": "markdown",
   "metadata": {},
   "source": [
    "## 异步和同步?"
   ]
  },
  {
   "cell_type": "markdown",
   "metadata": {},
   "source": [
    "### 异步的示例"
   ]
  },
  {
   "cell_type": "code",
   "execution_count": 16,
   "metadata": {},
   "outputs": [
    {
     "name": "stdout",
     "output_type": "stream",
     "text": [
      "100\n",
      "300\n",
      "400\n",
      "200\n"
     ]
    }
   ],
   "source": [
    "console.log(100)\n",
    "setTimeout(()=>{\n",
    "    console.log(200)\n",
    "},1000)\n",
    "setTimeout(()=>{\n",
    "    console.log(400)\n",
    "},0)\n",
    "console.log(300)"
   ]
  },
  {
   "cell_type": "markdown",
   "metadata": {},
   "source": [
    "单线程执行的过程:\n",
    "\n",
    "- 先打印100\n",
    "- 执行setTimeout后,传入setTimeout的函数会被暂存起来,并不会立即执行.(单线程的特点就是不能同时干两件事)\n",
    "- 执行最后一行,打印300\n",
    "- 所有程序执行完毕之后,处于空闲状态的时候,会查看有没有暂存起来的函数要执行.\n",
    "- 发现暂存的setTimeout中的函数无需要等待时间,就立即来执行."
   ]
  },
  {
   "cell_type": "markdown",
   "metadata": {},
   "source": [
    "### 同步的示例"
   ]
  },
  {
   "cell_type": "code",
   "execution_count": 8,
   "metadata": {},
   "outputs": [
    {
     "name": "stdout",
     "output_type": "stream",
     "text": [
      "100\n",
      "300\n"
     ]
    }
   ],
   "source": [
    "console.log(100)\n",
    "// alert(200)\n",
    "console.log(300)\n",
    "\n",
    "// 同步如果走不通,会一直卡着."
   ]
  },
  {
   "cell_type": "markdown",
   "metadata": {},
   "source": [
    "### 需要异步的情况?"
   ]
  },
  {
   "cell_type": "markdown",
   "metadata": {},
   "source": [
    "- 在可能发生等待的情况.\n",
    "- 等待的过程中不能像alert一样阻塞程序运行\n",
    "- 所有\"等待的情况\"都需要异步"
   ]
  },
  {
   "cell_type": "markdown",
   "metadata": {},
   "source": [
    "## 前端需要异步的场景"
   ]
  },
  {
   "cell_type": "markdown",
   "metadata": {},
   "source": [
    "- 定时任务:setTimeout,setInverval(每隔几秒就触发)\n",
    "- 网络请求: ajax请求,动态`<img>`的加载\n",
    "- 事件绑定"
   ]
  },
  {
   "cell_type": "markdown",
   "metadata": {},
   "source": [
    "## ajax的异步请求"
   ]
  },
  {
   "cell_type": "markdown",
   "metadata": {},
   "source": [
    "![](https://upload-images.jianshu.io/upload_images/7505161-6cccbfb1a630abee.png?imageMogr2/auto-orient/strip%7CimageView2/2/w/1240)\n"
   ]
  },
  {
   "cell_type": "markdown",
   "metadata": {},
   "source": [
    "```js\n",
    "console.log('start');\n",
    "$.get('https:hdbk.site/api/data', (res) => {\n",
    "  console.log(res);\n",
    "\n",
    "})\n",
    "console.log('end');\n",
    "```"
   ]
  },
  {
   "cell_type": "markdown",
   "metadata": {},
   "source": [
    "### 图片的动态加载"
   ]
  },
  {
   "cell_type": "markdown",
   "metadata": {},
   "source": [
    "```js\n",
    "console.log('start');\n",
    "var img = document.createElement('img')\n",
    "img.onload=()=>{\n",
    "  console.log('loaded');\n",
    "}\n",
    "// 图片的加载是动态的,需要等待时间.\n",
    "img.src='https://images.unsplash.com/photo-1542841791-1925b02a2bbb?ixlib=rb-0.3.5&ixid=eyJhcHBfaWQiOjEyMDd9&s=84669c17523881b195a56965df10e498&auto=format&fit=crop&w=500&q=60'\n",
    "document.body.appendChild(img)\n",
    "console.log('end');\n",
    "```"
   ]
  },
  {
   "cell_type": "markdown",
   "metadata": {},
   "source": [
    "### Button的单击事件"
   ]
  },
  {
   "cell_type": "markdown",
   "metadata": {},
   "source": [
    "```js\n",
    "console.log('start')\n",
    "var btn1 = document.getElementById('btn1')\n",
    "btn1.addEventListener('click',function(){\n",
    "  console.log('clicked');\n",
    "  \n",
    "})\n",
    "console.log('end')\n",
    "```"
   ]
  }
 ],
 "metadata": {
  "kernelspec": {
   "display_name": "Javascript (Node.js)",
   "language": "javascript",
   "name": "javascript"
  },
  "language_info": {
   "file_extension": ".js",
   "mimetype": "application/javascript",
   "name": "javascript",
   "version": "8.9.2"
  }
 },
 "nbformat": 4,
 "nbformat_minor": 2
}
