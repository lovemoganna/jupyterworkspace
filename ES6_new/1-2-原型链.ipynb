{
 "cells": [
  {
   "cell_type": "markdown",
   "metadata": {},
   "source": [
    "## 问题"
   ]
  },
  {
   "cell_type": "markdown",
   "metadata": {},
   "source": [
    "### 1.如何判断一个变量是数组类型?\n",
    "```\n",
    "var arr = []\n",
    "arr instanceof Array // true\n",
    "```\n",
    "\n",
    "### 2.写一个原型链继承的例子?\n",
    "\n",
    "### 3.描述new一个对象的过程?\n",
    "\n",
    "- 传参.\n",
    "- 然后this先指向这个空对象.\n",
    "- 然后进行属性赋值.\n",
    "- 最后返回this\n",
    "- f这个对象就具备了构造函数的所有属性.\n",
    "\n",
    "### 4.zepto源码中如何使用原型链?"
   ]
  },
  {
   "cell_type": "markdown",
   "metadata": {},
   "source": [
    "## 知识点"
   ]
  },
  {
   "cell_type": "markdown",
   "metadata": {},
   "source": [
    "### 构造函数"
   ]
  },
  {
   "cell_type": "code",
   "execution_count": 1,
   "metadata": {},
   "outputs": [
    {
     "data": {
      "text/plain": [
       "Foo { name: 'zhangsan', age: 20, class: 'class-1' }"
      ]
     },
     "execution_count": 1,
     "metadata": {},
     "output_type": "execute_result"
    }
   ],
   "source": [
    "// 构造函数\n",
    "function Foo(name,age){\n",
    "    this.name= name;\n",
    "    this.age=age;\n",
    "    this.class='class-1'\n",
    "    // 默认有 return this\n",
    "}\n",
    "var f = new Foo('zhangsan',20)\n",
    "f"
   ]
  },
  {
   "cell_type": "markdown",
   "metadata": {},
   "source": [
    "- 构造函数的特点\n",
    "    + 字母名称大写\n",
    "    + this指的是new出来的对象\n",
    "\n",
    "\n",
    "- new一个对象的过程\n",
    "    + 传参.\n",
    "    + 然后this先变成一个空对象.\n",
    "    + 然后进行属性赋值.\n",
    "    + 默认将this,return回来.\n",
    "    + f这个对象就具备了构造函数的所有属性."
   ]
  },
  {
   "cell_type": "markdown",
   "metadata": {},
   "source": [
    "### 构造函数-扩展"
   ]
  },
  {
   "cell_type": "markdown",
   "metadata": {},
   "source": [
    "- var a = {}\n",
    "- var a= []\n",
    "\n",
    "- function Foo(){...}\n",
    "\n",
    "等价于\n",
    "\n",
    "- var Foo = new Function({...});"
   ]
  },
  {
   "cell_type": "markdown",
   "metadata": {},
   "source": [
    "### 原型规则和示例"
   ]
  },
  {
   "cell_type": "markdown",
   "metadata": {},
   "source": [
    "- 1.所有的引用类型(数组,对象,函数),都具有对象特性,即可自由扩展属性(除了null)"
   ]
  },
  {
   "cell_type": "code",
   "execution_count": 14,
   "metadata": {},
   "outputs": [
    {
     "data": {
      "text/plain": [
       "{ a: 100 }"
      ]
     },
     "execution_count": 14,
     "metadata": {},
     "output_type": "execute_result"
    }
   ],
   "source": [
    "var obj={}\n",
    "obj.a = 100;\n",
    "obj"
   ]
  },
  {
   "cell_type": "code",
   "execution_count": 16,
   "metadata": {},
   "outputs": [
    {
     "data": {
      "text/plain": [
       "[ a: 100 ]"
      ]
     },
     "execution_count": 16,
     "metadata": {},
     "output_type": "execute_result"
    }
   ],
   "source": [
    "var arr=[]\n",
    "arr.a = 100\n",
    "arr"
   ]
  },
  {
   "cell_type": "code",
   "execution_count": 23,
   "metadata": {},
   "outputs": [
    {
     "data": {
      "text/plain": [
       "{ [Function: fn] a: 100 }"
      ]
     },
     "execution_count": 23,
     "metadata": {},
     "output_type": "execute_result"
    }
   ],
   "source": [
    "function fn(){}\n",
    "fn.a=100\n",
    "fn.prototype.constructor\n"
   ]
  },
  {
   "cell_type": "code",
   "execution_count": 26,
   "metadata": {},
   "outputs": [
    {
     "data": {
      "text/plain": [
       "fn {}"
      ]
     },
     "execution_count": 26,
     "metadata": {},
     "output_type": "execute_result"
    }
   ],
   "source": [
    "var foo = new fn()\n",
    "foo.__proto__"
   ]
  },
  {
   "cell_type": "markdown",
   "metadata": {},
   "source": [
    "- 2.所有的引用类型(数组,对象,函数),都有一个 `__proto__ 属性` (隐式原型),属性值是一个普通的对象."
   ]
  },
  {
   "cell_type": "code",
   "execution_count": 31,
   "metadata": {},
   "outputs": [
    {
     "name": "stdout",
     "output_type": "stream",
     "text": [
      "{}\n",
      "[]\n",
      "[Function]\n"
     ]
    }
   ],
   "source": [
    "console.log(obj.__proto__)\n",
    "console.log(arr.__proto__)\n",
    "console.log(fn.__proto__)"
   ]
  },
  {
   "cell_type": "markdown",
   "metadata": {},
   "source": [
    "- 3.所有的函数,都有一个`prototype属性(显式原型)`,属性值也是一个普通的对象."
   ]
  },
  {
   "cell_type": "code",
   "execution_count": 33,
   "metadata": {},
   "outputs": [
    {
     "data": {
      "text/plain": [
       "fn {}"
      ]
     },
     "execution_count": 33,
     "metadata": {},
     "output_type": "execute_result"
    }
   ],
   "source": [
    "fn.prototype"
   ]
  },
  {
   "cell_type": "markdown",
   "metadata": {},
   "source": [
    "- 4.所有的引用类型(数组,对象,函数),`__proto`属性值指向它的构造函数的`prototype`属性值."
   ]
  },
  {
   "cell_type": "code",
   "execution_count": 39,
   "metadata": {},
   "outputs": [
    {
     "name": "stdout",
     "output_type": "stream",
     "text": [
      "true\n",
      "true\n"
     ]
    }
   ],
   "source": [
    "console.log(obj.__proto__ === Object.prototype)\n",
    "var f_1 = new fn()\n",
    "console.log(f_1.__proto__ === fn.prototype)"
   ]
  },
  {
   "cell_type": "markdown",
   "metadata": {},
   "source": [
    "- 5.想要得到一个对象的某个属性时,如果这个对象本身没有这个属性,那么就会去它的`__proto__`(隐式原型)中去寻找.\n",
    "  + 也就是去它的构造函数的显式原型中去查找."
   ]
  },
  {
   "cell_type": "code",
   "execution_count": 56,
   "metadata": {},
   "outputs": [
    {
     "name": "stdout",
     "output_type": "stream",
     "text": [
      "zhangsan 构造函数的显式原型创建属性\n",
      "23 '在对象上直接添加属性'\n",
      "Foo { printName: [Function] }\n"
     ]
    },
    {
     "data": {
      "text/plain": [
       "true"
      ]
     },
     "execution_count": 56,
     "metadata": {},
     "output_type": "execute_result"
    }
   ],
   "source": [
    "function Foo(name,age){\n",
    "    this.name = name;\n",
    "    this.age = age;\n",
    "}\n",
    "// 构造函数的显式原型添加属性\n",
    "Foo.prototype.printName = function(){\n",
    "    console.log(this.name,\"构造函数的显式原型创建属性\");\n",
    "}\n",
    "// 创建对象\n",
    "var f = new Foo(\"zhangsan\",23);\n",
    "f.printAge = function(){\n",
    "    console.log(this.age,\"在对象上直接添加属性\")\n",
    "}\n",
    "f.printName();\n",
    "f.printAge();\n",
    "console.log(f.__proto__);\n",
    "f.__proto__ === Foo.prototype\n",
    "\n",
    "// this指向f"
   ]
  },
  {
   "cell_type": "markdown",
   "metadata": {},
   "source": [
    "## 如何获得一个对象自身的属性?"
   ]
  },
  {
   "cell_type": "markdown",
   "metadata": {},
   "source": [
    "上面的f对象本身有`name,age`,以及我们给这个对象扩展的属性`printAge`.\n",
    "\n",
    "但是我们利用这个对象的构造函数扩展了一个属性(也就是在这个对象的显示原型对象上添加了一个属性).\n",
    "\n",
    "为了剔除这个属性.我们可以使用下面的方法."
   ]
  },
  {
   "cell_type": "code",
   "execution_count": 61,
   "metadata": {},
   "outputs": [
    {
     "name": "stdout",
     "output_type": "stream",
     "text": [
      "name\n",
      "age\n",
      "printAge\n"
     ]
    }
   ],
   "source": [
    "var item\n",
    "for(item in f){\n",
    "    if(f.hasOwnProperty(item)){\n",
    "        console.log(item)\n",
    "    }\n",
    "}"
   ]
  },
  {
   "cell_type": "markdown",
   "metadata": {},
   "source": [
    "### 原型链"
   ]
  },
  {
   "cell_type": "code",
   "execution_count": 68,
   "metadata": {},
   "outputs": [
    {
     "name": "stdout",
     "output_type": "stream",
     "text": [
      "zhangsan 构造函数的显式原型创建属性\n",
      "23 '在对象上直接添加属性'\n"
     ]
    },
    {
     "data": {
      "text/plain": [
       "'[object Object]'"
      ]
     },
     "execution_count": 68,
     "metadata": {},
     "output_type": "execute_result"
    }
   ],
   "source": [
    "function Foo(name,age){\n",
    "    this.name = name;\n",
    "    this.age = age;\n",
    "}\n",
    "// 构造函数的显式原型添加属性\n",
    "Foo.prototype.printName = function(){\n",
    "    console.log(this.name,\"构造函数的显式原型创建属性\");\n",
    "}\n",
    "// 创建对象\n",
    "var f = new Foo(\"zhangsan\",23);\n",
    "f.printAge = function(){\n",
    "    console.log(this.age,\"在对象上直接添加属性\")\n",
    "}\n",
    "f.printName();\n",
    "f.printAge();\n",
    "f.toString(); // 这一行就构成了原型链\n",
    "// 利用 f.__proto__.__proto__的方式去寻找这个属性.\n",
    "// 也就是去f的构造函数的隐式原型中去寻找.\n",
    "// 也就是Object的隐式原型中去寻找\n"
   ]
  },
  {
   "cell_type": "code",
   "execution_count": 69,
   "metadata": {},
   "outputs": [
    {
     "data": {
      "text/plain": [
       "'2'"
      ]
     },
     "execution_count": 69,
     "metadata": {},
     "output_type": "execute_result"
    }
   ],
   "source": [
    "var n = new Number(2)\n",
    "n.toString(); // toString()是顶级构造函数上具有的属性."
   ]
  },
  {
   "cell_type": "markdown",
   "metadata": {},
   "source": [
    "![](https://upload-images.jianshu.io/upload_images/7505161-d0e79a98965413cd.png?imageMogr2/auto-orient/strip%7CimageView2/2/w/1240)"
   ]
  },
  {
   "cell_type": "markdown",
   "metadata": {},
   "source": [
    "![](https://upload-images.jianshu.io/upload_images/7505161-6cf11df534bf1082.png?imageMogr2/auto-orient/strip%7CimageView2/2/w/1240)\n"
   ]
  },
  {
   "cell_type": "markdown",
   "metadata": {},
   "source": [
    "### instanceof"
   ]
  },
  {
   "cell_type": "markdown",
   "metadata": {},
   "source": [
    "我们使用`instanceof`来判断`引用类型`是哪个`构造函数`.\n",
    "\n",
    "`instanceof运算符用于测试构造函数的prototype属性是否出现在对象的原型链中的任何位置`"
   ]
  },
  {
   "cell_type": "code",
   "execution_count": 72,
   "metadata": {},
   "outputs": [
    {
     "data": {
      "text/plain": [
       "true"
      ]
     },
     "execution_count": 72,
     "metadata": {},
     "output_type": "execute_result"
    }
   ],
   "source": [
    "var a =[]\n",
    "a instanceof Array"
   ]
  },
  {
   "cell_type": "markdown",
   "metadata": {},
   "source": [
    "他的判断逻辑是: \n",
    " - a 是否是Array这个构造函数new出来的.\n",
    " - a的`__proto__`(隐式原型对象)一层层的往上,是否对应到`Foo.prototype`\n",
    " - 再试着判断`a instanceof Object`\n",
    "     + a的`__proto__`一层一层的往上找,可以找到`Object.prototype`"
   ]
  },
  {
   "cell_type": "markdown",
   "metadata": {},
   "source": [
    "### 原型链继承的例子"
   ]
  },
  {
   "cell_type": "markdown",
   "metadata": {},
   "source": [
    "#### 封装一个DOM查询"
   ]
  },
  {
   "cell_type": "markdown",
   "metadata": {},
   "source": [
    "- 获得DOM节点\n",
    "- 替换html文档\n",
    "- 绑定一个事件"
   ]
  },
  {
   "cell_type": "markdown",
   "metadata": {},
   "source": [
    "```js\n",
    "function Elem(id){\n",
    "    this.elem = document.getElementById(id)\n",
    "}\n",
    "\n",
    "Elem.prototype.html = function(val){\n",
    "    var elem = this.elem\n",
    "    if(val){\n",
    "        elem.innerHTML = val \n",
    "        return this // 链式操作\n",
    "    }else{\n",
    "        return elem.innerHTML;\n",
    "    }\n",
    "}\n",
    "Elem.prototype.on = function(type,fn){\n",
    "    var elem = this.elem\n",
    "    elem.addEventListener(type,fn)\n",
    "    return this\n",
    "}\n",
    "var div1 = new Elem('main-page')\n",
    "div1.html(\"<p>DOM 封装</p>\").on('click',()=>{\n",
    "    alert('hi')\n",
    "}).html('<p>javascript</p>')\n",
    "```"
   ]
  }
 ],
 "metadata": {
  "kernelspec": {
   "display_name": "Python 3",
   "language": "python",
   "name": "python3"
  },
  "language_info": {
   "codemirror_mode": {
    "name": "ipython",
    "version": 3
   },
   "file_extension": ".py",
   "mimetype": "text/x-python",
   "name": "python",
   "nbconvert_exporter": "python",
   "pygments_lexer": "ipython3",
   "version": "3.6.1"
  }
 },
 "nbformat": 4,
 "nbformat_minor": 2
}
