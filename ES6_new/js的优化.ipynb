{
 "cells": [
  {
   "cell_type": "markdown",
   "metadata": {},
   "source": [
    "## 取反操作"
   ]
  },
  {
   "cell_type": "markdown",
   "metadata": {},
   "source": [
    "```js\n",
    "if(this.isActivated === false){\n",
    "    this.isActivated = true\n",
    "}else{\n",
    "    this.isActivated = false\n",
    "}\n",
    "\n",
    "// 简写\n",
    "this.isActivated = !this.isActivated\n",
    "```"
   ]
  },
  {
   "cell_type": "markdown",
   "metadata": {},
   "source": [
    "## 三元表达式"
   ]
  },
  {
   "cell_type": "markdown",
   "metadata": {},
   "source": [
    "```js\n",
    "\n",
    "handleChangeColor() {\n",
    "    if (this.activated) {\n",
    "        this.activated = ''\n",
    "    } else {\n",
    "        this.activated = = 'activated'\n",
    "    }\n",
    "}\n",
    "\n",
    "//simple write\n",
    "handleChangeColor() {\n",
    "    this.activated = this.activated ? '' : 'activated'\n",
    "}\n",
    "```\n"
   ]
  },
  {
   "cell_type": "markdown",
   "metadata": {},
   "source": [
    "## 比较两个数的大小的逻辑体\n",
    "```js\n",
    "if(a > b){\n",
    "    return a\n",
    "}{\n",
    "    return b\n",
    "}\n",
    "```\n",
    "\n",
    "可以写成下面这个样子\n",
    "```js\n",
    "if(a > b){\n",
    "   b = a \n",
    "}\n",
    "return b;\n",
    "```\n",
    "\n",
    "还可以这么写\n",
    "\n",
    "```js\n",
    "b > a ? b : a\n",
    "```\n"
   ]
  },
  {
   "cell_type": "code",
   "execution_count": null,
   "metadata": {},
   "outputs": [],
   "source": []
  }
 ],
 "metadata": {
  "kernelspec": {
   "display_name": "Javascript (Node.js)",
   "language": "javascript",
   "name": "javascript"
  },
  "language_info": {
   "file_extension": ".js",
   "mimetype": "application/javascript",
   "name": "javascript",
   "version": "8.9.0"
  }
 },
 "nbformat": 4,
 "nbformat_minor": 2
}
