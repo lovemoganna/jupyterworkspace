{
 "cells": [
  {
   "cell_type": "markdown",
   "metadata": {},
   "source": [
    "## 问题"
   ]
  },
  {
   "cell_type": "markdown",
   "metadata": {},
   "source": [
    "- 1.变量提升\n",
    "- 2.this的几种不同的使用场景\n",
    "- 3.创建10个<a>标签,点击的时候弹出来对应的序号.    \n",
    "- 4.理解作用域.\n",
    "    + 自由变量\n",
    "    + 作用域链,即自由变量的查找\n",
    "    + 闭包的两个场景: 1.函数作为返回值. 2.函数作为参数传递\n",
    "- 5.实际开发中的闭包."
   ]
  },
  {
   "cell_type": "markdown",
   "metadata": {},
   "source": [
    "`执行DOM操作,这样就可以运行10次这个函数了`\n",
    "\n",
    "```js\n",
    "var i\n",
    "for(i =0;i <10;i++){\n",
    "    (function(i){\n",
    "        var a = document.createElement('a')\n",
    "        a.innerHTML = i + '<br>'\n",
    "        a.addEventListener('click',function(e){\n",
    "            e.preventDefault()\n",
    "            alert(i)\n",
    "        })\n",
    "        document.body.appendChild(a)\n",
    "    })(i)\n",
    "}\n",
    "```"
   ]
  },
  {
   "cell_type": "markdown",
   "metadata": {},
   "source": [
    "### 实际闭包中的应用"
   ]
  },
  {
   "cell_type": "markdown",
   "metadata": {},
   "source": [
    "封装变量,收敛权限"
   ]
  },
  {
   "cell_type": "code",
   "execution_count": 95,
   "metadata": {},
   "outputs": [
    {
     "data": {
      "text/plain": [
       "false"
      ]
     },
     "execution_count": 95,
     "metadata": {},
     "output_type": "execute_result"
    }
   ],
   "source": [
    "function isFirstLoad(){\n",
    "    var _list =[]\n",
    "    return function(id){\n",
    "        if(_list.indexOf(id) >= 0){\n",
    "            return false\n",
    "        }else{\n",
    "            _list.push(id)\n",
    "            return true\n",
    "        }\n",
    "    }\n",
    "}\n",
    "var firstLoad = isFirstLoad()\n",
    "firstLoad(10) // true\n",
    "firstLoad(10) // false \n",
    "\n",
    "// 闭包的作用就是增强了安全性.其他的地方没有办法拿到_list的值.\n",
    "// 封装了数据源,除了函数内部,其他函数拿不到_list"
   ]
  },
  {
   "cell_type": "markdown",
   "metadata": {},
   "source": [
    "## 知识点"
   ]
  },
  {
   "cell_type": "markdown",
   "metadata": {},
   "source": [
    "- 执行上下文\n",
    "- this\n",
    "- 作用域\n",
    "- 作用域链\n",
    "- 闭包"
   ]
  },
  {
   "cell_type": "markdown",
   "metadata": {},
   "source": [
    "### 执行上下文"
   ]
  },
  {
   "cell_type": "markdown",
   "metadata": {},
   "source": [
    "```\n",
    "- 执行上下文的范围: 一段<script>或者一个函数\n",
    "- 全局: 变量定义,函数声明(一段script中)\n",
    "- 函数: 变量定义,函数声明,this,arguments(函数当中)\n",
    "```"
   ]
  },
  {
   "cell_type": "markdown",
   "metadata": {},
   "source": [
    "#### 函数表达式"
   ]
  },
  {
   "cell_type": "code",
   "execution_count": 13,
   "metadata": {},
   "outputs": [
    {
     "name": "stdout",
     "output_type": "stream",
     "text": [
      "100\n"
     ]
    }
   ],
   "source": [
    "console.log(b) // 变量提升,相当于var b;光声明没赋值.\n",
    "var b = 100"
   ]
  },
  {
   "cell_type": "markdown",
   "metadata": {},
   "source": [
    "#### 函数声明\n",
    "\n"
   ]
  },
  {
   "cell_type": "code",
   "execution_count": 15,
   "metadata": {},
   "outputs": [
    {
     "name": "stdout",
     "output_type": "stream",
     "text": [
      "zhangsan 20\n"
     ]
    }
   ],
   "source": [
    "fn(\"zhangsan\") // 在整个程序执行之前,fn已经被提到前面去了.\n",
    "function fn(name){\n",
    "    age = 20\n",
    "    console.log(name,age)\n",
    "    var age\n",
    "}"
   ]
  },
  {
   "cell_type": "markdown",
   "metadata": {},
   "source": [
    "## this"
   ]
  },
  {
   "cell_type": "markdown",
   "metadata": {},
   "source": [
    "`this要在执行时才能确定值,定义时候没法确定`"
   ]
  },
  {
   "cell_type": "code",
   "execution_count": 16,
   "metadata": {},
   "outputs": [],
   "source": [
    "var a = {\n",
    "    name: 'A',\n",
    "    fn(){\n",
    "        console.log(this.name)\n",
    "    }\n",
    "}"
   ]
  },
  {
   "cell_type": "code",
   "execution_count": 17,
   "metadata": {},
   "outputs": [
    {
     "name": "stdout",
     "output_type": "stream",
     "text": [
      "A\n"
     ]
    }
   ],
   "source": [
    "a.fn()"
   ]
  },
  {
   "cell_type": "code",
   "execution_count": 19,
   "metadata": {},
   "outputs": [
    {
     "name": "stdout",
     "output_type": "stream",
     "text": [
      "B\n"
     ]
    }
   ],
   "source": [
    "a.fn.call({name:'B'})"
   ]
  },
  {
   "cell_type": "code",
   "execution_count": 24,
   "metadata": {},
   "outputs": [
    {
     "name": "stdout",
     "output_type": "stream",
     "text": [
      "undefined\n"
     ]
    }
   ],
   "source": [
    "var fn1 = a.fn\n",
    "fn1() // this === window,函数是在浏览器中运行的."
   ]
  },
  {
   "cell_type": "code",
   "execution_count": 26,
   "metadata": {},
   "outputs": [],
   "source": [
    "// js 是一门解释型语言,他会在执行中报错."
   ]
  },
  {
   "cell_type": "markdown",
   "metadata": {},
   "source": [
    "### this的使用场景"
   ]
  },
  {
   "cell_type": "markdown",
   "metadata": {},
   "source": [
    "- 作为构造函数执行\n",
    "- 作为对象属性执行\n",
    "- 作为普通函数执行\n",
    "- call apply bind"
   ]
  },
  {
   "cell_type": "markdown",
   "metadata": {},
   "source": [
    "1.作为构造函数执行"
   ]
  },
  {
   "cell_type": "code",
   "execution_count": 30,
   "metadata": {},
   "outputs": [],
   "source": [
    "function Foo(name){\n",
    "//     this = {}\n",
    "    this.name =name\n",
    "//     return this\n",
    "}\n",
    "var f = new Foo('zhangsan');"
   ]
  },
  {
   "cell_type": "markdown",
   "metadata": {},
   "source": [
    "2.作为对象属性来执行"
   ]
  },
  {
   "cell_type": "code",
   "execution_count": 32,
   "metadata": {},
   "outputs": [
    {
     "name": "stdout",
     "output_type": "stream",
     "text": [
      "A\n"
     ]
    }
   ],
   "source": [
    "var obj ={\n",
    "    name: \"A\",\n",
    "    printName(){\n",
    "        console.log(this.name)\n",
    "    }\n",
    "}\n",
    "\n",
    "obj.printName(); // 此时作为对象属性来执行."
   ]
  },
  {
   "cell_type": "markdown",
   "metadata": {},
   "source": [
    "3.作为普通函数来执行."
   ]
  },
  {
   "cell_type": "code",
   "execution_count": 37,
   "metadata": {},
   "outputs": [],
   "source": [
    "function fn(){\n",
    "    console.log(this) // this === window\n",
    "}"
   ]
  },
  {
   "cell_type": "markdown",
   "metadata": {},
   "source": [
    "4.call apply bind"
   ]
  },
  {
   "cell_type": "code",
   "execution_count": 46,
   "metadata": {},
   "outputs": [
    {
     "name": "stdout",
     "output_type": "stream",
     "text": [
      "zhangsan 20\n",
      "{ x: '100' }\n"
     ]
    }
   ],
   "source": [
    "// call 的用法\n",
    "function fn1(name,age){\n",
    "    console.log(name,age)\n",
    "    console.log(this) // this === window\n",
    "}\n",
    "\n",
    "fn1.call({x:'100'},'zhangsan','20') // this是第一个参数"
   ]
  },
  {
   "cell_type": "code",
   "execution_count": 48,
   "metadata": {},
   "outputs": [
    {
     "name": "stdout",
     "output_type": "stream",
     "text": [
      "zhangsan 20\n",
      "{ y: '200' }\n"
     ]
    }
   ],
   "source": [
    "// bind的用法: 必须是一个函数表达式\n",
    "var fn2 = function fn1(name,age){\n",
    "    console.log(name,age)\n",
    "    console.log(this) // this === window\n",
    "}.bind({y:'200'})\n",
    "\n",
    "fn2('zhangsan','20')"
   ]
  },
  {
   "cell_type": "markdown",
   "metadata": {},
   "source": [
    "3.apply"
   ]
  },
  {
   "cell_type": "code",
   "execution_count": 51,
   "metadata": {},
   "outputs": [
    {
     "name": "stdout",
     "output_type": "stream",
     "text": [
      "zhangsan 20\n",
      "{ x: '100' }\n"
     ]
    }
   ],
   "source": [
    "// apply特点就是输入的参数必须是一个数组.\n",
    "function fn1(name,age){\n",
    "    console.log(name,age)\n",
    "    console.log(this) // this === window\n",
    "}\n",
    "\n",
    "fn1.apply({x:'100'},['zhangsan','20']) "
   ]
  },
  {
   "cell_type": "markdown",
   "metadata": {},
   "source": [
    "## 作用域"
   ]
  },
  {
   "cell_type": "markdown",
   "metadata": {},
   "source": [
    "1.无块级作用域"
   ]
  },
  {
   "cell_type": "code",
   "execution_count": 53,
   "metadata": {},
   "outputs": [
    {
     "name": "stdout",
     "output_type": "stream",
     "text": [
      "zhangsan\n"
     ]
    }
   ],
   "source": [
    "if(true) var name= 'zhangsan'\n",
    "console.log(name)"
   ]
  },
  {
   "cell_type": "markdown",
   "metadata": {},
   "source": [
    "2.函数和全局作用域"
   ]
  },
  {
   "cell_type": "code",
   "execution_count": 1,
   "metadata": {},
   "outputs": [
    {
     "name": "stdout",
     "output_type": "stream",
     "text": [
      "global 100\n",
      "fn 200\n"
     ]
    }
   ],
   "source": [
    "var a = 100\n",
    "function fn(){\n",
    "    // 将变量写在自己的函数内部,防止变量污染\n",
    "    var a = 200\n",
    "    console.log('fn',a)\n",
    "}\n",
    "console.log('global',a)\n",
    "fn()"
   ]
  },
  {
   "cell_type": "markdown",
   "metadata": {},
   "source": [
    "3.块级作用域\n",
    "\n",
    "`let、const都是块级作用域`"
   ]
  },
  {
   "cell_type": "markdown",
   "metadata": {},
   "source": [
    "### 作用域链"
   ]
  },
  {
   "cell_type": "code",
   "execution_count": 67,
   "metadata": {},
   "outputs": [
    {
     "name": "stdout",
     "output_type": "stream",
     "text": [
      "100\n",
      "200\n"
     ]
    }
   ],
   "source": [
    "var a = 100\n",
    "function fn(){\n",
    "    var b = 200\n",
    "    console.log(a) // 如果函数里面没有这个变量就会去它的父级作用域去查找\n",
    "    console.log(b)\n",
    "}\n",
    "fn()"
   ]
  },
  {
   "cell_type": "code",
   "execution_count": 1,
   "metadata": {},
   "outputs": [
    {
     "name": "stdout",
     "output_type": "stream",
     "text": [
      "100\n",
      "200\n",
      "300\n"
     ]
    }
   ],
   "source": [
    "var a = 100\n",
    "function F1(){\n",
    "    var b = 200\n",
    "    function F2(){\n",
    "        var c = 300\n",
    "        console.log(a) // a是自由变量\n",
    "        console.log(b) // b是自由变量\n",
    "        console.log(c)\n",
    "    }\n",
    "    F2()\n",
    "}\n",
    "F1()\n",
    "\n",
    "// a去它的父级作用域去查找,找不到再到它的上一级的作用域去查找."
   ]
  },
  {
   "cell_type": "code",
   "execution_count": 4,
   "metadata": {},
   "outputs": [
    {
     "ename": "ReferenceError",
     "evalue": "aaa is not defined",
     "execution_count": 4,
     "output_type": "error",
     "traceback": [
      "evalmachine.<anonymous>:4",
      "console.log(aaa) // 如果要使用const,因为是块级作用域的关系,所以aaa不会声明.",
      "            ^",
      "",
      "ReferenceError: aaa is not defined",
      "    at evalmachine.<anonymous>:4:13",
      "    at ContextifyScript.Script.runInThisContext (vm.js:50:33)",
      "    at Object.runInThisContext (vm.js:139:38)",
      "    at run ([eval]:1002:15)",
      "    at onRunRequest ([eval]:829:18)",
      "    at onMessage ([eval]:789:13)",
      "    at emitTwo (events.js:126:13)",
      "    at process.emit (events.js:214:7)",
      "    at emit (internal/child_process.js:772:12)",
      "    at _combinedTickCallback (internal/process/next_tick.js:141:11)"
     ]
    }
   ],
   "source": [
    "if(true){\n",
    "\tconst aaa = 1\n",
    "}\n",
    "console.log(aaa) // 如果要使用const,因为是块级作用域的关系,所以aaa不会声明."
   ]
  },
  {
   "cell_type": "code",
   "execution_count": 5,
   "metadata": {},
   "outputs": [
    {
     "ename": "ReferenceError",
     "evalue": "bbaa is not defined",
     "execution_count": 5,
     "output_type": "error",
     "traceback": [
      "evalmachine.<anonymous>:4",
      "console.log(bbaa)",
      "            ^",
      "",
      "ReferenceError: bbaa is not defined",
      "    at evalmachine.<anonymous>:4:13",
      "    at ContextifyScript.Script.runInThisContext (vm.js:50:33)",
      "    at Object.runInThisContext (vm.js:139:38)",
      "    at run ([eval]:1002:15)",
      "    at onRunRequest ([eval]:829:18)",
      "    at onMessage ([eval]:789:13)",
      "    at emitTwo (events.js:126:13)",
      "    at process.emit (events.js:214:7)",
      "    at emit (internal/child_process.js:772:12)",
      "    at _combinedTickCallback (internal/process/next_tick.js:141:11)"
     ]
    }
   ],
   "source": [
    "if(true){\n",
    "\tlet bbaa = 1\n",
    "}\n",
    "console.log(bbaa)"
   ]
  },
  {
   "cell_type": "markdown",
   "metadata": {},
   "source": [
    "### 闭包"
   ]
  },
  {
   "cell_type": "markdown",
   "metadata": {},
   "source": [
    "#### 闭包的使用场景"
   ]
  },
  {
   "cell_type": "markdown",
   "metadata": {},
   "source": [
    "1.函数作为返回值"
   ]
  },
  {
   "cell_type": "code",
   "execution_count": 79,
   "metadata": {},
   "outputs": [
    {
     "name": "stdout",
     "output_type": "stream",
     "text": [
      "function\n",
      "100\n"
     ]
    }
   ],
   "source": [
    "function F1(){\n",
    "    var a = 100\n",
    "    // 函数作为一个返回值返回\n",
    "    return function(){    \n",
    "        console.log(a)\n",
    "    }\n",
    "}\n",
    "// 得到一个函数\n",
    "var f = F1()\n",
    "console.log(typeof f)\n",
    "\n",
    "var a = 200\n",
    "f()\n",
    "\n",
    "// 一个函数的父级作用域是在它定义的时候的作用域.而不是他执行的时候的作用域."
   ]
  },
  {
   "cell_type": "markdown",
   "metadata": {},
   "source": [
    "2.函数作为参数传递"
   ]
  },
  {
   "cell_type": "code",
   "execution_count": 82,
   "metadata": {},
   "outputs": [
    {
     "name": "stdout",
     "output_type": "stream",
     "text": [
      "100\n"
     ]
    }
   ],
   "source": [
    "function F1(){\n",
    "    var a = 100\n",
    "    // 函数作为一个返回值返回\n",
    "    return function(){    \n",
    "        console.log(a)\n",
    "    }\n",
    "}\n",
    "// 得到一个函数\n",
    "var f = F1()\n",
    "\n",
    "function F2(fn){\n",
    "    var a = 200\n",
    "    fn()\n",
    "}\n",
    "F2(f)"
   ]
  },
  {
   "cell_type": "markdown",
   "metadata": {},
   "source": [
    "### 分页操作"
   ]
  },
  {
   "cell_type": "markdown",
   "metadata": {},
   "source": [
    "#### for循环"
   ]
  },
  {
   "cell_type": "code",
   "execution_count": 18,
   "metadata": {},
   "outputs": [
    {
     "name": "stdout",
     "output_type": "stream",
     "text": [
      "1\n",
      "2\n",
      "3\n",
      "4\n",
      "5\n",
      "6\n",
      "7\n"
     ]
    }
   ],
   "source": [
    "var da ={\n",
    "    list:[1,2,3,4,5,6,7]\n",
    "}\n",
    "for(index in da.list){\n",
    "    console.log(da.list[index])\n",
    "}\n",
    " "
   ]
  },
  {
   "cell_type": "code",
   "execution_count": 17,
   "metadata": {},
   "outputs": [
    {
     "name": "stdout",
     "output_type": "stream",
     "text": [
      "1\n",
      "2\n",
      "3\n",
      "4\n",
      "5\n",
      "6\n",
      "7\n"
     ]
    }
   ],
   "source": [
    "function Pages(){\n",
    "    for(item of da.list){\n",
    "        console.log(item)\n",
    "    }\n",
    "}\n",
    "Pages()   "
   ]
  },
  {
   "cell_type": "code",
   "execution_count": 28,
   "metadata": {},
   "outputs": [
    {
     "name": "stdout",
     "output_type": "stream",
     "text": [
      "0\n",
      "1\n",
      "2\n",
      "3\n",
      "4\n",
      "5\n",
      "6\n",
      "7\n",
      "8\n",
      "9\n"
     ]
    }
   ],
   "source": [
    "// Array.prototype.decimalfy = function() {\n",
    "//   for (i = 0; i < this.length; i++) {\n",
    "//     // 四舍五入\n",
    "//     this[i] = this[i].toFixed(2);\n",
    "//   }\n",
    "// };\n",
    "\n",
    "var numbers = [0, 1, 2, 3, 4, 5, 6.6, 7, 8, 9];\n",
    "\n",
    "for (var number of digits) {\n",
    "  console.log(number);\n",
    "}"
   ]
  },
  {
   "cell_type": "code",
   "execution_count": 40,
   "metadata": {},
   "outputs": [
    {
     "name": "stdout",
     "output_type": "stream",
     "text": [
      "1\n",
      "2\n",
      "3\n",
      "4\n",
      "5\n",
      "6\n",
      "7\n",
      "8\n",
      "[Function]\n"
     ]
    }
   ],
   "source": [
    "\n",
    "\n"
   ]
  }
 ],
 "metadata": {
  "kernelspec": {
   "display_name": "Javascript (Node.js)",
   "language": "javascript",
   "name": "javascript"
  },
  "language_info": {
   "file_extension": ".js",
   "mimetype": "application/javascript",
   "name": "javascript",
   "version": "8.9.2"
  }
 },
 "nbformat": 4,
 "nbformat_minor": 2
}
