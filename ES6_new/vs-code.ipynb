{
 "cells": [
  {
   "cell_type": "markdown",
   "metadata": {},
   "source": [
    "`code .`快速打开文件夹\n",
    "\n",
    "插件:\n",
    "\n",
    "`Beautiful`\n",
    "\n",
    "添加快捷键\n",
    "\n",
    "keyboard\n",
    "```object\n",
    "{\n",
    "    \"key\": \"ctrl+alt+l\",\n",
    "    \"command\": \"HookyQR.beautify\",\n",
    "    \"when\": \"editorFocus\"\n",
    "  }\n",
    "```"
   ]
  }
 ],
 "metadata": {
  "kernelspec": {
   "display_name": "Javascript (Node.js)",
   "language": "javascript",
   "name": "javascript"
  },
  "language_info": {
   "file_extension": ".js",
   "mimetype": "application/javascript",
   "name": "javascript",
   "version": "8.9.0"
  }
 },
 "nbformat": 4,
 "nbformat_minor": 2
}
