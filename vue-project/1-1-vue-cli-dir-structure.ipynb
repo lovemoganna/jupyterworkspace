{
 "cells": [
  {
   "cell_type": "markdown",
   "metadata": {},
   "source": [
    "## Vue-cli的目录文件\n",
    "![](https://upload-images.jianshu.io/upload_images/7505161-cb5799e4b7ddd298.png?imageMogr2/auto-orient/strip%7CimageView2/2/w/1240)"
   ]
  },
  {
   "cell_type": "code",
   "execution_count": null,
   "metadata": {},
   "outputs": [],
   "source": [
    "## vue添加插件\n",
    "\n",
    "`vue add @vue/eslint`\n",
    "\n"
   ]
  },
  {
   "cell_type": "markdown",
   "metadata": {},
   "source": [
    "现在大部分的配置都集成到了`vue.config.js`里面.\n",
    "\n",
    "现在的目录结果:\n",
    "\n",
    "```md\n",
    ".\n",
    "├── babel.config.js --es6语法编辑\n",
    "├── node_modules\n",
    "├── package.json -- 脚本\n",
    "├── postcss.config.js -- postcss配置文件\n",
    "├── public \n",
    "    ├── favicon.ico\n",
    "    ├── img\n",
    "    │   └── icons\n",
    "    ├── index.html --htmlwebpackplugin模板,里面存在着main.js这个入口文件的挂载点.\n",
    "    ├── manifest.json\n",
    "    └── robots.txt\n",
    "├── README.md\n",
    "├── src\n",
    "    ├── App.vue -- 首页\n",
    "    ├── assets \n",
    "    │   └── logo.png\n",
    "    ├── components --组件\n",
    "    │   └── HelloWorld.vue\n",
    "    ├── main.js -- 入口文件\n",
    "    ├── registerServiceWorker.js\n",
    "    ├── router.js -- 路由器配置文件\n",
    "    ├── store.js -- 状态管理器\n",
    "    └── views -- 路由器\n",
    "        ├── About.vue\n",
    "        └── Home.vue\n",
    "└── yarn.lock\n",
    "```\n"
   ]
  },
  {
   "cell_type": "markdown",
   "metadata": {},
   "source": [
    "- main.js -- 项目的入口文件,初始化vue示例和加载一些插件.\n",
    "- App.vue -- 这是一个主组件,所有的页面都是在App.vue下进行切换的.所有的router都是App.vue的子组件.\n",
    "- browserslist 浏览器的兼容性\n",
    "- public/index.html 文件是一个会被 html-webpack-plugin模板.\n",
    "- view 里面存放的都是路由器"
   ]
  },
  {
   "cell_type": "markdown",
   "metadata": {},
   "source": [
    "## 路由"
   ]
  },
  {
   "cell_type": "markdown",
   "metadata": {},
   "source": [
    "- 路由就是返回不同的网址给用户.\n",
    "- App.vue中的`<router-view/>`显示的就是当前路由地址对应的内容.他们通过`<router-link>`来设置路由的路径.\n",
    "- 然后入口文件main.js会加载路由.找到路由的设置就会找到对应的路由器.\n",
    "- 找到路由器就会找到里面添加的组件."
   ]
  },
  {
   "cell_type": "markdown",
   "metadata": {},
   "source": [
    "## main.js的挂载点\n",
    "\n",
    "- `main.js`中的挂载点`#app`是存在于`index.html`里面的.\n",
    "\n",
    "## APP局部组件\n",
    "`render`将APP组件显示在页面之上.\n",
    "\n",
    "\n"
   ]
  },
  {
   "cell_type": "markdown",
   "metadata": {},
   "source": [
    "https://juejin.im/post/5bd02f98e51d457a944b634f"
   ]
  }
 ],
 "metadata": {
  "kernelspec": {
   "display_name": "Python 3",
   "language": "python",
   "name": "python3"
  },
  "language_info": {
   "codemirror_mode": {
    "name": "ipython",
    "version": 3
   },
   "file_extension": ".py",
   "mimetype": "text/x-python",
   "name": "python",
   "nbconvert_exporter": "python",
   "pygments_lexer": "ipython3",
   "version": "3.6.1"
  }
 },
 "nbformat": 4,
 "nbformat_minor": 2
}
