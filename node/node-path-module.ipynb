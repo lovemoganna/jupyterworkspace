{
 "cells": [
  {
   "cell_type": "markdown",
   "metadata": {},
   "source": [
    "## path"
   ]
  },
  {
   "cell_type": "markdown",
   "metadata": {},
   "source": [
    "### path.basename() 方法返回一个 path 的最后一部分"
   ]
  },
  {
   "cell_type": "code",
   "execution_count": 14,
   "metadata": {},
   "outputs": [
    {
     "name": "stdout",
     "output_type": "stream",
     "text": [
      "basename \n"
     ]
    },
    {
     "data": {
      "text/plain": [
       "'myfile.html'"
      ]
     },
     "execution_count": 14,
     "metadata": {},
     "output_type": "execute_result"
    }
   ],
   "source": [
    "var path = require('path')\n",
    "\n",
    "console.log('basename ');\n",
    "path.basename('C:\\\\temp\\\\myfile.html');"
   ]
  },
  {
   "cell_type": "code",
   "execution_count": 20,
   "metadata": {},
   "outputs": [
    {
     "name": "stdout",
     "output_type": "stream",
     "text": [
      "不区分操作系统来进行提取文件名的操作.\n"
     ]
    },
    {
     "data": {
      "text/plain": [
       "'myfile.html'"
      ]
     },
     "execution_count": 20,
     "metadata": {},
     "output_type": "execute_result"
    }
   ],
   "source": [
    "console.log('不区分操作系统来进行提取文件名的操作.')\n",
    "path.posix.basename('/temp/myfile.html');"
   ]
  },
  {
   "cell_type": "markdown",
   "metadata": {},
   "source": [
    "### 剔除文件名后缀"
   ]
  },
  {
   "cell_type": "code",
   "execution_count": 22,
   "metadata": {},
   "outputs": [
    {
     "data": {
      "text/plain": [
       "'quux'"
      ]
     },
     "execution_count": 22,
     "metadata": {},
     "output_type": "execute_result"
    }
   ],
   "source": [
    "path.basename('/foo/bar/baz/asdf/quux.html', '.html');"
   ]
  },
  {
   "cell_type": "markdown",
   "metadata": {},
   "source": [
    "## path.delimiter"
   ]
  },
  {
   "cell_type": "markdown",
   "metadata": {},
   "source": [
    "## 环境变量"
   ]
  },
  {
   "cell_type": "code",
   "execution_count": 26,
   "metadata": {},
   "outputs": [
    {
     "name": "stdout",
     "output_type": "stream",
     "text": [
      "C:\\ProgramData\\Boxstarter;C:\\Program Files (x86)\\Common Files\\Oracle\\Java\\javapath;D:\\ruby\\Ruby24-x64\\bin;C:\\windows\\system32;C:\\windows;C:\\windows\\System32\\Wbem;C:\\windows\\System32\\WindowsPowerShell\\v1.0\\;D:\\AMD\\ATI.ACE\\Core-Static;C:\\Users\\Administrator\\AppData\\Local\\Programs\\Python\\Python36\\Scripts\\;C:\\Users\\Administrator\\AppData\\Local\\Programs\\Python\\Python36\\;C:\\Users\\Administrator\\AppData\\Roaming\\npm;C:\\Users\\Administrator\\AppData\\Local\\hyper\\app-2.0.0\\resources\\bin;C:\\Users\\Administrator\\AppData\\Local\\Programs\\Python\\Python36;D:\\heroku\\bin;D:\\canda\\Scripts;D:\\nvm\\nvm;C:\\Program Files\\nodejs;E:\\GPG\\Gpg4win\\..\\GnuPG\\bin;D:\\git\\Git\\cmd;C:\\ProgramData\\chocolatey\\bin;C:\\Program Files\\Java\\jdk1.8.0_191\\bin;C:\\Android\\android-sdk\\tools;C:\\Android\\android-sdk\\platform-tools;C:\\Android\\android-sdk\\tools\\bin;D:\\java10_new\\bin;C:\\Users\\Administrator\\AppData\\Local\\Programs\\Python\\Python36\\Scripts\\;C:\\Users\\Administrator\\AppData\\Local\\Programs\\Python\\Python36\\;C:\\Users\\Administrator\\AppData\\Roaming\\npm;C:\\Users\\Administrator\\AppData\\Local\\h;D:\\node\\;E:\\nvm;C:\\Program Files\\nodejs;E:\\yarn\\bin\\;D:\\java10_new\\bin;C:\\Users\\Administrator\\AppData\\Local\\Programs\\Python\\Python36\\Scripts\\;C:\\Users\\Administrator\\AppData\\Local\\Programs\\Python\\Python36\\;C:\\Users\\Administrator\\AppData\\Local\\hyper\\app-2.0.0\\resources\\bin;C:\\Users\\Administrator\\AppData\\Local\\Programs\\Python\\Python36;D:\\heroku\\bin;D:\\canda\\Scripts;E:\\nvm;C:\\Program Files\\nodejs;D:\\nvm\\nvm\\v8.9.0;C:\\MinGW\\bin\\;D:\\emacs\\bin;D:\\ctags\\ctags58;D:\\vscode\\Microsoft VS Code\\bin;C:\\cygwin64\\bin\\zsh-5.5.1.exe;D:\\cygwin32\\bin;C:\\Program Files (x86)\\Aspell\\bin;D:\\nvm\\nvm\\nvm.exe;D:\\nvm\\nvm\\v9.10.0;C:\\Users\\Administrator\\AppData\\Roaming\\npm;C:\\Program Files\\nodejs;E:\\nvm\\v10.11.0\\node_modules\\yarn\\bin;C:\\Users\\Administrator\\AppData\\Local\\Yarn\\bin;D:\\qudongjingling\\DriverGenius;D:\\qudongjingling\\DriverGenius\\ksoft\n"
     ]
    }
   ],
   "source": [
    "console.log(process.env.PATH);"
   ]
  },
  {
   "cell_type": "markdown",
   "metadata": {},
   "source": [
    "#### 格式化环境变量输出"
   ]
  },
  {
   "cell_type": "code",
   "execution_count": 27,
   "metadata": {},
   "outputs": [
    {
     "data": {
      "text/plain": [
       "[ 'C:\\\\ProgramData\\\\Boxstarter',\n",
       "  'C:\\\\Program Files (x86)\\\\Common Files\\\\Oracle\\\\Java\\\\javapath',\n",
       "  'D:\\\\ruby\\\\Ruby24-x64\\\\bin',\n",
       "  'C:\\\\windows\\\\system32',\n",
       "  'C:\\\\windows',\n",
       "  'C:\\\\windows\\\\System32\\\\Wbem',\n",
       "  'C:\\\\windows\\\\System32\\\\WindowsPowerShell\\\\v1.0\\\\',\n",
       "  'D:\\\\AMD\\\\ATI.ACE\\\\Core-Static',\n",
       "  'C:\\\\Users\\\\Administrator\\\\AppData\\\\Local\\\\Programs\\\\Python\\\\Python36\\\\Scripts\\\\',\n",
       "  'C:\\\\Users\\\\Administrator\\\\AppData\\\\Local\\\\Programs\\\\Python\\\\Python36\\\\',\n",
       "  'C:\\\\Users\\\\Administrator\\\\AppData\\\\Roaming\\\\npm',\n",
       "  'C:\\\\Users\\\\Administrator\\\\AppData\\\\Local\\\\hyper\\\\app-2.0.0\\\\resources\\\\bin',\n",
       "  'C:\\\\Users\\\\Administrator\\\\AppData\\\\Local\\\\Programs\\\\Python\\\\Python36',\n",
       "  'D:\\\\heroku\\\\bin',\n",
       "  'D:\\\\canda\\\\Scripts',\n",
       "  'D:\\\\nvm\\\\nvm',\n",
       "  'C:\\\\Program Files\\\\nodejs',\n",
       "  'E:\\\\GPG\\\\Gpg4win\\\\..\\\\GnuPG\\\\bin',\n",
       "  'D:\\\\git\\\\Git\\\\cmd',\n",
       "  'C:\\\\ProgramData\\\\chocolatey\\\\bin',\n",
       "  'C:\\\\Program Files\\\\Java\\\\jdk1.8.0_191\\\\bin',\n",
       "  'C:\\\\Android\\\\android-sdk\\\\tools',\n",
       "  'C:\\\\Android\\\\android-sdk\\\\platform-tools',\n",
       "  'C:\\\\Android\\\\android-sdk\\\\tools\\\\bin',\n",
       "  'D:\\\\java10_new\\\\bin',\n",
       "  'C:\\\\Users\\\\Administrator\\\\AppData\\\\Local\\\\Programs\\\\Python\\\\Python36\\\\Scripts\\\\',\n",
       "  'C:\\\\Users\\\\Administrator\\\\AppData\\\\Local\\\\Programs\\\\Python\\\\Python36\\\\',\n",
       "  'C:\\\\Users\\\\Administrator\\\\AppData\\\\Roaming\\\\npm',\n",
       "  'C:\\\\Users\\\\Administrator\\\\AppData\\\\Local\\\\h',\n",
       "  'D:\\\\node\\\\',\n",
       "  'E:\\\\nvm',\n",
       "  'C:\\\\Program Files\\\\nodejs',\n",
       "  'E:\\\\yarn\\\\bin\\\\',\n",
       "  'D:\\\\java10_new\\\\bin',\n",
       "  'C:\\\\Users\\\\Administrator\\\\AppData\\\\Local\\\\Programs\\\\Python\\\\Python36\\\\Scripts\\\\',\n",
       "  'C:\\\\Users\\\\Administrator\\\\AppData\\\\Local\\\\Programs\\\\Python\\\\Python36\\\\',\n",
       "  'C:\\\\Users\\\\Administrator\\\\AppData\\\\Local\\\\hyper\\\\app-2.0.0\\\\resources\\\\bin',\n",
       "  'C:\\\\Users\\\\Administrator\\\\AppData\\\\Local\\\\Programs\\\\Python\\\\Python36',\n",
       "  'D:\\\\heroku\\\\bin',\n",
       "  'D:\\\\canda\\\\Scripts',\n",
       "  'E:\\\\nvm',\n",
       "  'C:\\\\Program Files\\\\nodejs',\n",
       "  'D:\\\\nvm\\\\nvm\\\\v8.9.0',\n",
       "  'C:\\\\MinGW\\\\bin\\\\',\n",
       "  'D:\\\\emacs\\\\bin',\n",
       "  'D:\\\\ctags\\\\ctags58',\n",
       "  'D:\\\\vscode\\\\Microsoft VS Code\\\\bin',\n",
       "  'C:\\\\cygwin64\\\\bin\\\\zsh-5.5.1.exe',\n",
       "  'D:\\\\cygwin32\\\\bin',\n",
       "  'C:\\\\Program Files (x86)\\\\Aspell\\\\bin',\n",
       "  'D:\\\\nvm\\\\nvm\\\\nvm.exe',\n",
       "  'D:\\\\nvm\\\\nvm\\\\v9.10.0',\n",
       "  'C:\\\\Users\\\\Administrator\\\\AppData\\\\Roaming\\\\npm',\n",
       "  'C:\\\\Program Files\\\\nodejs',\n",
       "  'E:\\\\nvm\\\\v10.11.0\\\\node_modules\\\\yarn\\\\bin',\n",
       "  'C:\\\\Users\\\\Administrator\\\\AppData\\\\Local\\\\Yarn\\\\bin',\n",
       "  'D:\\\\qudongjingling\\\\DriverGenius',\n",
       "  'D:\\\\qudongjingling\\\\DriverGenius\\\\ksoft' ]"
      ]
     },
     "execution_count": 27,
     "metadata": {},
     "output_type": "execute_result"
    }
   ],
   "source": [
    "process.env.PATH.split(path.delimiter);"
   ]
  },
  {
   "cell_type": "markdown",
   "metadata": {},
   "source": [
    "### path.dirname(path)\n",
    "\n",
    "`path.dirname() 方法返回一个文件的的目录名`"
   ]
  },
  {
   "cell_type": "code",
   "execution_count": 29,
   "metadata": {},
   "outputs": [
    {
     "data": {
      "text/plain": [
       "'/foo/bar/baz/asdf'"
      ]
     },
     "execution_count": 29,
     "metadata": {},
     "output_type": "execute_result"
    }
   ],
   "source": [
    "path.dirname('/foo/bar/baz/asdf/quux');"
   ]
  },
  {
   "cell_type": "markdown",
   "metadata": {},
   "source": [
    "### path.extname(path)\n",
    "`path.extname() 方法返回 path 的扩展名`"
   ]
  },
  {
   "cell_type": "code",
   "execution_count": 30,
   "metadata": {},
   "outputs": [
    {
     "data": {
      "text/plain": [
       "'.html'"
      ]
     },
     "execution_count": 30,
     "metadata": {},
     "output_type": "execute_result"
    }
   ],
   "source": [
    "path.extname('index.html');"
   ]
  },
  {
   "cell_type": "code",
   "execution_count": 32,
   "metadata": {},
   "outputs": [
    {
     "data": {
      "text/plain": [
       "'.md'"
      ]
     },
     "execution_count": 32,
     "metadata": {},
     "output_type": "execute_result"
    }
   ],
   "source": [
    "path.extname('index.coffee.md');"
   ]
  },
  {
   "cell_type": "code",
   "execution_count": 34,
   "metadata": {},
   "outputs": [
    {
     "data": {
      "text/plain": [
       "'.'"
      ]
     },
     "execution_count": 34,
     "metadata": {},
     "output_type": "execute_result"
    }
   ],
   "source": [
    "path.extname('index.');"
   ]
  },
  {
   "cell_type": "code",
   "execution_count": 36,
   "metadata": {},
   "outputs": [
    {
     "data": {
      "text/plain": [
       "''"
      ]
     },
     "execution_count": 36,
     "metadata": {},
     "output_type": "execute_result"
    }
   ],
   "source": [
    "path.extname('index');"
   ]
  },
  {
   "cell_type": "code",
   "execution_count": 38,
   "metadata": {},
   "outputs": [
    {
     "data": {
      "text/plain": [
       "''"
      ]
     },
     "execution_count": 38,
     "metadata": {},
     "output_type": "execute_result"
    }
   ],
   "source": [
    "path.extname('.index');"
   ]
  },
  {
   "cell_type": "markdown",
   "metadata": {},
   "source": [
    "### path.format(pathObject)"
   ]
  },
  {
   "cell_type": "code",
   "execution_count": 51,
   "metadata": {},
   "outputs": [
    {
     "data": {
      "text/plain": [
       "'/home/user/dir\\\\file.txt'"
      ]
     },
     "execution_count": 51,
     "metadata": {},
     "output_type": "execute_result"
    }
   ],
   "source": [
    "path.format({\n",
    "// root 会被忽略\n",
    "  root: '/ignored',\n",
    "  dir: '/home/user/dir',\n",
    "  base: 'file.txt',\n",
    "});"
   ]
  },
  {
   "cell_type": "code",
   "execution_count": 53,
   "metadata": {},
   "outputs": [
    {
     "data": {
      "text/plain": [
       "'/file.txt'"
      ]
     },
     "execution_count": 53,
     "metadata": {},
     "output_type": "execute_result"
    }
   ],
   "source": [
    "path.format({\n",
    "  root: '/',\n",
    "  base: 'file.txt',\n",
    "  ext: 'ignored'\n",
    "});"
   ]
  },
  {
   "cell_type": "code",
   "execution_count": 57,
   "metadata": {},
   "outputs": [
    {
     "data": {
      "text/plain": [
       "'/file.txt'"
      ]
     },
     "execution_count": 57,
     "metadata": {},
     "output_type": "execute_result"
    }
   ],
   "source": [
    "path.format({\n",
    "  root: '/',\n",
    "  name: 'file',\n",
    "  ext: '.txt'\n",
    "});"
   ]
  },
  {
   "cell_type": "markdown",
   "metadata": {},
   "source": [
    "#### windows下"
   ]
  },
  {
   "cell_type": "code",
   "execution_count": 58,
   "metadata": {},
   "outputs": [
    {
     "data": {
      "text/plain": [
       "'C:\\\\path\\\\dir\\\\file.txt'"
      ]
     },
     "execution_count": 58,
     "metadata": {},
     "output_type": "execute_result"
    }
   ],
   "source": [
    "path.format({\n",
    "  dir: 'C:\\\\path\\\\dir',\n",
    "  base: 'file.txt'\n",
    "});"
   ]
  },
  {
   "cell_type": "markdown",
   "metadata": {},
   "source": [
    "## path.isAbsolute(path)\n",
    "\n",
    "`path.isAbsolute() 方法会判定 path 是否为一个绝对路径`"
   ]
  },
  {
   "cell_type": "code",
   "execution_count": 60,
   "metadata": {},
   "outputs": [
    {
     "data": {
      "text/plain": [
       "true"
      ]
     },
     "execution_count": 60,
     "metadata": {},
     "output_type": "execute_result"
    }
   ],
   "source": [
    "path.isAbsolute('//server'); "
   ]
  },
  {
   "cell_type": "code",
   "execution_count": 62,
   "metadata": {},
   "outputs": [
    {
     "data": {
      "text/plain": [
       "true"
      ]
     },
     "execution_count": 62,
     "metadata": {},
     "output_type": "execute_result"
    }
   ],
   "source": [
    "path.isAbsolute('\\\\\\\\server');"
   ]
  },
  {
   "cell_type": "code",
   "execution_count": 64,
   "metadata": {},
   "outputs": [
    {
     "data": {
      "text/plain": [
       "true"
      ]
     },
     "execution_count": 64,
     "metadata": {},
     "output_type": "execute_result"
    }
   ],
   "source": [
    "path.isAbsolute('C:/foo/..');"
   ]
  },
  {
   "cell_type": "code",
   "execution_count": 65,
   "metadata": {},
   "outputs": [
    {
     "data": {
      "text/plain": [
       "true"
      ]
     },
     "execution_count": 65,
     "metadata": {},
     "output_type": "execute_result"
    }
   ],
   "source": [
    "path.isAbsolute('C:\\\\foo\\\\..');"
   ]
  },
  {
   "cell_type": "code",
   "execution_count": 66,
   "metadata": {},
   "outputs": [
    {
     "data": {
      "text/plain": [
       "false"
      ]
     },
     "execution_count": 66,
     "metadata": {},
     "output_type": "execute_result"
    }
   ],
   "source": [
    "path.isAbsolute('bar\\\\baz');"
   ]
  },
  {
   "cell_type": "code",
   "execution_count": 67,
   "metadata": {},
   "outputs": [
    {
     "data": {
      "text/plain": [
       "false"
      ]
     },
     "execution_count": 67,
     "metadata": {},
     "output_type": "execute_result"
    }
   ],
   "source": [
    "path.isAbsolute('bar/baz');"
   ]
  },
  {
   "cell_type": "code",
   "execution_count": 68,
   "metadata": {},
   "outputs": [
    {
     "data": {
      "text/plain": [
       "false"
      ]
     },
     "execution_count": 68,
     "metadata": {},
     "output_type": "execute_result"
    }
   ],
   "source": [
    "path.isAbsolute('.');  "
   ]
  },
  {
   "cell_type": "markdown",
   "metadata": {},
   "source": [
    "## path.join([...paths])\n",
    "\n",
    "`path.join() 方法使用平台特定的分隔符把全部给定的 path 片段连接到一起，并规范化生成的路径。`"
   ]
  },
  {
   "cell_type": "code",
   "execution_count": 69,
   "metadata": {},
   "outputs": [
    {
     "data": {
      "text/plain": [
       "'\\\\foo\\\\bar\\\\baz\\\\asdf'"
      ]
     },
     "execution_count": 69,
     "metadata": {},
     "output_type": "execute_result"
    }
   ],
   "source": [
    "path.join('/foo', 'bar', 'baz/asdf', 'quux', '..');"
   ]
  },
  {
   "cell_type": "code",
   "execution_count": 74,
   "metadata": {},
   "outputs": [
    {
     "data": {
      "text/plain": [
       "'foo\\\\helloworld\\\\bar'"
      ]
     },
     "execution_count": 74,
     "metadata": {},
     "output_type": "execute_result"
    }
   ],
   "source": [
    "path.join('foo', 'hello\\world', 'bar');"
   ]
  },
  {
   "cell_type": "markdown",
   "metadata": {},
   "source": [
    "## path.normalize(path)\n",
    "\n",
    "`path.normalize() 方法会规范化给定的 path，并解析 '..' 和 '.' 片段。`"
   ]
  },
  {
   "cell_type": "code",
   "execution_count": 80,
   "metadata": {},
   "outputs": [
    {
     "data": {
      "text/plain": [
       "'\\\\foo\\\\bar\\\\baz\\\\asdf'"
      ]
     },
     "execution_count": 80,
     "metadata": {},
     "output_type": "execute_result"
    }
   ],
   "source": [
    "path.normalize('/foo/bar//baz/asdf/quux/..');"
   ]
  },
  {
   "cell_type": "code",
   "execution_count": 81,
   "metadata": {},
   "outputs": [
    {
     "data": {
      "text/plain": [
       "'\\\\foo\\\\bar\\\\baz\\\\asdf\\\\quux'"
      ]
     },
     "execution_count": 81,
     "metadata": {},
     "output_type": "execute_result"
    }
   ],
   "source": [
    "path.normalize('/foo/bar//baz/asdf/quux/.');"
   ]
  },
  {
   "cell_type": "code",
   "execution_count": 78,
   "metadata": {},
   "outputs": [
    {
     "data": {
      "text/plain": [
       "'C:\\\\temp\\\\foo\\\\'"
      ]
     },
     "execution_count": 78,
     "metadata": {},
     "output_type": "execute_result"
    }
   ],
   "source": [
    "path.normalize('C:\\\\temp\\\\\\\\foo\\\\bar\\\\..\\\\');"
   ]
  },
  {
   "cell_type": "code",
   "execution_count": 82,
   "metadata": {},
   "outputs": [
    {
     "data": {
      "text/plain": [
       "'C:\\\\temp\\\\foo\\\\bar'"
      ]
     },
     "execution_count": 82,
     "metadata": {},
     "output_type": "execute_result"
    }
   ],
   "source": [
    "path.win32.normalize('C:////temp\\\\\\\\/\\\\/\\\\/foo/bar');"
   ]
  },
  {
   "cell_type": "markdown",
   "metadata": {},
   "source": [
    "## path.parse(path)\n",
    "\n",
    "`path.parse() 方法返回一个对象，对象的属性表示 path 的元素`"
   ]
  },
  {
   "cell_type": "code",
   "execution_count": 83,
   "metadata": {},
   "outputs": [
    {
     "data": {
      "text/plain": [
       "{ root: '/',\n",
       "  dir: '/home/user/dir',\n",
       "  base: 'file.txt',\n",
       "  ext: '.txt',\n",
       "  name: 'file' }"
      ]
     },
     "execution_count": 83,
     "metadata": {},
     "output_type": "execute_result"
    }
   ],
   "source": [
    "path.parse('/home/user/dir/file.txt');"
   ]
  },
  {
   "cell_type": "markdown",
   "metadata": {},
   "source": [
    "## path.relative(from, to)\n",
    "\n",
    "`path.relative() 方法返回从 from 到 to 的相对路径（基于当前工作目录）。`"
   ]
  },
  {
   "cell_type": "code",
   "execution_count": 90,
   "metadata": {},
   "outputs": [
    {
     "data": {
      "text/plain": [
       "'..\\\\bbb'"
      ]
     },
     "execution_count": 90,
     "metadata": {},
     "output_type": "execute_result"
    }
   ],
   "source": [
    "path.relative('C:\\\\temp\\\\aaa', 'C:\\\\temp\\\\bbb');"
   ]
  },
  {
   "cell_type": "markdown",
   "metadata": {},
   "source": [
    "`__dirname是当前路径`"
   ]
  },
  {
   "cell_type": "code",
   "execution_count": 87,
   "metadata": {},
   "outputs": [
    {
     "data": {
      "text/plain": [
       "'.'"
      ]
     },
     "execution_count": 87,
     "metadata": {},
     "output_type": "execute_result"
    }
   ],
   "source": [
    "__dirname"
   ]
  },
  {
   "cell_type": "markdown",
   "metadata": {},
   "source": [
    "## path.resolve([...paths])\n",
    "`path.resolve() 方法会把一个路径或路径片段的序列解析为一个绝对路径`"
   ]
  },
  {
   "cell_type": "code",
   "execution_count": 98,
   "metadata": {},
   "outputs": [
    {
     "data": {
      "text/plain": [
       "'C:\\\\foo\\\\baz'"
      ]
     },
     "execution_count": 98,
     "metadata": {},
     "output_type": "execute_result"
    }
   ],
   "source": [
    "path.resolve('/foo/bar', '../baz');"
   ]
  },
  {
   "cell_type": "code",
   "execution_count": 99,
   "metadata": {},
   "outputs": [
    {
     "data": {
      "text/plain": [
       "'C:\\\\foo\\\\bar\\\\baz'"
      ]
     },
     "execution_count": 99,
     "metadata": {},
     "output_type": "execute_result"
    }
   ],
   "source": [
    "path.resolve('/foo/bar', './baz');"
   ]
  },
  {
   "cell_type": "code",
   "execution_count": 101,
   "metadata": {},
   "outputs": [
    {
     "data": {
      "text/plain": [
       "'C:\\\\foo\\\\tmp\\\\file'"
      ]
     },
     "execution_count": 101,
     "metadata": {},
     "output_type": "execute_result"
    }
   ],
   "source": [
    "path.resolve('/foo/bar', '../tmp/file/');"
   ]
  },
  {
   "cell_type": "code",
   "execution_count": 93,
   "metadata": {},
   "outputs": [
    {
     "data": {
      "text/plain": [
       "'C:\\\\Users\\\\Administrator\\\\Desktop\\\\jupyter\\\\jupyterworkspace\\\\node\\\\wwwroot\\\\static_files\\\\gif\\\\image.gif'"
      ]
     },
     "execution_count": 93,
     "metadata": {},
     "output_type": "execute_result"
    }
   ],
   "source": [
    "path.resolve('wwwroot', 'static_files/png/', '../gif/image.gif');"
   ]
  },
  {
   "cell_type": "markdown",
   "metadata": {},
   "source": [
    "## path.sep\n",
    "`提供了平台特定的路径片段分隔符`"
   ]
  },
  {
   "cell_type": "code",
   "execution_count": 102,
   "metadata": {},
   "outputs": [
    {
     "data": {
      "text/plain": [
       "[ 'foo', 'bar', 'baz' ]"
      ]
     },
     "execution_count": 102,
     "metadata": {},
     "output_type": "execute_result"
    }
   ],
   "source": [
    "'foo\\\\bar\\\\baz'.split(path.sep);"
   ]
  },
  {
   "cell_type": "code",
   "execution_count": null,
   "metadata": {},
   "outputs": [],
   "source": []
  }
 ],
 "metadata": {
  "kernelspec": {
   "display_name": "Javascript (Node.js)",
   "language": "javascript",
   "name": "javascript"
  },
  "language_info": {
   "file_extension": ".js",
   "mimetype": "application/javascript",
   "name": "javascript",
   "version": "8.9.2"
  }
 },
 "nbformat": 4,
 "nbformat_minor": 2
}
