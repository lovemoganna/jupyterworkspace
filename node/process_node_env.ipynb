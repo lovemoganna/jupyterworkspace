{
 "cells": [
  {
   "cell_type": "markdown",
   "metadata": {},
   "source": [
    "## process\n",
    "\n",
    "process对象是一个全局变量.提供Nodejs进程的相关信息."
   ]
  },
  {
   "cell_type": "markdown",
   "metadata": {},
   "source": [
    "`process.env属性返回一个包含用户环境信息的对象`"
   ]
  },
  {
   "cell_type": "code",
   "execution_count": 12,
   "metadata": {},
   "outputs": [
    {
     "data": {
      "text/plain": [
       "{ ALLUSERSPROFILE: 'C:\\\\ProgramData',\n",
       "  ANDROID_HOME: 'C:\\\\Android\\\\android-sdk',\n",
       "  APPDATA: 'C:\\\\Users\\\\Administrator\\\\AppData\\\\Roaming',\n",
       "  CHOCOLATEYINSTALL: 'C:\\\\ProgramData\\\\chocolatey',\n",
       "  CHOCOLATEYLASTPATHUPDATE: 'Tue Nov  6 09:22:17 2018',\n",
       "  CLASSPATH: '.;',\n",
       "  COLORTERM: 'truecolor',\n",
       "  COMMONPROGRAMFILES: 'C:\\\\Program Files\\\\Common Files',\n",
       "  'COMMONPROGRAMFILES(X86)': 'C:\\\\Program Files (x86)\\\\Common Files',\n",
       "  COMMONPROGRAMW6432: 'C:\\\\Program Files\\\\Common Files',\n",
       "  COMPUTERNAME: 'XH29NRMNN5BIU0C',\n",
       "  COMSPEC: 'C:\\\\windows\\\\system32\\\\cmd.exe',\n",
       "  FP_NO_HOST_CHECK: 'NO',\n",
       "  FREI0R_PATH: 'C:\\\\Program Files (x86)\\\\Apowersoft\\\\Video Converter Studio\\\\frei0r;C:\\\\Program Files (x86)\\\\Apowersoft\\\\Video Converter Studio\\\\frei0r',\n",
       "  HISTFILE: 'C:/MinGW/msys/1.0/home/Administrator/.bash_history',\n",
       "  HOME: 'C:/MinGW/msys/1.0/home/Administrator',\n",
       "  HOMEDRIVE: 'C:',\n",
       "  HOMEPATH: '\\\\',\n",
       "  IPY_INTERRUPT_EVENT: '4172',\n",
       "  JAVA_HOME: 'D:\\\\java10_new',\n",
       "  JPY_INTERRUPT_EVENT: '4172',\n",
       "  JPY_PARENT_PID: '4168',\n",
       "  LANG: 'zh_CN.UTF-8',\n",
       "  LOCALAPPDATA: 'C:\\\\Users\\\\Administrator\\\\AppData\\\\Local',\n",
       "  LOGNAME: 'Administrator',\n",
       "  LOGONSERVER: '\\\\\\\\XH29NRMNN5BIU0C',\n",
       "  MAKE_MODE: 'unix',\n",
       "  MSYSTEM: 'MINGW32',\n",
       "  NUMBER_OF_PROCESSORS: '4',\n",
       "  NVM_HOME: 'E:\\\\nvm',\n",
       "  NVM_SYMLINK: 'C:\\\\Program Files\\\\nodejs',\n",
       "  OS: 'Windows_NT',\n",
       "  PATH: '.;C:\\\\MinGW\\\\msys\\\\1.0\\\\local\\\\bin;C:\\\\MinGW\\\\bin;C:\\\\MinGW\\\\msys\\\\1.0\\\\bin;c:\\\\ProgramData\\\\Boxstarter;c:\\\\Program Files (x86)\\\\Common Files\\\\Oracle\\\\Java\\\\javapath;d:\\\\ruby\\\\Ruby24-x64\\\\bin;c:\\\\windows\\\\system32;c:\\\\windows;c:\\\\windows\\\\System32\\\\Wbem;c:\\\\windows\\\\System32\\\\WindowsPowerShell\\\\v1.0\\\\;d:\\\\AMD\\\\ATI.ACE\\\\Core-Static;c:\\\\Users\\\\Administrator\\\\AppData\\\\Local\\\\Programs\\\\Python\\\\Python36\\\\Scripts\\\\;c:\\\\Users\\\\Administrator\\\\AppData\\\\Local\\\\Programs\\\\Python\\\\Python36\\\\;c:\\\\Users\\\\Administrator\\\\AppData\\\\Roaming\\\\npm;c:\\\\Users\\\\Administrator\\\\AppData\\\\Local\\\\hyper\\\\app-2.0.0\\\\resources\\\\bin;c:\\\\Users\\\\Administrator\\\\AppData\\\\Local\\\\Programs\\\\Python\\\\Python36;d:\\\\heroku\\\\bin;d:\\\\canda\\\\Scripts;d:\\\\nvm\\\\nvm;c:\\\\Program Files\\\\nodejs;e:\\\\GPG\\\\GnuPG\\\\bin;d:\\\\git\\\\Git\\\\cmd;c:\\\\ProgramData\\\\chocolatey\\\\bin;c:\\\\Program Files\\\\Java\\\\jdk1.8.0_191\\\\bin;c:\\\\Android\\\\android-sdk\\\\tools;c:\\\\Android\\\\android-sdk\\\\platform-tools;c:\\\\Android\\\\android-sdk\\\\tools\\\\bin;d:\\\\java10_new\\\\bin;c:\\\\Users\\\\Administrator\\\\AppData\\\\Local\\\\Programs\\\\Python\\\\Python36\\\\Scripts\\\\;c:\\\\Users\\\\Administrator\\\\AppData\\\\Local\\\\Programs\\\\Python\\\\Python36\\\\;c:\\\\Users\\\\Administrator\\\\AppData\\\\Roaming\\\\npm;c:\\\\Users\\\\Administrator\\\\AppData\\\\Local\\\\h;d:\\\\node\\\\;e:\\\\nvm;c:\\\\Program Files\\\\nodejs;e:\\\\yarn\\\\bin\\\\;d:\\\\java10_new\\\\bin;c:\\\\Users\\\\Administrator\\\\AppData\\\\Local\\\\Programs\\\\Python\\\\Python36\\\\Scripts\\\\;c:\\\\Users\\\\Administrator\\\\AppData\\\\Local\\\\Programs\\\\Python\\\\Python36\\\\;c:\\\\Users\\\\Administrator\\\\AppData\\\\Local\\\\hyper\\\\app-2.0.0\\\\resources\\\\bin;c:\\\\Users\\\\Administrator\\\\AppData\\\\Local\\\\Programs\\\\Python\\\\Python36;d:\\\\heroku\\\\bin;d:\\\\canda\\\\Scripts;e:\\\\nvm;c:\\\\Program Files\\\\nodejs;d:\\\\nvm\\\\nvm\\\\v8.9.0;C:\\\\MinGW\\\\bin\\\\;d:\\\\emacs\\\\bin;d:\\\\ctags\\\\ctags58;d:\\\\vscode\\\\Microsoft VS Code\\\\bin;c:\\\\cygwin64\\\\bin\\\\zsh-5.5.1.exe;d:\\\\cygwin32\\\\bin;c:\\\\Program Files (x86)\\\\Aspell\\\\bin;d:\\\\nvm\\\\nvm\\\\nvm.exe;d:\\\\nvm\\\\nvm\\\\v9.10.0;c:\\\\Users\\\\Administrator\\\\AppData\\\\Roaming\\\\npm;c:\\\\Program Files\\\\nodejs;e:\\\\nvm\\\\v10.11.0\\\\node_modules\\\\yarn\\\\bin;c:\\\\Users\\\\Administrator\\\\AppData\\\\Local\\\\Yarn\\\\bin;d:\\\\qudongjingling\\\\DriverGenius;d:\\\\qudongjingling\\\\DriverGenius\\\\ksoft',\n",
       "  PATHEXT: '.COM;.EXE;.BAT;.CMD;.VBS;.VBE;.JS;.JSE;.WSF;.WSH;.MSC;.RB;.RBW',\n",
       "  PROCESSOR_ARCHITECTURE: 'AMD64',\n",
       "  PROCESSOR_IDENTIFIER: 'AMD64 Family 21 Model 16 Stepping 1, AuthenticAMD',\n",
       "  PROCESSOR_LEVEL: '21',\n",
       "  PROCESSOR_REVISION: '1001',\n",
       "  PROGRAMDATA: 'C:\\\\ProgramData',\n",
       "  PROGRAMFILES: 'C:\\\\Program Files',\n",
       "  'PROGRAMFILES(X86)': 'C:\\\\Program Files (x86)',\n",
       "  PROGRAMW6432: 'C:\\\\Program Files',\n",
       "  PROMPT: '$P$G',\n",
       "  PS1: '\\\\[\\\\033]0;$MSYSTEM:\\\\w\\\\007\\n\\\\033[32m\\\\]\\\\u@\\\\h \\\\[\\\\033[33m\\\\w\\\\033[0m\\\\]\\n$ ',\n",
       "  PSMODULEPATH: 'C:\\\\Users\\\\Administrator\\\\Documents\\\\WindowsPowerShell\\\\Modules',\n",
       "  PUBLIC: 'C:\\\\Users\\\\Public',\n",
       "  PWD: 'c:/Users/Administrator/Desktop',\n",
       "  SESSIONNAME: 'Console',\n",
       "  SHLVL: '1',\n",
       "  SYSTEMDRIVE: 'C:',\n",
       "  SYSTEMROOT: 'C:\\\\windows',\n",
       "  TEMP: 'C:/Users/Administrator/AppData/Local/Temp',\n",
       "  TERM: 'xterm-256color',\n",
       "  TERM_PROGRAM: 'Hyper',\n",
       "  TERM_PROGRAM_VERSION: '2.0.0',\n",
       "  TMP: 'C:/Users/Administrator/AppData/Local/Temp',\n",
       "  USERDOMAIN: 'XH29NRMNN5BIU0C',\n",
       "  USERNAME: 'Administrator',\n",
       "  USERPROFILE: 'C:\\\\Users\\\\Administrator',\n",
       "  WINDIR: 'C:\\\\windows',\n",
       "  WINDOWS_TRACING_FLAGS: '3',\n",
       "  WINDOWS_TRACING_LOGFILE: 'C:\\\\BVTBin\\\\Tests\\\\installpackage\\\\csilogfile.log',\n",
       "  _: 'c:/Users/Administrator/AppData/Local/Programs/Python/Python36/Scripts/jupyter' }"
      ]
     },
     "execution_count": 12,
     "metadata": {},
     "output_type": "execute_result"
    }
   ],
   "source": [
    "process.env"
   ]
  },
  {
   "cell_type": "code",
   "execution_count": 14,
   "metadata": {},
   "outputs": [
    {
     "name": "stdout",
     "output_type": "stream",
     "text": [
      "bar\n"
     ]
    }
   ],
   "source": [
    "process.env.foo = 'bar';\n",
    "console.log(process.env.foo);"
   ]
  },
  {
   "cell_type": "markdown",
   "metadata": {},
   "source": [
    "`在process.env中新增一个属性，会将属性值转换成字符串`"
   ]
  },
  {
   "cell_type": "code",
   "execution_count": 15,
   "metadata": {},
   "outputs": [
    {
     "name": "stdout",
     "output_type": "stream",
     "text": [
      "null\n"
     ]
    }
   ],
   "source": [
    "process.env.test = null;\n",
    "console.log(process.env.test);"
   ]
  },
  {
   "cell_type": "code",
   "execution_count": 18,
   "metadata": {},
   "outputs": [
    {
     "name": "stdout",
     "output_type": "stream",
     "text": [
      "undefined\n"
     ]
    }
   ],
   "source": [
    "process.env.test = undefined;\n",
    "console.log(process.env.test);"
   ]
  },
  {
   "cell_type": "code",
   "execution_count": 19,
   "metadata": {},
   "outputs": [
    {
     "data": {
      "text/plain": [
       "'在Windows系统下，环境变量是不区分大小写的m'"
      ]
     },
     "execution_count": 19,
     "metadata": {},
     "output_type": "execute_result"
    }
   ],
   "source": [
    "`在Windows系统下，环境变量是不区分大小写的m`"
   ]
  },
  {
   "cell_type": "code",
   "execution_count": 17,
   "metadata": {},
   "outputs": [
    {
     "name": "stdout",
     "output_type": "stream",
     "text": [
      "1\n"
     ]
    }
   ],
   "source": [
    "process.env.TEST = 1;\n",
    "console.log(process.env.test);"
   ]
  },
  {
   "cell_type": "markdown",
   "metadata": {},
   "source": [
    "## process.execPath \n",
    "\n",
    "`返回启动Node.js进程的可执行文件所在的绝对路径`"
   ]
  },
  {
   "cell_type": "code",
   "execution_count": 21,
   "metadata": {},
   "outputs": [
    {
     "data": {
      "text/plain": [
       "'c:\\\\Program Files\\\\nodejs\\\\node.exe'"
      ]
     },
     "execution_count": 21,
     "metadata": {},
     "output_type": "execute_result"
    }
   ],
   "source": [
    "process.execPath"
   ]
  },
  {
   "cell_type": "code",
   "execution_count": 23,
   "metadata": {},
   "outputs": [
    {
     "data": {
      "text/plain": [
       "{ name: 'node',\n",
       "  lts: 'Carbon',\n",
       "  sourceUrl: 'https://nodejs.org/download/release/v8.9.2/node-v8.9.2.tar.gz',\n",
       "  headersUrl: 'https://nodejs.org/download/release/v8.9.2/node-v8.9.2-headers.tar.gz',\n",
       "  libUrl: 'https://nodejs.org/download/release/v8.9.2/win-x64/node.lib' }"
      ]
     },
     "execution_count": 23,
     "metadata": {},
     "output_type": "execute_result"
    }
   ],
   "source": [
    "process.release"
   ]
  },
  {
   "cell_type": "code",
   "execution_count": 25,
   "metadata": {},
   "outputs": [
    {
     "data": {
      "text/plain": [
       "'MINGW32:/c/Users/Administrator/Desktop'"
      ]
     },
     "execution_count": 25,
     "metadata": {},
     "output_type": "execute_result"
    }
   ],
   "source": [
    "process.title"
   ]
  },
  {
   "cell_type": "code",
   "execution_count": 28,
   "metadata": {},
   "outputs": [
    {
     "ename": "SyntaxError",
     "evalue": "Identifier 'newmask' has already been declared",
     "execution_count": 28,
     "output_type": "error",
     "traceback": [
      "evalmachine.<anonymous>:1",
      "const newmask = 0o022;",
      "^",
      "",
      "SyntaxError: Identifier 'newmask' has already been declared",
      "    at evalmachine.<anonymous>:1:1",
      "    at ContextifyScript.Script.runInThisContext (vm.js:50:33)",
      "    at Object.runInThisContext (vm.js:139:38)",
      "    at run ([eval]:1002:15)",
      "    at onRunRequest ([eval]:829:18)",
      "    at onMessage ([eval]:789:13)",
      "    at emitTwo (events.js:126:13)",
      "    at process.emit (events.js:214:7)",
      "    at emit (internal/child_process.js:772:12)",
      "    at _combinedTickCallback (internal/process/next_tick.js:141:11)"
     ]
    }
   ],
   "source": [
    "const newmask = 0o022;\n",
    "const oldmask = process.umask(newmask);\n",
    "console.log(\n",
    "  `Changed umask from ${oldmask.toString(8)} to ${newmask.toString(8)}`\n",
    ");"
   ]
  },
  {
   "cell_type": "markdown",
   "metadata": {},
   "source": [
    "## process.uptime() \n",
    "\n",
    "返回当前 Node.js 进程运行时间秒长"
   ]
  },
  {
   "cell_type": "code",
   "execution_count": 32,
   "metadata": {},
   "outputs": [
    {
     "data": {
      "text/plain": [
       "1843"
      ]
     },
     "execution_count": 32,
     "metadata": {},
     "output_type": "execute_result"
    }
   ],
   "source": [
    "process.uptime()\n",
    "//得到整秒钟\n",
    "Math.floor(process.uptime())"
   ]
  },
  {
   "cell_type": "markdown",
   "metadata": {},
   "source": [
    "## Process.version"
   ]
  },
  {
   "cell_type": "code",
   "execution_count": 31,
   "metadata": {},
   "outputs": [
    {
     "name": "stdout",
     "output_type": "stream",
     "text": [
      "Version: v8.9.2\n"
     ]
    }
   ],
   "source": [
    "console.log(`Version: ${process.version}`);"
   ]
  }
 ],
 "metadata": {
  "kernelspec": {
   "display_name": "Javascript (Node.js)",
   "language": "javascript",
   "name": "javascript"
  },
  "language_info": {
   "file_extension": ".js",
   "mimetype": "application/javascript",
   "name": "javascript",
   "version": "8.9.2"
  }
 },
 "nbformat": 4,
 "nbformat_minor": 2
}
