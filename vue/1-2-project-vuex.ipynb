{
 "cells": [
  {
   "cell_type": "markdown",
   "metadata": {},
   "source": [
    "## Vuex的使用"
   ]
  },
  {
   "cell_type": "markdown",
   "metadata": {},
   "source": [
    "## Vue中的单向数据流"
   ]
  },
  {
   "cell_type": "markdown",
   "metadata": {},
   "source": [
    "![](https://upload-images.jianshu.io/upload_images/7505161-9ada87a51805d828.png?imageMogr2/auto-orient/strip%7CimageView2/2/w/1240)\n"
   ]
  },
  {
   "cell_type": "markdown",
   "metadata": {},
   "source": [
    "```js\n",
    "new Vue({\n",
    "  // state\n",
    "  data () {\n",
    "    return {\n",
    "      count: 0\n",
    "    }\n",
    "  },\n",
    "  // view\n",
    "  template: `\n",
    "    <div>{{ count }}</div>\n",
    "  `,\n",
    "  // actions\n",
    "  methods: {\n",
    "    increment () {\n",
    "      this.count++\n",
    "    }\n",
    "  }\n",
    "})\n",
    "```"
   ]
  },
  {
   "cell_type": "markdown",
   "metadata": {},
   "source": [
    "- state，驱动应用的数据源；(data)\n",
    "- view，以声明方式将 state 映射到视图；(template)\n",
    "- actions，响应在 view 上的用户输入导致的状态变化。(methods)"
   ]
  },
  {
   "cell_type": "markdown",
   "metadata": {},
   "source": [
    "应用遇到多个组件共享状态时，单向数据流的简洁性很容易被破坏：\n",
    "\n",
    "- 多个视图依赖于同一状态。\n",
    "- 来自不同视图的行为需要变更同一状态。"
   ]
  },
  {
   "cell_type": "markdown",
   "metadata": {},
   "source": [
    "vue只承担`view`视图层的 内容.`Vuex`是一个数据框架.叫`状态管理模式`"
   ]
  },
  {
   "cell_type": "markdown",
   "metadata": {},
   "source": [
    "![](https://upload-images.jianshu.io/upload_images/7505161-20404e01af8897c2.png?imageMogr2/auto-orient/strip%7CimageView2/2/w/1240)\n"
   ]
  },
  {
   "cell_type": "markdown",
   "metadata": {},
   "source": [
    "vuex指的是下面虚线的内容,`把公用的数据放在公共的存储空间里面去,某一个组件改变了公共的数据,其他组件就能感知到.`"
   ]
  },
  {
   "cell_type": "markdown",
   "metadata": {},
   "source": [
    "你可以把公共的数据存储在`store`中.store中分为下面几个部分:\n",
    "    - State(所有的数据都存储在State当中)\n",
    "    - Actions(改变组件的数据,必须走Action这个流程:处理异步操作,或者复杂,批量的同步操作)\n",
    "    - Mutations(放置对state一个一个同步的修改)\n",
    "    \n",
    "    组件要改变数据,必须先去调用Actions,Actions再去调用`Mutations`,最终改变公用数据的值."
   ]
  },
  {
   "cell_type": "markdown",
   "metadata": {},
   "source": [
    "有些时候,我们可以直接跳过`Actions`这一步,直接调用`Mutations`,修改公共数据的值."
   ]
  },
  {
   "cell_type": "markdown",
   "metadata": {},
   "source": [
    "### 操作方法\n",
    "- 操作`Actions`的方法: `dispatch`\n",
    "- 操作`Mutation`的方法: `commit`\n",
    "\n",
    "    本质上是一个单项操作数据的流程."
   ]
  },
  {
   "cell_type": "markdown",
   "metadata": {},
   "source": [
    "## Vue中使用插件的形式\n",
    "\n",
    "`Vue.use(vuex)`"
   ]
  },
  {
   "cell_type": "markdown",
   "metadata": {},
   "source": [
    "### 使用Vuex实现数据共享"
   ]
  },
  {
   "cell_type": "markdown",
   "metadata": {},
   "source": [
    "- target: 我们希望点击`City`页的的时候,首页的城市也跟着变."
   ]
  },
  {
   "cell_type": "markdown",
   "metadata": {},
   "source": [
    "- 分析: 需要City页的数据传递给首页.\n",
    "- 难点: `City.vue`和`Home.vue`都是路由器,他们之间没有共同的父级组件.\n",
    "\n",
    "要使用Vuex的组件是首页的'header'组件和`City`的`List`组件"
   ]
  },
  {
   "cell_type": "markdown",
   "metadata": {},
   "source": [
    "**Change**\n",
    "\n",
    "我们期望当热门城市发生单击事件发生改变的时候,当前城市也发生改变\n",
    "\n",
    "```js\n",
    ".button-wrapper(v-for=\"item of hot\" :key=\"item.id\" @click=\"handleCityClick(item.name)\")\n",
    "```"
   ]
  },
  {
   "cell_type": "markdown",
   "metadata": {},
   "source": [
    "需要我们将`city`传入进去.往外触发一个事件.\n",
    "\n",
    "```js\n",
    "methods: {\n",
    "    handleCityClick (name) {\n",
    "      // 使用dispatch 来调用vuex中的actions\n",
    "      // 需要我们将changeCity添加到store中\n",
    "      this.$store.dispatch('changeCity', name)\n",
    "    }\n",
    "  },\n",
    "```"
   ]
  },
  {
   "cell_type": "markdown",
   "metadata": {},
   "source": [
    "**store.js中**\n",
    "\n",
    "这样我们就在`store`中接收到数据.\n",
    "```js\n",
    "export default new Vuex.Store({\n",
    "  state: {\n",
    "    city: '北京'\n",
    "  },\n",
    "  actions: {\n",
    "    changeCity (ctx, name) {\n",
    "      // 下一步交给mutation去做,主要就是听过 ctx.commit\n",
    "      ctx.commit('changeCity', name)\n",
    "    }\n",
    "  },\n",
    "  mutations: {\n",
    "    changeCity (state, name) {\n",
    "      state.city = name\n",
    "    }\n",
    "  }\n",
    "})\n",
    "\n",
    "```"
   ]
  },
  {
   "cell_type": "markdown",
   "metadata": {},
   "source": [
    "步骤: 组件调用`actions`,actions调用`mutation`"
   ]
  },
  {
   "cell_type": "markdown",
   "metadata": {},
   "source": [
    "但是现在我们的逻辑很简单,可以直接使用`commit`来调用`mutation`方法"
   ]
  },
  {
   "cell_type": "markdown",
   "metadata": {},
   "source": [
    "改为`this.$store.commit('changeCity', name)`,删除`actions:{}`即可"
   ]
  },
  {
   "cell_type": "markdown",
   "metadata": {},
   "source": [
    "## vue-router的编程式导航"
   ]
  },
  {
   "cell_type": "markdown",
   "metadata": {},
   "source": [
    "`this.$router.push('/')`"
   ]
  },
  {
   "cell_type": "markdown",
   "metadata": {},
   "source": [
    " ## Vuex的高级使用 & LocalStorage(本地存储)"
   ]
  },
  {
   "cell_type": "markdown",
   "metadata": {},
   "source": [
    "HTML5中的新API `LocalStroge`,可以给我们提供类似Cookie的存储功能."
   ]
  },
  {
   "cell_type": "markdown",
   "metadata": {},
   "source": [
    "`LocalStorage.city = name`\n",
    "\n",
    "如果浏览器处在隐身模式状态下,需要我们添加`try{}catch(e){}`来捕获异常."
   ]
  },
  {
   "cell_type": "markdown",
   "metadata": {},
   "source": [
    "## Vuex中的store的拆分\n",
    "\n",
    "- index.js\n",
    "- state.js\n",
    "- mutations.js"
   ]
  },
  {
   "cell_type": "markdown",
   "metadata": {},
   "source": [
    "## 使用Vuex进行代码优化"
   ]
  },
  {
   "cell_type": "markdown",
   "metadata": {},
   "source": [
    "```js\n",
    "import { mapState, mapMutations } from 'vuex'\n",
    "\n",
    "computed: {\n",
    "    // 将 city这个公用数据,映射到名字叫做city的计算属性当中\n",
    "    ...mapState(['city'])\n",
    "  }\n",
    "\n",
    "methods: {\n",
    "    handleCityClick (name) {\n",
    "      // 使用dispatch 来调用vuex中的actions\n",
    "      // 需要我们将changeCity添加到store中\n",
    "      // this.$store.commit('changeCity', name)\n",
    "      this.changeCity(name)\n",
    "      this.$router.push('./')\n",
    "    },\n",
    "    // 现在有一个mutation叫changeCity,现在将changeCity映射到这个组件当中.\n",
    "    ...mapMutations(['changeCity'])\n",
    "  },\n",
    "\n",
    "```\n",
    "\n",
    "直接使用`this.city`,`this.changeCity(name)`就可以了."
   ]
  },
  {
   "cell_type": "markdown",
   "metadata": {},
   "source": [
    "**getters的使用**\n",
    "\n",
    "getters类似计算属性.\n",
    "\n",
    "```js\n",
    "import { mapGetters} from 'vuex'\n",
    "computed:{\n",
    "...mapGetters(['doubleCity'])\n",
    "}\n",
    "```\n",
    "\n",
    "在`store.js`中\n",
    "\n",
    "```js\n",
    " getters: {\n",
    "    doubleCity (state) {\n",
    "      return state.city + '' + state.city\n",
    "    }\n",
    "  }\n",
    "```\n",
    "\n",
    "**module的使用**\n",
    "\n",
    "将 store 分割成模块（module）\n",
    "\n",
    "```js\n",
    "const moduleA = {\n",
    "  state: { ... },\n",
    "  mutations: { ... },\n",
    "  actions: { ... },\n",
    "  getters: { ... }\n",
    "}\n",
    "\n",
    "const moduleB = {\n",
    "  state: { ... },\n",
    "  mutations: { ... },\n",
    "  actions: { ... }\n",
    "}\n",
    "\n",
    "const store = new Vuex.Store({\n",
    "  modules: {\n",
    "    a: moduleA,\n",
    "    b: moduleB\n",
    "  }\n",
    "})\n",
    "\n",
    "store.state.a // -> moduleA 的状态\n",
    "store.state.b // -> moduleB 的状态\n",
    "```"
   ]
  }
 ],
 "metadata": {
  "kernelspec": {
   "display_name": "Python 3",
   "language": "python",
   "name": "python3"
  },
  "language_info": {
   "codemirror_mode": {
    "name": "ipython",
    "version": 3
   },
   "file_extension": ".py",
   "mimetype": "text/x-python",
   "name": "python",
   "nbconvert_exporter": "python",
   "pygments_lexer": "ipython3",
   "version": "3.6.1"
  }
 },
 "nbformat": 4,
 "nbformat_minor": 2
}
