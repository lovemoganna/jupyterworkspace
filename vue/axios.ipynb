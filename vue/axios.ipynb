{
 "cells": [
  {
   "cell_type": "markdown",
   "metadata": {},
   "source": [
    "## axios\n",
    "\n",
    "可以使用浏览器自带的`fetch`,\n",
    "\n",
    "`axios`可以实现跨平台的数据请求,`在浏览器上可以发送XHR的请求.在node服务器上可以发送Http的请求.`\n",
    "\n"
   ]
  },
  {
   "cell_type": "markdown",
   "metadata": {},
   "source": [
    "我的页面有5个部分组成,每个部分都需要请求数据.\n",
    "\n",
    "此时我们只需要在首页设置一个`ajax`请求即可.最理想的地方是在路由器中发送`ajax`请求.\n"
   ]
  },
  {
   "cell_type": "markdown",
   "metadata": {},
   "source": [
    "`webpack中配置代理转发,是在devServer中.`"
   ]
  },
  {
   "cell_type": "markdown",
   "metadata": {},
   "source": [
    "## 父组件给子组件传值\n",
    "\n",
    "`Home`是父组件(路由器).子组件`header`\n",
    "\n",
    "父组件给子组件传值是通过`属性`的形式,比如说父组件给子组件传递一个值'city',这个属性就是`city`.\n",
    "\n",
    "子组件需要用`props`接收这个值.也就是在`header`这个组件中,利用`props`接收前面传过来的值.\n",
    "\n",
    "## 设置初始值\n",
    "\n",
    "父组件中里面设置`swiperList: []`.这是指的是`swiperList`创建的时候,最初是空数组创建的.\n",
    "\n",
    "然后ajax数据获取完成以后,`swiperList`就变成了真正的数据项.然后你传给子组件的时候,子组件才获取到新的数据.然后子组件会重新渲染页面.\n",
    "\n",
    "此时需要我们设置`v-if=\"list.length\"`,最初的时候,数组是一个空数组.只有`swiperList`是真实的数据的时候,这个数组才会被传递给子组件."
   ]
  },
  {
   "cell_type": "code",
   "execution_count": null,
   "metadata": {},
   "outputs": [],
   "source": []
  },
  {
   "cell_type": "code",
   "execution_count": null,
   "metadata": {},
   "outputs": [],
   "source": []
  },
  {
   "cell_type": "code",
   "execution_count": null,
   "metadata": {},
   "outputs": [],
   "source": []
  },
  {
   "cell_type": "code",
   "execution_count": null,
   "metadata": {},
   "outputs": [],
   "source": []
  },
  {
   "cell_type": "code",
   "execution_count": null,
   "metadata": {},
   "outputs": [],
   "source": []
  },
  {
   "cell_type": "code",
   "execution_count": null,
   "metadata": {},
   "outputs": [],
   "source": []
  },
  {
   "cell_type": "code",
   "execution_count": null,
   "metadata": {},
   "outputs": [],
   "source": []
  },
  {
   "cell_type": "code",
   "execution_count": null,
   "metadata": {},
   "outputs": [],
   "source": []
  },
  {
   "cell_type": "code",
   "execution_count": null,
   "metadata": {},
   "outputs": [],
   "source": []
  },
  {
   "cell_type": "code",
   "execution_count": null,
   "metadata": {},
   "outputs": [],
   "source": []
  },
  {
   "cell_type": "code",
   "execution_count": null,
   "metadata": {},
   "outputs": [],
   "source": []
  },
  {
   "cell_type": "code",
   "execution_count": null,
   "metadata": {},
   "outputs": [],
   "source": []
  },
  {
   "cell_type": "code",
   "execution_count": null,
   "metadata": {},
   "outputs": [],
   "source": []
  },
  {
   "cell_type": "code",
   "execution_count": null,
   "metadata": {},
   "outputs": [],
   "source": []
  },
  {
   "cell_type": "markdown",
   "metadata": {},
   "source": [
    "现在我们需要构建一个NodeJs Rest API 服务."
   ]
  },
  {
   "cell_type": "markdown",
   "metadata": {},
   "source": [
    "参考地址是 `http://restify.com/`"
   ]
  },
  {
   "cell_type": "code",
   "execution_count": 1,
   "metadata": {},
   "outputs": [
    {
     "data": {
      "text/html": [
       "<iframe width=\"900\" height=\"610\" src=\"https://www.youtube.com/embed/bqn-sx0v-l0?list=PLillGF-RfqbbFSFYR_yJfDcdq6It6OqdO\" frameborder=\"0\" allow=\"accelerometer; autoplay; encrypted-media; gyroscope; picture-in-picture\" allowfullscreen></iframe>"
      ],
      "text/plain": [
       "<IPython.core.display.HTML object>"
      ]
     },
     "execution_count": 1,
     "metadata": {},
     "output_type": "execute_result"
    }
   ],
   "source": [
    "from IPython.display import HTML\n",
    "\n",
    "HTML('<iframe width=\"900\" height=\"610\" src=\"https://www.youtube.com/embed/bqn-sx0v-l0?list=PLillGF-RfqbbFSFYR_yJfDcdq6It6OqdO\" frameborder=\"0\" allow=\"accelerometer; autoplay; encrypted-media; gyroscope; picture-in-picture\" allowfullscreen></iframe>')"
   ]
  },
  {
   "cell_type": "markdown",
   "metadata": {},
   "source": [
    "## install package \n",
    "`yarn add restify restify-errors mongoose mongoose-timestamp --save`\n",
    "\n",
    "`yarn add nodemon --dev`\n",
    "\n",
    "## build scripts \n",
    "\n",
    "`start: node index.js`\n",
    "`dev: nodemon index.js `\n",
    "\n",
    "## tools\n",
    "`https://mlab.com/home`\n",
    "\n",
    "## restify-errors\n",
    "\n",
    "`https://github.com/restify/errors`"
   ]
  }
 ],
 "metadata": {
  "kernelspec": {
   "display_name": "Python 3",
   "language": "python",
   "name": "python3"
  },
  "language_info": {
   "codemirror_mode": {
    "name": "ipython",
    "version": 3
   },
   "file_extension": ".py",
   "mimetype": "text/x-python",
   "name": "python",
   "nbconvert_exporter": "python",
   "pygments_lexer": "ipython3",
   "version": "3.6.1"
  }
 },
 "nbformat": 4,
 "nbformat_minor": 2
}
