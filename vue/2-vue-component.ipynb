{
 "cells": [
  {
   "cell_type": "markdown",
   "metadata": {},
   "source": [
    "## Vue中的特定标签的组件的使用"
   ]
  },
  {
   "cell_type": "markdown",
   "metadata": {},
   "source": [
    "这属于重复使用一个组件,我们必须给这个组件添加一个标记.以此来区分他们之间的不同.\n",
    "\n",
    "即使用`is`来区分子组件的不同."
   ]
  },
  {
   "cell_type": "markdown",
   "metadata": {},
   "source": [
    "```html\n",
    "<table>\n",
    "  <tbody>\n",
    "    <tr is=\"row\"></tr>\n",
    "    <tr is=\"row\"></tr>\n",
    "    <tr is=\"row\"></tr>\n",
    "  </tbody>\n",
    "</table>\n",
    "```\n",
    "\n",
    "vue-component\n",
    "\n",
    "```js\n",
    "Vue.component(\"row\", {\n",
    "  template: \"<tr><td> this is a template!</td></tr>\"\n",
    "})\n",
    "```\n",
    "\n",
    "这样就正确的显示了."
   ]
  },
  {
   "cell_type": "markdown",
   "metadata": {},
   "source": [
    "```html\n",
    "<div id=\"root\">\n",
    "<div>\n",
    "  <ul is=\"row\"></ul>\n",
    "  <ul is=\"row\"></ul>\n",
    "  <ul is=\"row\"></ul>\n",
    "</div>\n",
    "</div>\n",
    "\n",
    "<script>\n",
    "Vue.component(\"row\", {\n",
    "  template: \"<ul><li>hello li label</li></ul>\"\n",
    "\n",
    "})\n",
    "new Vue({\n",
    "  el: \"#root\"\n",
    "})\n",
    "</script>\n",
    "\n",
    "```"
   ]
  },
  {
   "cell_type": "markdown",
   "metadata": {},
   "source": [
    "```html\n",
    "<div id=\"root\">\n",
    "    <div>\n",
    "      <select name=\"\" id=\"\">\n",
    "        <option value=\"\" is=\"row\"></option>\n",
    "        <option value=\"\" is=\"row\"></option>\n",
    "        <option value=\"\" is=\"row\"></option>\n",
    "      </select>\n",
    "    </div>\n",
    "  </div>\n",
    "\n",
    "  <script>\n",
    "    Vue.component(\"row\", {\n",
    "      template: \"<option>hello li label</option>\"\n",
    "    })\n",
    "    new Vue({\n",
    "      el: \"#root\"\n",
    "    })\n",
    "  </script>\n",
    "\n",
    "```"
   ]
  },
  {
   "cell_type": "markdown",
   "metadata": {},
   "source": [
    "下面的内容\n",
    "\n",
    "- template 里面的数据用 content来进行替换.\n",
    "- data 里面的数据必须保持独立(采用函数的方式来定义数据)\n",
    "\n",
    "## 操纵DOM的方式\n",
    "使用`ref= \"hello\"`来标记这个节点.并采用 `this.$refs.hello` 来打印出当前的节点.\n",
    "\n",
    "## 简单的计数器\n",
    "\n",
    "主要是在子组件上,声明 `data` `template`,然后给`template`绑定一个单击事件.从而完成计数的功能.\n",
    "\n",
    "但是我们现在想求这两个组件的数的和."
   ]
  },
  {
   "cell_type": "markdown",
   "metadata": {},
   "source": [
    "```\n",
    "<!DOCTYPE html>\n",
    "<html lang=\"en\">\n",
    "\n",
    "<head>\n",
    "  <meta charset=\"UTF-8\">\n",
    "  <meta name=\"viewport\" content=\"width=device-width, initial-scale=1.0\">\n",
    "  <meta http-equiv=\"X-UA-Compatible\" content=\"ie=edge\">\n",
    "  <script src=\"https://unpkg.com/vue\"></script>\n",
    "  <title>Document</title>\n",
    "</head>\n",
    "\n",
    "<body>\n",
    "  <div id=\"root\">\n",
    "    <!--DOM实例 -->\n",
    "    <div ref=\"hello\" @click=\"handleHelloClick\">\n",
    "      hello\n",
    "    </div>\n",
    "<!--       通过ref我们可以操纵数据,类似于绑定一个symbol来区别它 -->\n",
    "    <div>\n",
    "      <counter ref=\"counterOne\" @change=\"handleChange\"></counter>\n",
    "      <counter ref=\"counterTwo\" @change=\"handleChange\"></counter>\n",
    "      <div>{{total}}</div>\n",
    "    </div>\n",
    "  </div>\n",
    "  \n",
    "  <script>\n",
    "    Vue.component(\"counter\", {\n",
    "      data() {\n",
    "        return {\n",
    "          content: \"hello world\",\n",
    "          counter: 0\n",
    "        }\n",
    "      },\n",
    "      template: \"<p @click='handleClick'>{{counter}}</p>\",\n",
    "      methods: {\n",
    "        handleClick() {\n",
    "          this.counter++;\n",
    "          this.$emit('change');\n",
    "        },\n",
    "      }\n",
    "    })\n",
    "    new Vue({\n",
    "      el: \"#root\",\n",
    "      data() {\n",
    "        return {\n",
    "          total: 0\n",
    "        }\n",
    "      },\n",
    "      methods: {\n",
    "        handleHelloClick() {\n",
    "          console.log(this.$refs.hello.style.background = \"red\")\n",
    "        },\n",
    "        handleChange() {\n",
    "          alert(\"change\")\n",
    "          this.total = this.$refs.counterOne.counter + this.$refs.counterTwo.counter;\n",
    "          console.log();\n",
    "\n",
    "        }\n",
    "      }\n",
    "    })\n",
    "  </script>\n",
    "</body>\n",
    "\n",
    "</html>\n",
    "```"
   ]
  },
  {
   "cell_type": "markdown",
   "metadata": {},
   "source": [
    "## 父组件向子组件传值\n",
    "\n",
    "vue中存在着单向数据流的概念.\n",
    "\n",
    "父组件可以修改子组件传递过来的任何数据.\n",
    "\n",
    "但是子组件不可以修改父组件的任何数据."
   ]
  },
  {
   "cell_type": "markdown",
   "metadata": {},
   "source": [
    "```html\n",
    "<!DOCTYPE html>\n",
    "<html lang=\"en\">\n",
    "\n",
    "<head>\n",
    "  <meta charset=\"UTF-8\">\n",
    "  <meta name=\"viewport\" content=\"width=device-width, initial-scale=1.0\">\n",
    "  <meta http-equiv=\"X-UA-Compatible\" content=\"ie=edge\">\n",
    "  <script src=\"https://unpkg.com/vue\"></script>\n",
    "  <title>Document</title>\n",
    "</head>\n",
    "\n",
    "<body>\n",
    "  <div id=\"root\">\n",
    "    <!-- 父组件通过属性的方式向子组件传值 -->\n",
    "    <counter :count=\"1\"></counter>\n",
    "    <counter :count=\"2\"></counter>\n",
    "  </div>\n",
    "  <script>\n",
    "    var counter = {\n",
    "      props: ['count'],\n",
    "      data() {\n",
    "        return {\n",
    "            // 为了避免子组件中的数据操作混乱.\n",
    "          number: this.count\n",
    "        }\n",
    "      },\n",
    "      template: '<div @click=\"handleClick\">{{number}}</div>',\n",
    "      methods: {\n",
    "        handleClick() {\n",
    "          this.number++;\n",
    "        }\n",
    "      }\n",
    "    };\n",
    "\n",
    "    new Vue({\n",
    "      el: \"#root\",\n",
    "      data() {\n",
    "        return {\n",
    "\n",
    "        }\n",
    "      },\n",
    "      components: {\n",
    "        counter: counter\n",
    "      },\n",
    "\n",
    "    })\n",
    "  </script>\n",
    "</body>\n",
    "\n",
    "</html>\n",
    "```"
   ]
  },
  {
   "cell_type": "markdown",
   "metadata": {},
   "source": [
    "## 父组件监听子组件的值的改变."
   ]
  },
  {
   "cell_type": "markdown",
   "metadata": {},
   "source": [
    "```html\n",
    "<!DOCTYPE html>\n",
    "<html lang=\"en\">\n",
    "\n",
    "<head>\n",
    "  <meta charset=\"UTF-8\">\n",
    "  <meta name=\"viewport\" content=\"width=device-width, initial-scale=1.0\">\n",
    "  <meta http-equiv=\"X-UA-Compatible\" content=\"ie=edge\">\n",
    "  <script src=\"https://unpkg.com/vue\"></script>\n",
    "  <title>Document</title>\n",
    "</head>\n",
    "\n",
    "<body>\n",
    "  <div id=\"root\">\n",
    "    <!--这个事件就是让父组件可以监听到子组件的改变  -->\n",
    "    <counter :count=\"1\" @inc=\"numberTotal\"></counter>\n",
    "    <counter :count=\"2\" @inc=\"numberTotal\"></counter>\n",
    "    <div @inc=\"numberTotal\">{{total}}</div>\n",
    "  </div>\n",
    "  <script>\n",
    "    var counter = {\n",
    "      props: ['count'],\n",
    "      data() {\n",
    "        return {\n",
    "          number: this.count\n",
    "        }\n",
    "      },\n",
    "      template: '<div @click=\"handleClick\">{{number}}</div>',\n",
    "      methods: {\n",
    "        handleClick() {\n",
    "          this.number = this.number + 2;\n",
    "          this.$emit('inc', 2);\n",
    "        }\n",
    "      }\n",
    "    };\n",
    "\n",
    "    new Vue({\n",
    "      el: \"#root\",\n",
    "      data: {\n",
    "        total: 3\n",
    "      },\n",
    "      components: {\n",
    "        counter: counter\n",
    "      },\n",
    "      methods: {\n",
    "        numberTotal(step) {\n",
    "          console.log('number inc');\n",
    "          this.total += step;\n",
    "        }\n",
    "      }\n",
    "\n",
    "    })\n",
    "  </script>\n",
    "</body>\n",
    "\n",
    "</html>\n",
    "```"
   ]
  },
  {
   "cell_type": "markdown",
   "metadata": {},
   "source": [
    "## 组件参数的校验(props特性)\n",
    "\n",
    "### 父组件向子组件传递字符串的时候\n",
    "\n",
    "不需要绑定属性\n",
    "\n",
    "```html\n",
    "  <div id=\"root\">\n",
    "    <!--这个事件就是让父组件可以监听到子组件的改变  -->\n",
    "    <child content='hi'></child>\n",
    "  </div>\n",
    "  <script>\n",
    "    Vue.component('child', {\n",
    "      props: {\n",
    "        content: String\n",
    "      },\n",
    "      template: '<div>{{content}}</div>'\n",
    "    })\n",
    "    new Vue({\n",
    "      el: \"#root\"\n",
    "    })\n",
    "```\n",
    "\n",
    "### 父组件向子组件传递其他属性的时候\n",
    "\n",
    "需要绑定属性\n",
    "```html\n",
    "  <div id=\"root\">\n",
    "    <!--这个事件就是让父组件可以监听到子组件的改变  -->\n",
    "    <child :content='123'></child>\n",
    "  </div>\n",
    "  <script>\n",
    "    Vue.component('child', {\n",
    "      props: {\n",
    "        content: Number\n",
    "      },\n",
    "      template: '<div>{{content}}</div>'\n",
    "    })\n",
    "    new Vue({\n",
    "      el: \"#root\"\n",
    "    })\n",
    "```\n"
   ]
  },
  {
   "cell_type": "markdown",
   "metadata": {},
   "source": [
    "### 混合传值"
   ]
  },
  {
   "cell_type": "markdown",
   "metadata": {},
   "source": [
    "`props:{content:[Number,String]}`"
   ]
  },
  {
   "cell_type": "markdown",
   "metadata": {},
   "source": [
    "### 强制规定传递对象的数据类型"
   ]
  },
  {
   "cell_type": "markdown",
   "metadata": {},
   "source": [
    "```json\n",
    "props:{\n",
    "    content:{\n",
    "        type:String,\n",
    "        // 必须传递这个数据\n",
    "        required: true\n",
    "        //默认值\n",
    "        default: '默认值',\n",
    "        // 自定义校验器\n",
    "        validator(value){\n",
    "            return (value.length >5}\n",
    "        }\n",
    "    }\n",
    "}\n",
    "```"
   ]
  },
  {
   "cell_type": "markdown",
   "metadata": {},
   "source": [
    "## 非props特性"
   ]
  },
  {
   "cell_type": "markdown",
   "metadata": {},
   "source": [
    "1.仅仅在父组件定义了属性,但是子组件没有接收,此时就会产生非Props特性.\n",
    "\n",
    "2.你直接定义的属性值会直接显示在子组件的最外层当中."
   ]
  },
  {
   "cell_type": "markdown",
   "metadata": {},
   "source": [
    "## 绑定原生事件\n",
    "\n",
    "1.给父组件绑定原生事件.需要子组件往外边传递事件的名称.然后再往根组件里面写入事件的内容."
   ]
  },
  {
   "cell_type": "markdown",
   "metadata": {},
   "source": [
    "```html\n",
    "  <div id=\"root\">\n",
    "    <child @click=\"handleClick\"></child>\n",
    "  </div>\n",
    "  <script>\n",
    "    Vue.component('child', {\n",
    "      template: '<div @click=\"handleChildClick\">hello</div>',\n",
    "      methods: {\n",
    "        handleChildClick(){\n",
    "          this.$emit('click');\n",
    "        }\n",
    "      }\n",
    "    })\n",
    "    new Vue({\n",
    "      el: \"#root\",\n",
    "      methods:{\n",
    "        handleClick(){\n",
    "          console.log('hello');\n",
    "        }\n",
    "      }\n",
    "    })\n",
    "\n",
    "```"
   ]
  },
  {
   "cell_type": "markdown",
   "metadata": {},
   "source": [
    "2.使用`.native`关键字\n",
    "\n",
    "```html\n",
    "  <div id=\"root\">\n",
    "    <child @click.native=\"handleClick\"></child>\n",
    "  </div>\n",
    "  <script>\n",
    "    Vue.component('child', {\n",
    "      template: '<div>hello</div>',\n",
    "    })\n",
    "    new Vue({\n",
    "      el: \"#root\",\n",
    "      methods: {\n",
    "        handleClick() {\n",
    "          console.log(\"hello ,I am native event!\");\n",
    "        }\n",
    "      }\n",
    "    })\n",
    "  </script>\n",
    "```"
   ]
  },
  {
   "cell_type": "markdown",
   "metadata": {},
   "source": [
    "## 非父子组件之间的传值"
   ]
  },
  {
   "cell_type": "markdown",
   "metadata": {},
   "source": [
    "1.父组件通过 `props` 向子组件传值.\n",
    "\n",
    "2.子组件通过事件触发向父组件传值."
   ]
  },
  {
   "cell_type": "markdown",
   "metadata": {},
   "source": [
    "如果有多个层级的传值.我们就会采用发布订阅模式或者Vuex."
   ]
  },
  {
   "cell_type": "markdown",
   "metadata": {},
   "source": [
    "### 兄弟组件间的传值\n",
    "\n",
    "我们需要发布订阅模式来解决这个问题.也就是我们常说的`Bus总线`机制.\n",
    "\n",
    "可以看到\n",
    "\n",
    "1.子组件不能够修改父组件传过来的值.需要找一个跳板来进行数据操作.\n",
    "\n",
    "2.子组件通过绑定一个`click事件`来往外触发一个事件.进而使兄弟节点可以通信.\n",
    "\n",
    "3.兄弟节点之间的通信是需要一个发布订阅模型的.\n",
    "\n",
    "也就是需要一个调度中心.在此我们给Vue原型上加一个方法.让其来充当调度中心.让其来监听事件的改变."
   ]
  },
  {
   "cell_type": "markdown",
   "metadata": {},
   "source": [
    "```text\n",
    " <div id=\"root\">\n",
    "    <child content='dell'></child>\n",
    "    <child content='lee'></child>\n",
    "  </div>\n",
    "  <script>\n",
    "    Vue.prototype.bus = new Vue();\n",
    "\n",
    "    Vue.component('child', {\n",
    "      data: function () {\n",
    "        return {\n",
    "          Content: this.content\n",
    "        }\n",
    "      },\n",
    "      props: {\n",
    "        content: String\n",
    "      },\n",
    "      template: '<div @click=\"handleClick\">{{Content}}</div>',\n",
    "      methods: {\n",
    "        handleClick() {\n",
    "          this.bus.$emit(\"change\", this.Content);\n",
    "        }\n",
    "      },\n",
    "      mounted() {\n",
    "        var that = this;\n",
    "        this.bus.$on('change', function (msg) {\n",
    "          // 子组件不能改变父组件的值.\n",
    "          that.Content = msg;\n",
    "        })\n",
    "      }\n",
    "    })\n",
    "    new Vue({\n",
    "      el: \"#root\"\n",
    "    })\n",
    "  </script>\n",
    "\n",
    "```"
   ]
  },
  {
   "cell_type": "markdown",
   "metadata": {},
   "source": [
    "## 插槽的基本使用"
   ]
  },
  {
   "cell_type": "markdown",
   "metadata": {},
   "source": [
    "聚名插槽\n",
    "\n",
    "`<slot></slot>`\n",
    "\n",
    "特殊需要的话,就给插槽起个名字. `<div class=\"header\" slot=\"header\"></div>`\n",
    "\n",
    "这样就可以在子组件里面使用了.\n",
    "\n",
    "如果你在子组件里面自定义插槽.起个名就可以了.\n",
    "\n",
    "`<solt name=\"fotter\"></solt>`"
   ]
  },
  {
   "cell_type": "markdown",
   "metadata": {},
   "source": [
    "## 在父组件里面使用作用域插槽"
   ]
  },
  {
   "cell_type": "markdown",
   "metadata": {},
   "source": [
    "作用域插槽必须是一个`<template></template>`包裹的东西.里面的样式可以随便搞.`slot-scope`告诉插槽,传过来的值用什么变量来接住."
   ]
  },
  {
   "cell_type": "markdown",
   "metadata": {},
   "source": [
    "## 动态组件"
   ]
  },
  {
   "cell_type": "markdown",
   "metadata": {},
   "source": [
    "```\n",
    "<component is='XXX'> ---- 动态组件\n",
    "\n",
    "<v-once> --- 将组件放在内当中.\n",
    "```\n",
    "\n",
    "```html\n",
    "  <div id=\"root\">\n",
    "    <!-- 动态组件 -->\n",
    "    <component :is=\"type\"></component>\n",
    "    <!-- <child v-if=\"type === 'child'\"></child>\n",
    "    <child-two v-if=\"type=== 'child-two'\"></child-two> -->\n",
    "    <button @click=\"handleClick\">toggle</button>\n",
    "  </div>\n",
    "  <script>\n",
    "    Vue.component('child', {\n",
    "      template: '<div v-once>hello</div>'\n",
    "    })\n",
    "    Vue.component('child-two', {\n",
    "      template: '<div v-once>hello two</div>'\n",
    "    })\n",
    "\n",
    "    new Vue({\n",
    "      el: \"#root\",\n",
    "      data: {\n",
    "        type:'child'\n",
    "      },\n",
    "      methods: {\n",
    "        handleClick() {\n",
    "          this.type = this.type === \"child\" ? \"child-two\" : \"child\";\n",
    "        } \n",
    "      }\n",
    "    })\n",
    "  </script>\n",
    "```"
   ]
  }
 ],
 "metadata": {
  "kernelspec": {
   "display_name": "Javascript (Node.js)",
   "language": "javascript",
   "name": "javascript"
  },
  "language_info": {
   "file_extension": ".js",
   "mimetype": "application/javascript",
   "name": "javascript",
   "version": "8.9.2"
  }
 },
 "nbformat": 4,
 "nbformat_minor": 2
}
