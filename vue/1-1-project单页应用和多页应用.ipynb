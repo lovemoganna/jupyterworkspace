{
 "cells": [
  {
   "cell_type": "markdown",
   "metadata": {},
   "source": [
    "## 多页应用\n",
    "\n",
    "![](https://upload-images.jianshu.io/upload_images/7505161-19c7d3ea66cdf612.png?imageMogr2/auto-orient/strip%7CimageView2/2/w/1240)"
   ]
  },
  {
   "cell_type": "markdown",
   "metadata": {},
   "source": [
    "- 每一次请求,后台服务器返回一个HTML文档.只有一次Http请求.这种网站就是多多页网站.所以这就是多页面应用.\n",
    "- 但是网络要是很慢的话,来回跳转就会很慢."
   ]
  },
  {
   "cell_type": "markdown",
   "metadata": {},
   "source": [
    "- 搜索引擎爬取HTML页面.首屏时间快,SEO效果好.\n",
    "- 页面切换慢.老是页面跳转.每次都要发送http请求."
   ]
  },
  {
   "cell_type": "markdown",
   "metadata": {},
   "source": [
    "## 单页应用\n",
    "\n",
    "- 使用`<router-link>`进行页面跳转.\n",
    "\n",
    "![](https://upload-images.jianshu.io/upload_images/7505161-ec3cb9e5b3607007.png?imageMogr2/auto-orient/strip%7CimageView2/2/w/1240)\n",
    "\n",
    "- 第一次请求是一个`Html`页面.\n",
    "- 再次发起请求,并不会请求一个`html`页面了.JS感知到URL的变化之后,JS动态的将当前页面清除掉,再把下一个页面挂载在上面.\n",
    "\n",
    "![](https://upload-images.jianshu.io/upload_images/7505161-151c85a4a3eaf7d7.png?imageMogr2/auto-orient/strip%7CimageView2/2/w/1240)\n",
    "\n"
   ]
  },
  {
   "cell_type": "markdown",
   "metadata": {},
   "source": [
    "![](https://upload-images.jianshu.io/upload_images/7505161-e7af9e6033132198.png?imageMogr2/auto-orient/strip%7CimageView2/2/w/1240)"
   ]
  },
  {
   "cell_type": "markdown",
   "metadata": {},
   "source": [
    "## 视口的修改"
   ]
  },
  {
   "cell_type": "markdown",
   "metadata": {},
   "source": [
    "```html\n",
    " <meta name=\"viewport\" content=\"width=device-width,initial-scale=1.0,minimum-scale=1.0,maximum-scale=1.0,user-scalable=no\">\n",
    "```"
   ]
  },
  {
   "cell_type": "markdown",
   "metadata": {},
   "source": [
    "## 引入页面样式重置表`reset.css`\n",
    "\n",
    "不同手机的样式是不统一的.所以我们需要统一样式."
   ]
  },
  {
   "cell_type": "markdown",
   "metadata": {},
   "source": [
    "## 移动端1px边框问题\n",
    "\n",
    "手机分辨率比较高,有可能是2倍屏幕,或者是3倍屏幕.\n",
    "\n",
    "`border: 1px solid green`此时是一个`1px`,这里指的是`css像素`.\n",
    "\n",
    "但是从`2倍屏`上来看,它对应的不是一个物理像素的高度.而是2个物理像素的高度"
   ]
  },
  {
   "cell_type": "markdown",
   "metadata": {},
   "source": [
    "## 300毫秒延迟\n",
    "在移动端的开发过程中,某些浏览器或者机型,存在着click事件延迟.\n",
    "\n",
    "引入`fastclick`库."
   ]
  },
  {
   "cell_type": "markdown",
   "metadata": {},
   "source": [
    "## 页面拆分\n",
    "\n",
    "`home`目录下添加一个`components`文件夹,这样一个页面就会拆分为很多个组件."
   ]
  },
  {
   "cell_type": "markdown",
   "metadata": {},
   "source": [
    "## 使用局部组件\n",
    "\n",
    "`需要在组件的下面声明局部组件,即`components:{引入局部组件的名字}`"
   ]
  },
  {
   "cell_type": "markdown",
   "metadata": {},
   "source": [
    "## 一个组件的样式不会对其他的组件样式产生影响\n",
    "\n",
    "在`style`上添加`scoped`."
   ]
  },
  {
   "cell_type": "markdown",
   "metadata": {},
   "source": [
    "## 移动端的布局\n",
    "\n",
    "采用`rem`的布局方式.此时我们把`reset.css`即样式重置表中的`fnt-size`设置为`50px`.\n",
    "现在`rem`是相对于`50px`的一个尺寸.\n",
    "\n",
    "现在设计师给的是一个`@2`尺寸的图片.原本的css的宽度`86px`,我们现在应该写为`43px`.\n",
    "\n",
    "已知`1rem = css font-size = 50px`\n",
    "\n",
    "需要用原先的`86px/2,转为我们实际要写的像素值.然后再转为rem值,即43px/50 = .86rem`\n",
    "\n",
    "所以我们化繁为简,直接除以 100就直接变为rem单位了.\n",
    "\n"
   ]
  },
  {
   "cell_type": "markdown",
   "metadata": {},
   "source": [
    "## iconfont的使用"
   ]
  },
  {
   "cell_type": "markdown",
   "metadata": {},
   "source": [
    "将图标转换为字体了,然后我们要导入字体文件.`iconfont.css也需要`\n",
    "\n",
    "将`iconfont.css`引入到`main.js`这个入口文件中.\n",
    "\n",
    "`import './assets/styles/iconfont.css'`\n",
    "\n",
    "使用方式.\n",
    "\n",
    "复制他们的代码\n",
    "``"
   ]
  },
  {
   "cell_type": "markdown",
   "metadata": {},
   "source": [
    "## css的引入方式\n",
    "\n",
    "我们会定义一个全局的CSS变量来维护我们的APP.引入方式可以是相对.路径,也可以是下面这种写法.\n",
    "\n",
    "`@import '~@/assets/styles/variables';`"
   ]
  },
  {
   "cell_type": "markdown",
   "metadata": {},
   "source": [
    "## 给某一个路径起别名\n",
    "\n",
    "`vue.config.js`\n",
    "```js\n",
    "const path = require('path')\n",
    "function resolve (dir) {\n",
    "  return path.join(__dirname, dir)\n",
    "}\n",
    "module.exports = {\n",
    "  lintOnSave: true,\n",
    "  chainWebpack: (config) => {\n",
    "    config.resolve.alias\n",
    "      .set('@', resolve('src'))\n",
    "      .set('styles', resolve('src/assets/styles'))\n",
    "  }\n",
    "}\n",
    "```"
   ]
  },
  {
   "cell_type": "markdown",
   "metadata": {},
   "source": [
    "## vue-anwesome-swiper"
   ]
  },
  {
   "cell_type": "markdown",
   "metadata": {},
   "source": [
    "https://github.com/surmon-china/vue-awesome-swiper\n",
    "    \n",
    "`touch.piao.qunar.com`\n",
    "\n",
    "在一个子组件里面定义数据,`data`一定是一个函数.\n",
    "\n",
    "![](https://upload-images.jianshu.io/upload_images/7505161-348b4643f7f99f20.png?imageMogr2/auto-orient/strip%7CimageView2/2/w/1240)\n"
   ]
  },
  {
   "cell_type": "markdown",
   "metadata": {},
   "source": [
    "这里的图片的高宽比是 `100 / 375 = 26.66666`\n",
    "\n",
    "可以写成,`height: 26.67vw`,意思就是当前视口,26.67%的高度.\n",
    "\n",
    "也可以写成下面的样式:\n",
    "\n",
    "```scss\n",
    " .wrapper{\n",
    "    width: 100%;\n",
    "    height: 0;\n",
    "    overflow: hidden;\n",
    "    /*图片高: 宽的比率: 26.67%,已知wrapper的宽度是100%.他的高度相对于宽度会自动撑开26.67%*/\n",
    "    padding-bottom: 26.67%;\n",
    "    .swiper-image{\n",
    "      width: 100%\n",
    "    }\n",
    "  }\n",
    "```\n",
    "    \n",
    "    \n"
   ]
  },
  {
   "cell_type": "markdown",
   "metadata": {},
   "source": [
    "## 设置高宽比是50%\n",
    "\n",
    "```css\n",
    " overflow: hidden;\n",
    "  height: 0;\n",
    "  padding-bottom: 50%;\n",
    "  background: green;\n",
    "```\n",
    "\n",
    "\n",
    "`border-sizing: border-box;`,计算方式就是`element width = padding+ border+ content`"
   ]
  },
  {
   "cell_type": "markdown",
   "metadata": {},
   "source": [
    "```scss\n",
    ".icons{\n",
    "  overflow: hidden;\n",
    "  height: 0;\n",
    "  padding-bottom: 50%;\n",
    "  background: yellowgreen;\n",
    "  .icon{\n",
    "    position: relative;\n",
    "    overflow: hidden;\n",
    "    float: left;\n",
    "    width: 25%;\n",
    "    height: 0;\n",
    "    padding-bottom: 25%;\n",
    "    background: red;\n",
    "    .icon-img{\n",
    "      position: absolute;\n",
    "      top: 0;\n",
    "      left: 0;\n",
    "      right: 0;\n",
    "      bottom: .44rem;\n",
    "      box-sizing: border-box;\n",
    "      padding: .1rem;\n",
    "      .icon-img-content{\n",
    "        /*img 居中*/\n",
    "        display: block;\n",
    "        margin: 0 auto;\n",
    "        height: 100%;\n",
    "      }\n",
    "    }\n",
    "    .icon-desc{\n",
    "      position: absolute;\n",
    "      left: 0;\n",
    "      right: 0;\n",
    "      bottom: 0;\n",
    "      height: .44rem;\n",
    "      line-height: .44rem;\n",
    "      text-align: center;\n",
    "      color: $darkTextColor;\n",
    "    }\n",
    "  }\n",
    "}\n",
    "```"
   ]
  },
  {
   "cell_type": "markdown",
   "metadata": {},
   "source": [
    "- 我们将icons分为2部分: img + text\n",
    "    + 但是img太大,所以我们需要在外层加一层div,转为块级元素,可以调整其大小.将这个块设置为`box-sizing`,以便可以调节其左右的间距.也就是可以调节他的`padding(内边填充),border(边框)`的大小.\n",
    "    + 设置图片居中: 先转为块级元素,然后设置`margin:0 auto`,将其高度设置为`100%`,铺满你设置的空间.\n",
    "    \n",
    "- 关于文字说明,我们是相对于顶层的`icon`部分来布局,将其`left ,right,bottom`都设置为0,然后居中处理就可以了."
   ]
  },
  {
   "cell_type": "markdown",
   "metadata": {},
   "source": [
    "## 计算属性用来分页\n",
    "\n",
    "如何将一个一维数组转换为二维数组?\n",
    "\n",
    "```js\n",
    "iconList: [1,2,3,4,5,6,7,8,9]\n",
    "    \n",
    "pages () {\n",
    "      const pages = []\n",
    "      this.iconList.forEach((item, index) => {\n",
    "          // Math.floor(1/8) = 0\n",
    "         // Math.floor(8/8) = 1         \n",
    "        // 利用一维数组的索引来计算在当前pages的page数\n",
    "        const page = Math.floor(index / 8)\n",
    "        // index = 8的时候,page = 2 ,说明pages又有新的一页.所以将其置空.重新添加数据.\n",
    "        if (!pages[page]) {\n",
    "          pages[page] = []\n",
    "        }\n",
    "        pages[page].push(item)\n",
    "      })\n",
    "      return pages\n",
    "}\n",
    "```"
   ]
  },
  {
   "cell_type": "markdown",
   "metadata": {},
   "source": [
    "先同步到线上分支\n",
    "然后切换到develop分支\n",
    "\n",
    "git merge origin/feature\n",
    "git push "
   ]
  },
  {
   "cell_type": "markdown",
   "metadata": {},
   "source": [
    "## 组件上设置路由"
   ]
  },
  {
   "cell_type": "markdown",
   "metadata": {},
   "source": [
    "添加`<router-link to=\"./city\">`\n",
    "\n",
    "to指向配置好的路由路径."
   ]
  },
  {
   "cell_type": "markdown",
   "metadata": {},
   "source": [
    "## 修改路由的颜色"
   ]
  },
  {
   "cell_type": "markdown",
   "metadata": {},
   "source": [
    "`font: #fff`"
   ]
  },
  {
   "cell_type": "markdown",
   "metadata": {},
   "source": [
    "## 可以上下滚动的原因?"
   ]
  },
  {
   "cell_type": "markdown",
   "metadata": {},
   "source": [
    "没有给顶级标签设置'overflow:hidden`\n",
    "\n",
    "```css\n",
    " .city-list {\n",
    "    position: absolute;\n",
    "    overflow: hidden;\n",
    "    top: 1.68rem;\n",
    "    left: 0;\n",
    "    right: 0;\n",
    "    bottom: 0;\n",
    "```"
   ]
  },
  {
   "cell_type": "markdown",
   "metadata": {},
   "source": [
    "## better-scroll"
   ]
  },
  {
   "cell_type": "markdown",
   "metadata": {},
   "source": [
    "`利用ref获取DOM元素`,\n",
    "\n",
    "利用生命周期函数`mounted`(DOM元素在页面挂载完毕后)来执行."
   ]
  },
  {
   "cell_type": "markdown",
   "metadata": {},
   "source": [
    "## 页面的动态数据渲染"
   ]
  },
  {
   "cell_type": "markdown",
   "metadata": {},
   "source": [
    "- 遍历的是数组\n",
    "\n",
    "`v-for=\"item of cities\" :key=\"item.id\"`\n",
    "\n",
    "`{{item}}`\n",
    "\n",
    "- 遍历的是对象    \n",
    "\n",
    "`v-for=\"(item,key) of cities\" :key=\"key\"`\n",
    "\n",
    "`{{key}} -- {{item}}`\n",
    "\n"
   ]
  },
  {
   "cell_type": "markdown",
   "metadata": {},
   "source": [
    "## 兄弟组件之间的联动"
   ]
  },
  {
   "cell_type": "markdown",
   "metadata": {},
   "source": [
    "现在我们想让'Alphabet'组件和`List`组件这样的兄弟组件进行联动."
   ]
  },
  {
   "cell_type": "markdown",
   "metadata": {},
   "source": [
    "#### target\n",
    "我们可以给右侧的字母绑定一个单击事件,然后让其打印出`e.target.innertText`,也就是它本身的字母.\n",
    "\n",
    "我们想把这个字母传递给`List`的组件.这样就达到一单击就能跳到相应的城市列表."
   ]
  },
  {
   "cell_type": "markdown",
   "metadata": {},
   "source": [
    "#### methods\n",
    "\n",
    "我们可以通过bus总线的形式进行传值.\n",
    "\n",
    "我们可以让`Alphabet`这个组件传值给`City`组件,然后让`City`组件传值给`List`这个组件"
   ]
  },
  {
   "cell_type": "markdown",
   "metadata": {},
   "source": [
    "**子组件向外部传值(Alphabet => City)**"
   ]
  },
  {
   "cell_type": "markdown",
   "metadata": {},
   "source": [
    "对于`Alphabet`组件来说,'City'组件是父组件,现在我们想往父组件里面传值.\n",
    "\n",
    "可以通过`this.$emit('change',e.target.innerText)`,向外部触发事件的形式来传值.(也就是给子组件绑定一个单击事件,同时并往外部触发一个事件.)\n",
    "\n",
    "你看到子组件向外触发一个**change事件**,只需要在父组件应用子组件的地方声明这个方法就可以了.\n",
    "\n",
    "**父组件接收数据的形式(City get Alphabet)**\n",
    "\n",
    "让期望的父组件来监听即可.监听方式为在已经使用的子组件上绑定`@change=\"handleLetterChange\"`事件即可.\n",
    "\n",
    "即在已经使用的子组件上绑定一个`@change=\"xxxx\"`事件即可,里面具体的`xxx`方法去Vue的局部组件中`methods()`处理.\n",
    "\n",
    "**父组件向子组件传递数据(City => List)**\n",
    "\n",
    "父组件向子组件传递数据的方式`是通过属性传递`.我们先定义一个初始化的值'letter: ''',然后利用`this.letter = letter`,再在已经使用的子组件上写上`:letter:letter`,这样就传过去了.\n",
    "\n",
    "**子组件接收父组件传递过来的值(List get City)**\n",
    "\n",
    "利用`props:{letter: String}`来接收传过来的数据,并声明数据类型"
   ]
  },
  {
   "cell_type": "markdown",
   "metadata": {},
   "source": [
    "**`List`组件监听传过来的值的变化**\n",
    "\n",
    "添加DOM元素的绑定.`ref=\"key\"`\n",
    "```js\n",
    "watch: {\n",
    "letter () {\n",
    "  if (this.letter) {\n",
    "    // 获取对应的DOM元素  \n",
    "    const elem = this.$refs[this.letter][0]   \n",
    "   // 只有获取特定区域的DOM元素,才能实现点击一个字母就显示对应的一段城市列表.\n",
    "    this.scroll.scrollToElement(elem)\n",
    "  }\n",
    "}\n",
    "}\n",
    "```"
   ]
  },
  {
   "cell_type": "markdown",
   "metadata": {},
   "source": [
    "![](https://upload-images.jianshu.io/upload_images/7505161-a790f411140c7613.png?imageMogr2/auto-orient/strip%7CimageView2/2/w/1240)"
   ]
  },
  {
   "cell_type": "markdown",
   "metadata": {},
   "source": [
    "**往`Alphabet`添加手指触摸的监听事件.**\n",
    "\n",
    "`TouchStart`,'TouchMove','TouchEnd'"
   ]
  },
  {
   "cell_type": "markdown",
   "metadata": {},
   "source": [
    "我们需要一个状态值来监听事件的改变,`touchStatus: false`添加到`data`中.并且使用vue中的`touchstart`,`touchmove`,`touchend`来监听屏幕的触摸移动.\n",
    "\n",
    "```js\n",
    "    handleTouchStart () {\n",
    "      this.touchStatus = true\n",
    "    },\n",
    "    handleTouchMove () {\n",
    "      if (this.touchStatus) {\n",
    "\n",
    "      }\n",
    "    },\n",
    "    handleTouchEnd () {\n",
    "      this.touchStatus = false\n",
    "    }\n",
    "```\n",
    "\n",
    "\n"
   ]
  },
  {
   "cell_type": "markdown",
   "metadata": {},
   "source": [
    "如果屏幕移动.我们需要来想一下.\n",
    "\n",
    "- 现在处的位置是第几个字母?这么想没有思路的.\n",
    "\n",
    "太过于麻烦.我们可以计算出`A`字母距离顶部的高度.\n",
    "```js\n",
    " if (this.touchStatus) {\n",
    "        const startY = this.$refs['A'][0].offsetTop // 得到开始字母'A'距离屏幕的高度\n",
    "        const touchY = e.touches[0].clientY - 86 // 得到手指距离屏幕的高度,每个字母的高度是20\n",
    "        const index = Math.floor((touchY - startY) / 20) // 得到当前手指滑动的字母的下标\n",
    "\n",
    "        if (index >= 0 && index < this.letters.length) {\n",
    "          this.$emit('change', this.letters[index]) // 这样在滑动的时候,我们就知道哪个字母往外触发事件了.\n",
    "        }\n",
    "      }\n",
    "```\n",
    "\n",
    "再计算出各个字母之间的距离.进而来触发一个change事件.利用计算好的字母的下标来获得当前字母对应的内容."
   ]
  },
  {
   "cell_type": "markdown",
   "metadata": {},
   "source": [
    "![](https://upload-images.jianshu.io/upload_images/7505161-9c648ae6431c9492.png?imageMogr2/auto-orient/strip%7CimageView2/2/w/1240)\n"
   ]
  },
  {
   "cell_type": "markdown",
   "metadata": {},
   "source": [
    "## 提高性能"
   ]
  },
  {
   "cell_type": "markdown",
   "metadata": {},
   "source": [
    "定义一个初始值: `startY: 0`,然后使用`updated()`的生命周期的钩子.\n",
    "        \n",
    "当页面数据更新的时候,页面完成自己的渲染之后,`updated`这个钩子就会执行.        \n",
    "        \n",
    "        "
   ]
  },
  {
   "cell_type": "markdown",
   "metadata": {},
   "source": [
    "```js\n",
    "  updated () {\n",
    "    this.startY = this.$refs['A'][0].offsetTop\n",
    "  },\n",
    "```\n",
    "\n"
   ]
  },
  {
   "cell_type": "markdown",
   "metadata": {},
   "source": [
    "初始化`cities`的值实际上是在`City`组件里面是个空对象.\n",
    "\n",
    "也就是页面刚加载的时候,`Alphabet`这个组件什么东西也不会加载出来.\n",
    "\n",
    "当`City`组件中的ajax获取到值得时候,`cities`的值才会发生变化.进而`Alphabet`才会被渲染出来.\n",
    "\n",
    "当往`Alphabet`传的数据发生变化的时候,`Alphabet`的页面会重新渲染.重新渲染之后,`updated()`\n",
    "\n",
    "这个生命周期的钩子就会被执行,此时已经展示出所有的页面内容,我们也就可以获取,`A`字母距离屏幕的高度了."
   ]
  },
  {
   "cell_type": "markdown",
   "metadata": {},
   "source": [
    "## 函数节流"
   ]
  },
  {
   "cell_type": "markdown",
   "metadata": {},
   "source": [
    "```js\n",
    " if (this.timer) {\n",
    "          clearTimeout(this.timer)\n",
    "        }\n",
    "        this.timer = setTimeout(() => {\n",
    "          // const startY = this.$refs['A'][0].offsetTop // get 'A' top height\n",
    "          const touchY = e.touches[0].clientY - 86 // get finger information in clientY\n",
    "          const index = Math.floor((touchY - this.startY) / 20) // 得到当前手指滑动位置得到的字母下标\n",
    "\n",
    "          if (index >= 0 && index < this.letters.length) {\n",
    "            this.$emit('change', this.letters[index]) // 这样父组件就知道你是滑的哪个字母触发的事件了.\n",
    "          }\n",
    "        }, 16)\n",
    "      }\n",
    "```"
   ]
  },
  {
   "cell_type": "markdown",
   "metadata": {},
   "source": [
    "延迟16ms之后,再去执行,假设在这16ms之间,又做了手指的滚动,会把上一次的操作清除掉.执行此次执行的任务.\n",
    "\n",
    "这样的操作可以大大节约` handleTouchMove`这个函数执行的频率.大大提高性能."
   ]
  },
  {
   "cell_type": "markdown",
   "metadata": {},
   "source": [
    "## 层级的编写"
   ]
  },
  {
   "cell_type": "markdown",
   "metadata": {},
   "source": [
    "```css\n",
    ".search-content{\n",
    "    overflow: hidden;\n",
    "    position: absolute;\n",
    "    top: 1.68rem;\n",
    "    left: 0;\n",
    "    right: 0;\n",
    "    bottom: 0;\n",
    "    background: green;\n",
    "    z-index: 1;\n",
    "  }\n",
    "```"
   ]
  },
  {
   "cell_type": "markdown",
   "metadata": {},
   "source": [
    "## 数据的双向绑定"
   ]
  },
  {
   "cell_type": "markdown",
   "metadata": {},
   "source": [
    "用在`Search`组件中,需要接收`cities`的数据,所以需要从`City`组件往子组件`Search`组件中传递`cities`\n",
    "\n",
    "`city-search(:cities=\"cities\")`\n",
    "\n",
    "- `v-modal`的使用,因为我们是搜索框输入值,所以给搜索框绑定一个变量,`v-model=\"keyword`.\n",
    "\n",
    "- 利用`watch`来监听`keyword`这个值的变化.对从父组件`City`传过来的值`cities`做一个循环.\n",
    "\n",
    "- 看`keyword`输入的值是否在'cities`遍历的值里面存在.\n",
    "\n",
    "- 如果存在,就把它们放进一个数组`list`当中,将其在下拉框中显示出来即可.\n",
    "\n",
    "- 最终把返回的`List`挂载到`li`标签上面.\n",
    "\n",
    "**细节的处理**\n",
    "\n",
    "我们将`v-show = \"!List.length\"`作为没有搜索结果的显示.而优化就是写一个计算属性,把逻辑添加到里面."
   ]
  },
  {
   "cell_type": "markdown",
   "metadata": {},
   "source": [
    "```js\n",
    "  watch: {\n",
    "    // 监听 keyword的改变\n",
    "    keyword () {\n",
    "      if (!this.keyword) {\n",
    "        this.list = []\n",
    "        return\n",
    "      }\n",
    "      // 函数节流\n",
    "      if (this.timer) {\n",
    "        clearTimeout(this.timer)\n",
    "      }\n",
    "      setTimeout(() => {\n",
    "        const result = []\n",
    "        for (let i in this.cities) {\n",
    "          // 判断关键词是否在cities中\n",
    "          this.cities[i].forEach((value) => {\n",
    "            if (value.spell.indexOf(this.keyword) > -1 || value.name.indexOf(this.keyword) > -1) {\n",
    "              result.push(value)\n",
    "            }\n",
    "          })\n",
    "        }\n",
    "        // list存储包含关键词的result\n",
    "        this.list = result\n",
    "      }, 100)\n",
    "    }\n",
    "  }\n",
    "```"
   ]
  },
  {
   "cell_type": "markdown",
   "metadata": {},
   "source": [
    "总结: \n",
    "    我们预估的状态有3种:\n",
    "       - 1.搜索框什么都不输的情况下,没有东西显示\n",
    "       - 2.搜索框搜索到正确值得情况下,显示对应的城市列表\n",
    "       - 3.搜索错误的时候,显示搜索没有结果.\n",
    "        \n",
    "        这三种情况对应的就是,我们需要在搜索框有一个搜索的关键词来侦听数据的变化.\n",
    "        1.list默认为[],keyword默认是\"\"\n",
    "        2.在侦听器中侦听数据的变化,遍历父组件传过来的城市列表.利用indexOf来判断当前的关键词是否在城市列表当中.\n",
    "        3.错误的时候,关键词不存在,将list数组置空.显示我们之前预制好的item项.\n",
    "        "
   ]
  }
 ],
 "metadata": {
  "kernelspec": {
   "display_name": "Python 3",
   "language": "python",
   "name": "python3"
  },
  "language_info": {
   "codemirror_mode": {
    "name": "ipython",
    "version": 3
   },
   "file_extension": ".py",
   "mimetype": "text/x-python",
   "name": "python",
   "nbconvert_exporter": "python",
   "pygments_lexer": "ipython3",
   "version": "3.6.1"
  }
 },
 "nbformat": 4,
 "nbformat_minor": 2
}
