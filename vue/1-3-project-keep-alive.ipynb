{
 "cells": [
  {
   "cell_type": "markdown",
   "metadata": {},
   "source": [
    "## kepp-alive优化网页性能"
   ]
  },
  {
   "cell_type": "markdown",
   "metadata": {},
   "source": [
    "每一次路由切换,ajax都会重新发送\n",
    "\n",
    "\n",
    "![](https://upload-images.jianshu.io/upload_images/7505161-3345805c54d167c0.png?imageMogr2/auto-orient/strip%7CimageView2/2/w/1240)\n",
    "\n",
    "\n"
   ]
  },
  {
   "cell_type": "markdown",
   "metadata": {},
   "source": [
    "`<router-view/>`显示路由对应的内容."
   ]
  },
  {
   "cell_type": "markdown",
   "metadata": {},
   "source": [
    "```js\n",
    "<template>\n",
    "  <div id=\"app\">\n",
    "    <!--显示路由对应的内容-->\n",
    "    <keep-alive>\n",
    "      <router-view/>\n",
    "    </keep-alive>\n",
    "  </div>\n",
    "</template>\n",
    "```"
   ]
  },
  {
   "cell_type": "markdown",
   "metadata": {},
   "source": [
    "`<keep-alive/>`是vue自带的标签.把路由加载一次之后,就把路由中的内容放到内存当中.\n",
    "\n",
    "下一次再进入路由当中,不需要再重新渲染组件."
   ]
  },
  {
   "cell_type": "markdown",
   "metadata": {},
   "source": [
    "## 携带store.js中的state的数据进行传递,达到切换不同城市换不同城市页面的目的."
   ]
  },
  {
   "cell_type": "markdown",
   "metadata": {},
   "source": [
    "```js\n",
    "import { mapState } from 'vuex'\n",
    "\n",
    "axios.get('api/data?city=' + this.city){}\n",
    "    \n",
    "computed: {\n",
    "...mapState(['city'])\n",
    "},\n",
    "\n",
    "```"
   ]
  },
  {
   "cell_type": "markdown",
   "metadata": {},
   "source": [
    "## 改变缓存中的内容(actived)"
   ]
  },
  {
   "cell_type": "markdown",
   "metadata": {},
   "source": [
    "利用生命周期函数`actived()`函数.我们从首页的组件进入到City组件,会触发`mounted & actived`组件,再从City组件,回到首页组件,只会触发`actived`组件.\n",
    "\n",
    "所以`actived`是页面重新被显示的时候被执行."
   ]
  },
  {
   "cell_type": "markdown",
   "metadata": {},
   "source": [
    "**target**: \n",
    "- 第二次选择相同城市的时候,我们不希望再发送一次ajax请求.\n",
    "- 第二次选择不同城市的时候,我们发送新的ajax请求.\n",
    "\n",
    "    \n",
    "```js\n",
    " mounted () {\n",
    "    this.lastCity = this.city\n",
    "    this.getHomeInfo()\n",
    "  },\n",
    "  activated () {\n",
    "    // 判断之前的城市和当前显示的城市是否相同\n",
    "    // 不相同,再放一次ajax请求\n",
    "    if (this.lastCity !== this.city) {\n",
    "      this.lastCity = this.city\n",
    "      this.getHomeInfo()\n",
    "    }\n",
    "  }\n",
    "}\n",
    "\n",
    "```"
   ]
  },
  {
   "cell_type": "markdown",
   "metadata": {},
   "source": [
    "## 动态路由的使用"
   ]
  },
  {
   "cell_type": "markdown",
   "metadata": {},
   "source": [
    "```js\n",
    "router-link.item.border-bottom(v-for=\"item of list\" :keys=\"item.id\" tag=\"li\" :to=\"'./detail/'+ item.id\")\n",
    "```\n",
    "```js\n",
    "{\n",
    "      path: '/detail/:id',\n",
    "      name: 'detail',\n",
    "      component: Detail\n",
    "}\n",
    "```"
   ]
  },
  {
   "cell_type": "markdown",
   "metadata": {},
   "source": [
    "## 创建公用组件\n",
    "\n",
    "在`SRC`目录下创建一个`common/gallary`的公用组件来进行测试."
   ]
  },
  {
   "cell_type": "markdown",
   "metadata": {},
   "source": [
    "```\n",
    "overflow: hidden会将高度限制死,导致别处的高度无法扩展.\n",
    "```\n",
    "## Bug\n",
    "\n",
    "遇到一个bug,在使用`vue-awesome-swiper`的时候,我需要将显示的当前页数,往下面调,而不是遮挡住图片.\n",
    "\n",
    "由于是`absolute`定位,所以我就调节bottom,但是却不显示.我猜测是`overflow:hidden`搞得鬼,所以我找了这个容器的第一个父级容器,将其设置为`inherit`,还是不行.\n",
    "\n",
    "然后我再去找他的父级容器,再将`oveflow设置为inherit`"
   ]
  },
  {
   "cell_type": "markdown",
   "metadata": {},
   "source": [
    "## activated钩子\n"
   ]
  },
  {
   "cell_type": "markdown",
   "metadata": {},
   "source": [
    "- activated会在每次页面展示的时候执行.\n",
    "- deactivated会在页面即将被替换的时候执行.\n",
    "\n",
    "- activated 生命周期在keep-alive 组件激活时调用\n",
    "- 服务器端渲染期间不调用该生命周期\n",
    "- 通常和deactivated周期一起使用"
   ]
  },
  {
   "cell_type": "markdown",
   "metadata": {},
   "source": [
    "## 手机屏幕Scroll(拖动)的函数"
   ]
  },
  {
   "cell_type": "markdown",
   "metadata": {},
   "source": [
    "`window.addEventListener('scroll', this.handleScroll)`"
   ]
  },
  {
   "cell_type": "markdown",
   "metadata": {},
   "source": [
    "## 给组件添加样式"
   ]
  },
  {
   "cell_type": "markdown",
   "metadata": {},
   "source": [
    "`:style=\"opacityStyle\"`\n",
    "\n",
    "```js\n",
    "methods: {\n",
    "    handleScroll () {\n",
    "      const top = document.documentElement.scrollTop\n",
    "      if (top > 60) {\n",
    "        let opacity = top / 140\n",
    "        opacity = opacity > 1 ? 1 : opacity\n",
    "        this.opacityStyle = { opacity }\n",
    "        this.showAbs = false\n",
    "      } else {\n",
    "        this.showAbs = true\n",
    "      }\n",
    "    }\n",
    "  },\n",
    "```"
   ]
  },
  {
   "cell_type": "markdown",
   "metadata": {},
   "source": [
    "## 对全局事件的解绑"
   ]
  },
  {
   "cell_type": "markdown",
   "metadata": {},
   "source": [
    "`window.addEventListener('scroll', this.handleScroll)`\n",
    "\n",
    "这段话绑定在了`window`这个全局对象中.所以我们需要对全局事件进行解绑.\n",
    "\n",
    "所以我们需要在每次页面即将被替换的时候移除`scroll`事件.\n",
    "\n",
    "```js\n",
    "deactivated(){\n",
    " window.remove('scroll',this.handleScroll)   \n",
    "}\n",
    "```\n"
   ]
  },
  {
   "cell_type": "markdown",
   "metadata": {},
   "source": [
    "## 递归组件的使用"
   ]
  },
  {
   "cell_type": "markdown",
   "metadata": {},
   "source": [
    "```json\n",
    "    list: [{\n",
    "        title: '成人票',\n",
    "        children:[{\n",
    "            title: '成人三馆联票'\n",
    "        },{\n",
    "            title: '成人五馆联票'\n",
    "        }]\n",
    "      }, {\n",
    "        title: '学生票'\n",
    "      }, {\n",
    "        title: '儿童票'\n",
    "      }, {\n",
    "        title: '特惠票'\n",
    "      }]\n",
    "    }\n",
    "```"
   ]
  },
  {
   "cell_type": "markdown",
   "metadata": {},
   "source": [
    "我们希望在页面上显示出一级标题以后,也同时显示二级标题."
   ]
  },
  {
   "cell_type": "markdown",
   "metadata": {},
   "source": [
    "递归组件: 使用组件自身调用自身."
   ]
  },
  {
   "cell_type": "code",
   "execution_count": 7,
   "metadata": {},
   "outputs": [
    {
     "data": {
      "text/plain": [
       "6"
      ]
     },
     "execution_count": 7,
     "metadata": {},
     "output_type": "execute_result"
    }
   ],
   "source": [
    "def fact(n):\n",
    "    if n==1:\n",
    "        return 1\n",
    "    return n * fact(n - 1)\n",
    "fact(3)\n",
    "\n",
    "#\n",
    "#\n",
    "# fact(3) = 3 * f(2)\n",
    "# fact(2) = 2 * f(1)\n",
    "# f(1) = 1\n"
   ]
  },
  {
   "cell_type": "markdown",
   "metadata": {},
   "source": [
    "```js\n",
    ".list-container\n",
    "    .item-title.border-bottom(v-for=\"item in list\" :key=\"item.id\")\n",
    "      span.item-title-icon\n",
    "      e {{item.title}}\n",
    "      .item-children(v-if=\"item.children\")\n",
    "        detail-list(:list=\"item.children\")\n",
    "```"
   ]
  },
  {
   "cell_type": "markdown",
   "metadata": {},
   "source": [
    "![](https://upload-images.jianshu.io/upload_images/7505161-4984efdcbfe981ee.png?imageMogr2/auto-orient/strip%7CimageView2/2/w/1240)\n"
   ]
  },
  {
   "cell_type": "markdown",
   "metadata": {},
   "source": [
    "## 动态的获取Ajax的请求"
   ]
  },
  {
   "cell_type": "markdown",
   "metadata": {},
   "source": [
    "```\n",
    "  methods: {\n",
    "    getDetailInfo () {\n",
    "      axios.get('api/detail?id=' + this.$route.params.id)\n",
    "        .then(this.getDetailInfoSuccess)\n",
    "    },\n",
    "    getDetailInfoSuccess (res) {\n",
    "      console.log(res)\n",
    "    }\n",
    "  },\n",
    "  mounted () {\n",
    "    this.getDetailInfo()\n",
    "  }\n",
    "```"
   ]
  },
  {
   "cell_type": "markdown",
   "metadata": {},
   "source": [
    "## ajax动态数据的获取的改写方式.\n",
    "```js\n",
    "  methods: {\n",
    "    getDetailInfo () {\n",
    "      axios.get('api/detail', {\n",
    "        // there replace above write method\n",
    "        params: {\n",
    "          id: this.$route.params.id\n",
    "        }\n",
    "      }).then(this.getDetailInfoSuccess)\n",
    "    },\n",
    "    getDetailInfoSuccess (res) {\n",
    "      console.log(res)\n",
    "      res = res.data\n",
    "      if (res.ret && res.data) {\n",
    "        const data = res.data\n",
    "        this.bannerImg = data.bannerImg\n",
    "        this.categoryList = data.categoryList\n",
    "        this.gallaryImgs = data.gallaryImgs\n",
    "        this.sightName = data.sightName\n",
    "      }\n",
    "    }\n",
    "  },\n",
    "  mounted () {\n",
    "    this.getDetailInfo()\n",
    "  }\n",
    "}\n",
    "```"
   ]
  },
  {
   "cell_type": "markdown",
   "metadata": {},
   "source": [
    "## 特定页面不做缓存"
   ]
  },
  {
   "cell_type": "markdown",
   "metadata": {},
   "source": [
    "```js\n",
    "<keep-alive exclude=\"Detail\">\n",
    "      <router-view/>\n",
    "</keep-alive>\n",
    "```"
   ]
  },
  {
   "cell_type": "markdown",
   "metadata": {},
   "source": [
    "剔除`Detail`这个页面不做缓存,也就是每次重新进入页面,重新发一次ajax请求."
   ]
  },
  {
   "cell_type": "markdown",
   "metadata": {},
   "source": [
    "## 每个页面的name有什么作用?"
   ]
  },
  {
   "cell_type": "markdown",
   "metadata": {},
   "source": [
    "- 做递归缓存的时候,用到了\n",
    "- 取消页面缓存的时候,用到了\n",
    "- Vue的调试工具,选中组件的时候会显示组件名称"
   ]
  },
  {
   "cell_type": "markdown",
   "metadata": {},
   "source": [
    "## 动画效果的添加"
   ]
  },
  {
   "cell_type": "markdown",
   "metadata": {},
   "source": [
    "**FadeAnimation.vue**\n",
    "\n",
    "```js\n",
    "<template lang=\"pug\">\n",
    "  transition\n",
    "    slot\n",
    "\n",
    "</template>\n",
    "<script type=\"text/ecmascript-6\">\n",
    "export default {\n",
    "  name: 'Fade'\n",
    "}\n",
    "</script>\n",
    "<style lang=\"postcss\" scoped>\n",
    ".v-enter,.v-leave-to{\n",
    "  opacity: 0;\n",
    "}\n",
    ".v-enter-active,.v-leave-active{\n",
    " transition: opacity .5s;\n",
    "}\n",
    "\n",
    "</style>\n",
    "\n",
    "```"
   ]
  },
  {
   "cell_type": "markdown",
   "metadata": {},
   "source": [
    "使用方式\n",
    "\n",
    "```pug\n",
    "fade\n",
    " common-gallary(:imgs=\"gallaryImgs\" v-show=\"showGallary\" @close=\"handleCloseGallary\")\n",
    "```\n",
    "\n",
    "此刻,`common-gallary`就以插槽的形式在`fade`组件里面显示.也就是说,上面的`slot`就是现在的`common-gallary`"
   ]
  },
  {
   "cell_type": "markdown",
   "metadata": {},
   "source": [
    "## 阻止touchStart事件的默认行为"
   ]
  },
  {
   "cell_type": "markdown",
   "metadata": {},
   "source": [
    "```js\n",
    "@touchstart.prevent=\"handleTouchStart\"\n",
    "```"
   ]
  },
  {
   "cell_type": "markdown",
   "metadata": {},
   "source": [
    "## 手机访问网页是白屏的效果的解决方式\n",
    "原因:\n",
    "\n",
    "- 手机浏览器默认不支持`Promise`\n",
    "\n",
    "安装`babel-polyfill`,如果手机不支持Es6的新特性,`polyfill`会自动添加这些新特性.\n"
   ]
  },
  {
   "cell_type": "markdown",
   "metadata": {},
   "source": [
    "## Vue知识学习"
   ]
  },
  {
   "cell_type": "markdown",
   "metadata": {},
   "source": [
    "vue-router\n",
    "vuex\n",
    "服务器端渲染\n",
    "vue插件\n",
    "vue源码"
   ]
  },
  {
   "cell_type": "code",
   "execution_count": null,
   "metadata": {},
   "outputs": [],
   "source": [
    "365 - 175.5 - 175.5 = 14(剩余空间)\n",
    "\n",
    "\n"
   ]
  }
 ],
 "metadata": {
  "kernelspec": {
   "display_name": "Python 3",
   "language": "python",
   "name": "python3"
  },
  "language_info": {
   "codemirror_mode": {
    "name": "ipython",
    "version": 3
   },
   "file_extension": ".py",
   "mimetype": "text/x-python",
   "name": "python",
   "nbconvert_exporter": "python",
   "pygments_lexer": "ipython3",
   "version": "3.6.1"
  }
 },
 "nbformat": 4,
 "nbformat_minor": 2
}
