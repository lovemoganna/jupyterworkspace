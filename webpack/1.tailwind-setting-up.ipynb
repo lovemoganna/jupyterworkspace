{
 "cells": [
  {
   "cell_type": "markdown",
   "metadata": {},
   "source": [
    "## REFERENCE ADDRESS "
   ]
  },
  {
   "cell_type": "markdown",
   "metadata": {},
   "source": [
    "https://flaviocopes.com/tailwind-setup/"
   ]
  },
  {
   "cell_type": "code",
   "execution_count": 6,
   "metadata": {},
   "outputs": [
    {
     "data": {
      "text/html": [
       "<iframe width=\"729\" height=\"410\" src=\"https://www.youtube.com/embed/xTiWDVKz8u4\" frameborder=\"0\" allow=\"accelerometer; autoplay; encrypted-media; gyroscope; picture-in-picture\" allowfullscreen></iframe>"
      ],
      "text/plain": [
       "<IPython.core.display.HTML object>"
      ]
     },
     "execution_count": 6,
     "metadata": {},
     "output_type": "execute_result"
    }
   ],
   "source": [
    "from IPython.display import HTML\n",
    "\n",
    "HTML('<iframe width=\"729\" height=\"410\" src=\"https://www.youtube.com/embed/xTiWDVKz8u4\" frameborder=\"0\" allow=\"accelerometer; autoplay; encrypted-media; gyroscope; picture-in-picture\" allowfullscreen></iframe>')"
   ]
  },
  {
   "cell_type": "markdown",
   "metadata": {},
   "source": [
    "### install tailwind\n",
    "\n",
    "```text\n",
    "# Using npm\n",
    "npm install tailwindcss --save-dev\n",
    "\n",
    "# Using Yarn\n",
    "yarn add tailwindcss --dev\n",
    "```\n",
    "\n",
    "### create configure file \n",
    "\n",
    "```text\n",
    "./node_modules/.bin/tailwind init tailwind.js\n",
    "```\n",
    "这个配置文件会生成在根目录下.\n",
    "\n",
    "### CONFIGURE POSTCSS\n",
    "\n",
    "create `postcss.config.js` file in root path \n",
    "\n",
    "```js\n",
    "const tailwindcss = require('tailwindcss')\n",
    "\n",
    "module.exports = {\n",
    "  \"plugins\": [\n",
    "    require('tailwindcss')('tailwind.js'),\n",
    "    require('autoprefixer')(),\n",
    "  ]\n",
    "}\n",
    "```\n"
   ]
  }
 ],
 "metadata": {
  "kernelspec": {
   "display_name": "Python 3",
   "language": "python",
   "name": "python3"
  },
  "language_info": {
   "codemirror_mode": {
    "name": "ipython",
    "version": 3
   },
   "file_extension": ".py",
   "mimetype": "text/x-python",
   "name": "python",
   "nbconvert_exporter": "python",
   "pygments_lexer": "ipython3",
   "version": "3.6.1"
  }
 },
 "nbformat": 4,
 "nbformat_minor": 2
}
