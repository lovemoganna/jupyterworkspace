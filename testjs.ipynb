{
 "cells": [
  {
   "cell_type": "code",
   "execution_count": null,
   "metadata": {},
   "outputs": [],
   "source": [
    "## Reference "
   ]
  },
  {
   "cell_type": "code",
   "execution_count": 13,
   "metadata": {},
   "outputs": [
    {
     "data": {
      "text/html": [
       "<div style='background-color:olive;width:50px;height:50px'></div>"
      ]
     },
     "execution_count": 13,
     "metadata": {},
     "output_type": "execute_result"
    }
   ],
   "source": [
    "$$.html(\"<div style='background-color:olive;width:50px;height:50px'></div>\");"
   ]
  },
  {
   "cell_type": "code",
   "execution_count": 8,
   "metadata": {},
   "outputs": [
    {
     "data": {
      "text/plain": [
       "{ async: [Function: bound async],\n",
       "  done: [Function: bound done],\n",
       "  sendResult: [Function: bound ],\n",
       "  sendError: [Function: bound ],\n",
       "  mime: [Function: bound ],\n",
       "  text: [Function: bound ],\n",
       "  html: [Function: bound ],\n",
       "  svg: [Function: bound ],\n",
       "  png: [Function: bound ],\n",
       "  jpeg: [Function: bound ],\n",
       "  json: [Function: bound ],\n",
       "  input: [Function: bound input],\n",
       "  display: [Function: bound createDisplay] }"
      ]
     },
     "execution_count": 8,
     "metadata": {},
     "output_type": "execute_result"
    }
   ],
   "source": [
    "$$"
   ]
  },
  {
   "cell_type": "code",
   "execution_count": 10,
   "metadata": {},
   "outputs": [
    {
     "data": {
      "image/svg+xml": [
       "<svg><rect width=80 height=80 style='fill: orange;'/></svg>"
      ]
     },
     "execution_count": 10,
     "metadata": {},
     "output_type": "execute_result"
    }
   ],
   "source": [
    "$$.svg(\"<svg><rect width=80 height=80 style='fill: orange;'/></svg>\");"
   ]
  },
  {
   "cell_type": "code",
   "execution_count": 11,
   "metadata": {},
   "outputs": [
    {
     "ename": "Error",
     "evalue": "ENOENT: no such file or directory, open 'C:\\Users\\Administrator\\Desktop\\jupyter\\jupyterworkspace\\image.png'",
     "execution_count": 11,
     "output_type": "error",
     "traceback": [
      "fs.js:646",
      "  return binding.open(pathModule._makeLong(path), stringToFlags(flags), mode);",
      "                 ^",
      "",
      "Error: ENOENT: no such file or directory, open 'C:\\Users\\Administrator\\Desktop\\jupyter\\jupyterworkspace\\image.png'",
      "    at Object.fs.openSync (fs.js:646:18)",
      "    at Object.fs.readFileSync (fs.js:551:33)",
      "    at evalmachine.<anonymous>:1:22",
      "    at ContextifyScript.Script.runInThisContext (vm.js:50:33)",
      "    at Object.runInThisContext (vm.js:139:38)",
      "    at run ([eval]:1002:15)",
      "    at onRunRequest ([eval]:829:18)",
      "    at onMessage ([eval]:789:13)",
      "    at emitTwo (events.js:126:13)",
      "    at process.emit (events.js:214:7)"
     ]
    }
   ],
   "source": [
    "$$.png(require(\"fs\").readFileSync(\"image.png\").toString(\"base64\"));"
   ]
  },
  {
   "cell_type": "code",
   "execution_count": null,
   "metadata": {},
   "outputs": [],
   "source": []
  }
 ],
 "metadata": {
  "kernelspec": {
   "display_name": "Javascript (Node.js)",
   "language": "javascript",
   "name": "javascript"
  },
  "language_info": {
   "file_extension": ".js",
   "mimetype": "application/javascript",
   "name": "javascript",
   "version": "8.9.2"
  }
 },
 "nbformat": 4,
 "nbformat_minor": 2
}
